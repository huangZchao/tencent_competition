{
 "cells": [
  {
   "cell_type": "code",
   "execution_count": 2,
   "metadata": {},
   "outputs": [],
   "source": [
    "from sklearn.feature_extraction.text import CountVectorizer, TfidfVectorizer\n",
    "import sys\n",
    "sys.path.append('../../')\n",
    "\n",
    "from config import *\n",
    "import pandas as pd\n",
    "from tools import *\n",
    "import numpy as np\n",
    "from sklearn.model_selection import KFold\n",
    "import lightgbm as lgb\n",
    "from tqdm import tqdm\n",
    "from scipy import sparse\n",
    "import matplotlib.pyplot as plt\n",
    "import scipy"
   ]
  },
  {
   "cell_type": "code",
   "execution_count": 3,
   "metadata": {},
   "outputs": [],
   "source": [
    "### target\n",
    "target = pd.read_pickle(TRAIN_DIR+USER_LOG_PATH)\n",
    "target = target.groupby(['user_id']).agg('first').reset_index()"
   ]
  },
  {
   "cell_type": "markdown",
   "metadata": {},
   "source": [
    "## 点击list TFIDF"
   ]
  },
  {
   "cell_type": "code",
   "execution_count": 4,
   "metadata": {},
   "outputs": [],
   "source": [
    "tr_click_seq = pd.read_pickle(TRAIN_DIR+CLK_PATH_DICT['ad_id'])\n",
    "ts_click_seq = pd.read_pickle(TEST_DIR+CLK_PATH_DICT['ad_id'])\n",
    "\n",
    "click_seq = pd.concat([tr_click_seq, ts_click_seq], axis=0)['ad_id'].values.tolist()\n",
    "\n",
    "tfidf = TfidfVectorizer(tokenizer=lambda x: x, max_df=0.9, min_df=30, lowercase=False)\n",
    "tfidf_user = tfidf.fit_transform(click_seq)\n",
    "\n",
    "tfidf_user = tfidf_user.astype('float32')"
   ]
  },
  {
   "cell_type": "code",
   "execution_count": 5,
   "metadata": {},
   "outputs": [],
   "source": [
    "train_csr = tfidf_user[:900000]\n",
    "test_csr  = tfidf_user[900000:]"
   ]
  },
  {
   "cell_type": "code",
   "execution_count": 6,
   "metadata": {},
   "outputs": [],
   "source": [
    "X_train, Y_train = train_csr, target['gender']-1\n",
    "X_test = test_csr"
   ]
  },
  {
   "cell_type": "code",
   "execution_count": 7,
   "metadata": {},
   "outputs": [],
   "source": [
    "# # 测试集，画图对预测值和实际值进行比较\n",
    "# def test_validate(x_test, y_test, y_predict, classifier):\n",
    "#     x = range(len(y_test))\n",
    "#     plt.plot(x, y_test, \"ro\", markersize=5, zorder=3, label=u\"true_v\")\n",
    "#     plt.plot(x, y_predict, \"go\", markersize=8, zorder=2, label=u\"predict_v,$R^2$=%.3f\" % classifier.score(x_test, y_test))\n",
    "#     plt.legend(loc=\"upper left\")\n",
    "#     plt.xlabel(\"number\")\n",
    "#     plt.ylabel(\"true?\")\n",
    "#     plt.show()"
   ]
  },
  {
   "cell_type": "code",
   "execution_count": 8,
   "metadata": {},
   "outputs": [],
   "source": [
    "from sklearn.linear_model import LogisticRegression\n",
    "from sklearn.linear_model import SGDClassifier\n",
    "from sklearn.linear_model import PassiveAggressiveClassifier\n",
    "from sklearn.linear_model import RidgeClassifier\n",
    "from sklearn.naive_bayes import BernoulliNB\n",
    "from sklearn.naive_bayes import MultinomialNB\n",
    "from sklearn.calibration import CalibratedClassifierCV"
   ]
  },
  {
   "cell_type": "code",
   "execution_count": 9,
   "metadata": {},
   "outputs": [],
   "source": [
    "N_SPLITS = 5\n",
    "folds = KFold(n_splits=N_SPLITS, shuffle=True, random_state=np.random.randint(2020))"
   ]
  },
  {
   "cell_type": "code",
   "execution_count": 21,
   "metadata": {},
   "outputs": [],
   "source": [
    "train_df = tr_click_seq[['user_id']]\n",
    "test_df = ts_click_seq[['user_id']]"
   ]
  },
  {
   "cell_type": "code",
   "execution_count": 22,
   "metadata": {},
   "outputs": [],
   "source": [
    "STACKING_FEAT = ['lr', 'sgd', 'pac', 'rc', 'bnb', 'mnb']\n",
    "STACKING_MODEL = [LogisticRegression(n_jobs=6), CalibratedClassifierCV(SGDClassifier(early_stopping=True, n_jobs=6)),\n",
    "                 PassiveAggressiveClassifier(early_stopping=True, n_jobs=6), RidgeClassifier(),\n",
    "                 BernoulliNB(), MultinomialNB()]\n",
    "\n",
    "STACKING_MODEL = dict(zip(STACKING_FEAT, STACKING_MODEL))"
   ]
  },
  {
   "cell_type": "code",
   "execution_count": 23,
   "metadata": {},
   "outputs": [],
   "source": [
    "for feat in STACKING_FEAT:\n",
    "    train_df['gender_'+feat] = 0.\n",
    "    test_df['gender_'+feat] = 0."
   ]
  },
  {
   "cell_type": "code",
   "execution_count": 29,
   "metadata": {
    "scrolled": true
   },
   "outputs": [
    {
     "name": "stdout",
     "output_type": "stream",
     "text": [
      "fold n°1\n",
      "accuracy: 0.9121111111111111\n",
      "fold n°2\n",
      "accuracy: 0.9106555555555556\n",
      "fold n°3\n",
      "accuracy: 0.9112388888888889\n",
      "fold n°4\n",
      "accuracy: 0.9108944444444445\n",
      "fold n°5\n",
      "accuracy: 0.9110388888888888\n"
     ]
    }
   ],
   "source": [
    "feat = STACKING_FEAT[0]\n",
    "predict_age = np.zeros((len(test_df), ))\n",
    "for fold_, (trn_idx, val_idx) in enumerate(folds.split(X_train, Y_train)):\n",
    "    print(\"fold n°{}\".format(fold_+1))\n",
    "    x_train, y_train = X_train[trn_idx], Y_train[trn_idx]\n",
    "    x_val, y_val = X_train[val_idx], Y_train[val_idx]\n",
    "\n",
    "    model = STACKING_MODEL[feat]\n",
    "    model.fit(x_train, y_train)\n",
    "\n",
    "    r = model.score(x_val, y_val)\n",
    "    print(\"accuracy:\", r)\n",
    "\n",
    "    train_df.loc[val_idx, ['gender_%s'% feat]] = model.predict_proba(x_val)[:, 0]\n",
    "    predict_age += model.predict_proba(X_test)[:, 0]\n",
    "\n",
    "test_df.loc[:, ['gender_%s'% feat]] = predict_age/N_SPLITS"
   ]
  },
  {
   "cell_type": "code",
   "execution_count": 30,
   "metadata": {},
   "outputs": [
    {
     "name": "stdout",
     "output_type": "stream",
     "text": [
      "fold n°1\n",
      "accuracy: 0.8763888888888889\n",
      "fold n°2\n",
      "accuracy: 0.8762666666666666\n",
      "fold n°3\n",
      "accuracy: 0.8753944444444445\n",
      "fold n°4\n",
      "accuracy: 0.8764833333333333\n",
      "fold n°5\n",
      "accuracy: 0.8765722222222222\n"
     ]
    }
   ],
   "source": [
    "feat = STACKING_FEAT[1]\n",
    "predict_age = np.zeros((len(test_df), ))\n",
    "for fold_, (trn_idx, val_idx) in enumerate(folds.split(X_train, Y_train)):\n",
    "    print(\"fold n°{}\".format(fold_+1))\n",
    "    x_train, y_train = X_train[trn_idx], Y_train[trn_idx]\n",
    "    x_val, y_val = X_train[val_idx], Y_train[val_idx]\n",
    "\n",
    "    model = STACKING_MODEL[feat]\n",
    "    model.fit(x_train, y_train)\n",
    "\n",
    "    r = model.score(x_val, y_val)\n",
    "    print(\"accuracy:\", r)\n",
    "\n",
    "    train_df.loc[val_idx, ['gender_%s'% feat]] = model.predict_proba(x_val)[:, 0]\n",
    "    predict_age += model.predict_proba(X_test)[:, 0]\n",
    "\n",
    "test_df.loc[:, ['gender_%s'% feat]] = predict_age/N_SPLITS"
   ]
  },
  {
   "cell_type": "code",
   "execution_count": 32,
   "metadata": {},
   "outputs": [
    {
     "name": "stdout",
     "output_type": "stream",
     "text": [
      "fold n°1\n",
      "accuracy: 0.8856166666666667\n",
      "fold n°2\n",
      "accuracy: 0.8874555555555556\n",
      "fold n°3\n",
      "accuracy: 0.8874888888888889\n",
      "fold n°4\n",
      "accuracy: 0.8867055555555555\n",
      "fold n°5\n",
      "accuracy: 0.8895222222222222\n"
     ]
    }
   ],
   "source": [
    "feat = STACKING_FEAT[2]\n",
    "predict_age = np.zeros((len(test_df), ))\n",
    "for fold_, (trn_idx, val_idx) in enumerate(folds.split(X_train, Y_train)):\n",
    "    print(\"fold n°{}\".format(fold_+1))\n",
    "    x_train, y_train = X_train[trn_idx], Y_train[trn_idx]\n",
    "    x_val, y_val = X_train[val_idx], Y_train[val_idx]\n",
    "\n",
    "    model = STACKING_MODEL[feat]\n",
    "    model.fit(x_train, y_train)\n",
    "\n",
    "    r = model.score(x_val, y_val)\n",
    "    print(\"accuracy:\", r)\n",
    "\n",
    "    train_df.loc[val_idx, ['gender_%s'% feat]] = model.decision_function(x_val)\n",
    "    predict_age += model.decision_function(X_test)\n",
    "\n",
    "test_df.loc[:, ['gender_%s'% feat]] = predict_age/N_SPLITS"
   ]
  },
  {
   "cell_type": "code",
   "execution_count": 33,
   "metadata": {},
   "outputs": [
    {
     "name": "stdout",
     "output_type": "stream",
     "text": [
      "fold n°1\n",
      "accuracy: 0.8966388888888889\n",
      "fold n°2\n",
      "accuracy: 0.8964555555555556\n",
      "fold n°3\n",
      "accuracy: 0.8953888888888889\n",
      "fold n°4\n",
      "accuracy: 0.8957\n",
      "fold n°5\n",
      "accuracy: 0.8970222222222223\n"
     ]
    }
   ],
   "source": [
    "feat = STACKING_FEAT[3]\n",
    "predict_age = np.zeros((len(test_df), ))\n",
    "for fold_, (trn_idx, val_idx) in enumerate(folds.split(X_train, Y_train)):\n",
    "    print(\"fold n°{}\".format(fold_+1))\n",
    "    x_train, y_train = X_train[trn_idx], Y_train[trn_idx]\n",
    "    x_val, y_val = X_train[val_idx], Y_train[val_idx]\n",
    "\n",
    "    model = STACKING_MODEL[feat]\n",
    "    model.fit(x_train, y_train)\n",
    "\n",
    "    r = model.score(x_val, y_val)\n",
    "    print(\"accuracy:\", r)\n",
    "\n",
    "    train_df.loc[val_idx, ['gender_%s'% feat]] = model.decision_function(x_val)\n",
    "    predict_age += model.decision_function(X_test)\n",
    "\n",
    "test_df.loc[:, ['gender_%s'% feat]] = predict_age/N_SPLITS"
   ]
  },
  {
   "cell_type": "code",
   "execution_count": 35,
   "metadata": {},
   "outputs": [
    {
     "name": "stdout",
     "output_type": "stream",
     "text": [
      "fold n°1\n",
      "accuracy: 0.9115666666666666\n",
      "fold n°2\n",
      "accuracy: 0.9114111111111111\n",
      "fold n°3\n",
      "accuracy: 0.9095888888888889\n",
      "fold n°4\n",
      "accuracy: 0.9111611111111111\n",
      "fold n°5\n",
      "accuracy: 0.91175\n"
     ]
    }
   ],
   "source": [
    "feat = STACKING_FEAT[4]\n",
    "predict_age = np.zeros((len(test_df), ))\n",
    "for fold_, (trn_idx, val_idx) in enumerate(folds.split(X_train, Y_train)):\n",
    "    print(\"fold n°{}\".format(fold_+1))\n",
    "    x_train, y_train = X_train[trn_idx], Y_train[trn_idx]\n",
    "    x_val, y_val = X_train[val_idx], Y_train[val_idx]\n",
    "\n",
    "    model = STACKING_MODEL[feat]\n",
    "    model.fit(x_train, y_train)\n",
    "\n",
    "    r = model.score(x_val, y_val)\n",
    "    print(\"accuracy:\", r)\n",
    "\n",
    "    train_df.loc[val_idx, ['gender_%s'% feat]] = model.predict_proba(x_val)[:, 0]\n",
    "    predict_age += model.predict_proba(X_test)[:, 0]\n",
    "\n",
    "test_df.loc[:, ['gender_%s'% feat]] = predict_age/N_SPLITS"
   ]
  },
  {
   "cell_type": "code",
   "execution_count": 34,
   "metadata": {},
   "outputs": [
    {
     "name": "stdout",
     "output_type": "stream",
     "text": [
      "fold n°1\n",
      "accuracy: 0.9117222222222222\n",
      "fold n°2\n",
      "accuracy: 0.9114833333333333\n",
      "fold n°3\n",
      "accuracy: 0.9099055555555555\n",
      "fold n°4\n",
      "accuracy: 0.9102888888888889\n",
      "fold n°5\n",
      "accuracy: 0.91165\n"
     ]
    }
   ],
   "source": [
    "feat = STACKING_FEAT[5]\n",
    "predict_age = np.zeros((len(test_df), ))\n",
    "for fold_, (trn_idx, val_idx) in enumerate(folds.split(X_train, Y_train)):\n",
    "    print(\"fold n°{}\".format(fold_+1))\n",
    "    x_train, y_train = X_train[trn_idx], Y_train[trn_idx]\n",
    "    x_val, y_val = X_train[val_idx], Y_train[val_idx]\n",
    "\n",
    "    model = STACKING_MODEL[feat]\n",
    "    model.fit(x_train, y_train)\n",
    "\n",
    "    r = model.score(x_val, y_val)\n",
    "    print(\"accuracy:\", r)\n",
    "\n",
    "    train_df.loc[val_idx, ['gender_%s'% feat]] = model.predict_proba(x_val)[:, 0]\n",
    "    predict_age += model.predict_proba(X_test)[:, 0]\n",
    "\n",
    "test_df.loc[:, ['gender_%s'% feat]] = predict_age/N_SPLITS"
   ]
  },
  {
   "cell_type": "code",
   "execution_count": 36,
   "metadata": {},
   "outputs": [],
   "source": [
    "train_df = train_df.set_index('user_id')\n",
    "test_df = test_df.set_index('user_id')"
   ]
  },
  {
   "cell_type": "code",
   "execution_count": 37,
   "metadata": {},
   "outputs": [],
   "source": [
    "train_df.to_pickle(TRAIN_DIR+'tfidf_stack_gender.pkl')"
   ]
  },
  {
   "cell_type": "code",
   "execution_count": 38,
   "metadata": {},
   "outputs": [],
   "source": [
    "test_df.to_pickle(TEST_DIR+'tfidf_stack_gender.pkl')"
   ]
  },
  {
   "cell_type": "markdown",
   "metadata": {},
   "source": [
    "## 统计特征"
   ]
  },
  {
   "cell_type": "code",
   "execution_count": 100,
   "metadata": {},
   "outputs": [],
   "source": [
    "### Per Day Click Times\n",
    "tr_per_day_clk_times = pd.read_pickle(TRAIN_DIR+CLK_PATH_DICT['per_day_click'])\n",
    "ts_per_day_clk_times = pd.read_pickle(TEST_DIR+CLK_PATH_DICT['per_day_click'])\n",
    "\n",
    "### Kfold Target Encode\n",
    "tr_kfold_te = pd.read_pickle(TRAIN_DIR+CLK_PATH_DICT['kfold_te'])\n",
    "ts_kfold_te = pd.read_pickle(TEST_DIR+CLK_PATH_DICT['kfold_te'])\n",
    "\n",
    "### Sequence Statistic Feature\n",
    "tr_seq_statistic = pd.read_pickle(TRAIN_DIR+CLK_PATH_DICT['seq_statistic'])\n",
    "ts_seq_statistic = pd.read_pickle(TEST_DIR+CLK_PATH_DICT['seq_statistic'])"
   ]
  },
  {
   "cell_type": "markdown",
   "metadata": {},
   "source": [
    "### Countvec 特征"
   ]
  },
  {
   "cell_type": "code",
   "execution_count": 107,
   "metadata": {},
   "outputs": [],
   "source": [
    "tr_click_seq = pd.read_pickle(TRAIN_DIR+CLK_PATH_DICT['ad_id'])\n",
    "ts_click_seq = pd.read_pickle(TEST_DIR+CLK_PATH_DICT['ad_id'])\n",
    "\n",
    "assert tr_click_seq['user_id'].values.tolist() == train_df.index.values.tolist()\n",
    "assert ts_click_seq['user_id'].values.tolist() == test_df.index.values.tolist()\n",
    "\n",
    "click_seq = pd.concat([tr_click_seq, ts_click_seq], axis=0)['ad_id'].values.tolist()\n",
    "\n",
    "cntv = CountVectorizer(tokenizer=lambda x: x, max_df=0.9, min_df=30, lowercase=False)\n",
    "\n",
    "cntv_user = cntv.fit_transform(click_seq)\n",
    "\n",
    "cntv_user = cntv_user.astype('float32')"
   ]
  },
  {
   "cell_type": "code",
   "execution_count": 121,
   "metadata": {},
   "outputs": [],
   "source": [
    "scipy.sparse.save_npz(TRAIN_DIR+'countvec.npz', cntv_user)"
   ]
  },
  {
   "cell_type": "markdown",
   "metadata": {},
   "source": [
    "### Merge"
   ]
  },
  {
   "cell_type": "code",
   "execution_count": 109,
   "metadata": {},
   "outputs": [],
   "source": [
    "train_df = pd.concat([tr_per_day_clk_times, tr_kfold_te, tr_seq_statistic, train_df], axis=1)\n",
    "test_df = pd.concat([ts_per_day_clk_times, ts_kfold_te, ts_seq_statistic, test_df], axis=1)"
   ]
  },
  {
   "cell_type": "code",
   "execution_count": 113,
   "metadata": {},
   "outputs": [],
   "source": [
    "train_csr = sparse.csr_matrix(train_df.values)\n",
    "test_csr = sparse.csr_matrix(test_df.values)"
   ]
  },
  {
   "cell_type": "code",
   "execution_count": 114,
   "metadata": {},
   "outputs": [],
   "source": [
    "train_csr = sparse.hstack((train_csr, cntv_user[:900000])).tocsr()\n",
    "test_csr  = sparse.hstack((test_csr , cntv_user[900000:])).tocsr()"
   ]
  },
  {
   "cell_type": "code",
   "execution_count": 115,
   "metadata": {},
   "outputs": [],
   "source": [
    "X_train, y_train = train_csr, target['age']-1\n",
    "X_test = test_csr"
   ]
  },
  {
   "cell_type": "markdown",
   "metadata": {},
   "source": [
    "# Metric"
   ]
  },
  {
   "cell_type": "code",
   "execution_count": 116,
   "metadata": {},
   "outputs": [],
   "source": [
    "def accuracy(y_true, y_pred):\n",
    "    assert len(y_true) == len(y_pred), \"length of y_true and y_pred not equal\"\n",
    "    total_example = len(y_true)\n",
    "    right_cnt = 0\n",
    "    for t, p in zip(y_true, y_pred):\n",
    "        if t == p:\n",
    "            right_cnt += 1\n",
    "    return right_cnt / total_example"
   ]
  },
  {
   "cell_type": "markdown",
   "metadata": {},
   "source": [
    "# Model"
   ]
  },
  {
   "cell_type": "code",
   "execution_count": 117,
   "metadata": {},
   "outputs": [],
   "source": [
    "param = { \n",
    "    'boosting_type': 'gbdt',  \n",
    "    'objective': 'multiclass',  \n",
    "    'num_class': 10,  \n",
    "    'metric': ['multi_error'],  \n",
    "    'num_leaves': 2**9,  \n",
    "    'min_data_in_leaf': 500,  \n",
    "    'learning_rate': 0.1,  \n",
    "    'feature_fraction': 0.8,  \n",
    "    'bagging_fraction': 0.8,  \n",
    "    'bagging_freq': 5,  \n",
    "    'lambda_l1': 0.4,  \n",
    "    'lambda_l2': 0.5,  \n",
    "    'min_gain_to_split': 0.2,  \n",
    "    'verbose': -1,\n",
    "    'num_threads':6,\n",
    "    'n_estimators': 1000\n",
    "}"
   ]
  },
  {
   "cell_type": "code",
   "execution_count": 118,
   "metadata": {},
   "outputs": [
    {
     "name": "stdout",
     "output_type": "stream",
     "text": [
      "fold n°1\n"
     ]
    },
    {
     "name": "stderr",
     "output_type": "stream",
     "text": [
      "/home/huangzc/anaconda3/envs/competition-py36/lib/python3.6/site-packages/lightgbm/engine.py:148: UserWarning: Found `n_estimators` in params. Will use it instead of argument\n",
      "  warnings.warn(\"Found `{}` in params. Will use it instead of argument\".format(alias))\n"
     ]
    },
    {
     "name": "stdout",
     "output_type": "stream",
     "text": [
      "Training until validation scores don't improve for 200 rounds\n",
      "[100]\ttraining's multi_error: 0.359246\tvalid_1's multi_error: 0.566222\n",
      "[200]\ttraining's multi_error: 0.194715\tvalid_1's multi_error: 0.565972\n",
      "[300]\ttraining's multi_error: 0.0985569\tvalid_1's multi_error: 0.566239\n",
      "Early stopping, best iteration is:\n",
      "[183]\ttraining's multi_error: 0.217036\tvalid_1's multi_error: 0.565367\n",
      "kfold: 1, accuracy: 0.4346\n"
     ]
    }
   ],
   "source": [
    "N_SPLITS = 5\n",
    "folds = KFold(n_splits=N_SPLITS, shuffle=True, random_state=np.random.randint(2020))\n",
    "# 五折交叉验证\n",
    "for fold_, (trn_idx, val_idx) in enumerate(folds.split(X_train, y_train)):\n",
    "    print(\"fold n°{}\".format(fold_+1))\n",
    "    trn_data = lgb.Dataset(X_train[trn_idx], y_train[trn_idx])\n",
    "    val_data = lgb.Dataset(X_train[val_idx], y_train[val_idx])\n",
    "\n",
    "    clf = lgb.train(param, \n",
    "                    trn_data, \n",
    "                    valid_sets = [trn_data, val_data], \n",
    "                    verbose_eval = 100, \n",
    "                    early_stopping_rounds = 200)\n",
    "    \n",
    "    y_val_pred = clf.predict(X_train[val_idx])\n",
    "    y_val_pred = np.argmax(y_val_pred,axis=-1).tolist()\n",
    "    acc = accuracy(y_train[val_idx].values.tolist(), y_val_pred)\n",
    "    print(\"kfold: {:d}, accuracy: {:.4f}\".format(fold_+1, acc))\n",
    "    \n",
    "    break"
   ]
  },
  {
   "cell_type": "code",
   "execution_count": null,
   "metadata": {},
   "outputs": [],
   "source": []
  }
 ],
 "metadata": {
  "kernelspec": {
   "display_name": "competition-py36",
   "language": "python",
   "name": "competition-py36"
  },
  "language_info": {
   "codemirror_mode": {
    "name": "ipython",
    "version": 3
   },
   "file_extension": ".py",
   "mimetype": "text/x-python",
   "name": "python",
   "nbconvert_exporter": "python",
   "pygments_lexer": "ipython3",
   "version": "3.6.10"
  }
 },
 "nbformat": 4,
 "nbformat_minor": 4
}
