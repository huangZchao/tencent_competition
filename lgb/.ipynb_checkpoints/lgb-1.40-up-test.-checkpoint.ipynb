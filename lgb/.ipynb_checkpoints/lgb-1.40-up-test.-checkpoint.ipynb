{
 "cells": [
  {
   "cell_type": "code",
   "execution_count": 1,
   "metadata": {},
   "outputs": [],
   "source": [
    "from sklearn.feature_extraction.text import CountVectorizer, TfidfVectorizer\n",
    "import sys\n",
    "sys.path.append('../')\n",
    "\n",
    "from config import *\n",
    "import pandas as pd\n",
    "from tools import *\n",
    "import numpy as np\n",
    "from sklearn.model_selection import KFold\n",
    "import lightgbm as lgb\n",
    "from tqdm import tqdm\n",
    "from scipy import sparse\n",
    "import matplotlib.pyplot as plt\n",
    "import scipy"
   ]
  },
  {
   "cell_type": "code",
   "execution_count": 5,
   "metadata": {},
   "outputs": [],
   "source": [
    "TARGET = 'age'"
   ]
  },
  {
   "cell_type": "code",
   "execution_count": 2,
   "metadata": {},
   "outputs": [],
   "source": [
    "### target\n",
    "target = pd.read_pickle(TRAIN_DIR+USER_LOG_PATH)\n",
    "target = target.groupby(['user_id']).agg('first').reset_index()"
   ]
  },
  {
   "cell_type": "markdown",
   "metadata": {},
   "source": [
    "## 统计特征"
   ]
  },
  {
   "cell_type": "code",
   "execution_count": 12,
   "metadata": {},
   "outputs": [],
   "source": [
    "### Per Day Click Times\n",
    "tr_per_day_clk_times = pd.read_pickle(TRAIN_DIR+CLK_PATH_DICT['per_day_click'])\n",
    "ts_per_day_clk_times = pd.read_pickle(TEST_DIR+CLK_PATH_DICT['per_day_click'])\n",
    "\n",
    "### Kfold Target Encode\n",
    "tr_kfold_te = pd.read_pickle(TRAIN_DIR+CLK_PATH_DICT['kfold_te_%s'%TARGET])\n",
    "ts_kfold_te = pd.read_pickle(TEST_DIR+CLK_PATH_DICT['kfold_te_%s'%TARGET])\n",
    "\n",
    "### Sequence Statistic Feature\n",
    "tr_seq_statistic = pd.read_pickle(TRAIN_DIR+CLK_PATH_DICT['seq_statistic'])\n",
    "ts_seq_statistic = pd.read_pickle(TEST_DIR+CLK_PATH_DICT['seq_statistic'])"
   ]
  },
  {
   "cell_type": "markdown",
   "metadata": {},
   "source": [
    "## 点击list TFIDF"
   ]
  },
  {
   "cell_type": "code",
   "execution_count": 10,
   "metadata": {},
   "outputs": [],
   "source": [
    "tfidf_creative_id = sparse.load_npz(TRAIN_DIR+CLK_PATH_DICT['tfidf_creative_id'])\n",
    "tfidf_ad_id = sparse.load_npz(TRAIN_DIR+CLK_PATH_DICT['tfidf_ad_id'])\n",
    "tfidf_product_id = sparse.load_npz(TRAIN_DIR+CLK_PATH_DICT['tfidf_product_id'])\n",
    "tfidf_product_category = sparse.load_npz(TRAIN_DIR+CLK_PATH_DICT['tfidf_product_category'])\n",
    "tfidf_advertiser_id = sparse.load_npz(TRAIN_DIR+CLK_PATH_DICT['tfidf_advertiser_id'])\n",
    "tfidf_industry = sparse.load_npz(TRAIN_DIR+CLK_PATH_DICT['tfidf_industry'])\n",
    "tfidf_time = sparse.load_npz(TRAIN_DIR+CLK_PATH_DICT['tfidf_time'])"
   ]
  },
  {
   "cell_type": "code",
   "execution_count": 6,
   "metadata": {},
   "outputs": [],
   "source": [
    "tr_tfidf_stacking = pd.read_pickle(TRAIN_DIR+CLK_PATH_DICT['tfidf_stack_%s'%TARGET])\n",
    "ts_tfidf_stacking = pd.read_pickle(TEST_DIR+CLK_PATH_DICT['tfidf_stack_%s'%TARGET])"
   ]
  },
  {
   "cell_type": "markdown",
   "metadata": {},
   "source": [
    "## 点击list Countvec"
   ]
  },
  {
   "cell_type": "code",
   "execution_count": 11,
   "metadata": {},
   "outputs": [],
   "source": [
    "creative_id_cntv_user = sparse.load_npz(TRAIN_DIR+CLK_PATH_DICT['creative_id_cntv_user'])\n",
    "ad_id_cntv_user = sparse.load_npz(TRAIN_DIR+CLK_PATH_DICT['ad_id_cntv_user'])\n",
    "product_id_cntv_user = sparse.load_npz(TRAIN_DIR+CLK_PATH_DICT['product_id_cntv_user'])\n",
    "product_category_cntv_user = sparse.load_npz(TRAIN_DIR+CLK_PATH_DICT['product_category_cntv_user'])\n",
    "advertiser_id_cntv_user = sparse.load_npz(TRAIN_DIR+CLK_PATH_DICT['advertiser_id_cntv_user'])\n",
    "industry_cntv_user = sparse.load_npz(TRAIN_DIR+CLK_PATH_DICT['industry_cntv_user'])\n",
    "time_cntv_user = sparse.load_npz(TRAIN_DIR+CLK_PATH_DICT['time_cntv_user'])"
   ]
  },
  {
   "cell_type": "markdown",
   "metadata": {},
   "source": [
    "## Emb Average"
   ]
  },
  {
   "cell_type": "code",
   "execution_count": 13,
   "metadata": {
    "scrolled": true
   },
   "outputs": [
    {
     "name": "stderr",
     "output_type": "stream",
     "text": [
      "/home/huangzc/anaconda3/envs/competition-py36/lib/python3.6/site-packages/ipykernel_launcher.py:18: SettingWithCopyWarning: \n",
      "A value is trying to be set on a copy of a slice from a DataFrame.\n",
      "Try using .loc[row_indexer,col_indexer] = value instead\n",
      "\n",
      "See the caveats in the documentation: https://pandas.pydata.org/pandas-docs/stable/user_guide/indexing.html#returning-a-view-versus-a-copy\n",
      "/home/huangzc/anaconda3/envs/competition-py36/lib/python3.6/site-packages/ipykernel_launcher.py:19: SettingWithCopyWarning: \n",
      "A value is trying to be set on a copy of a slice from a DataFrame.\n",
      "Try using .loc[row_indexer,col_indexer] = value instead\n",
      "\n",
      "See the caveats in the documentation: https://pandas.pydata.org/pandas-docs/stable/user_guide/indexing.html#returning-a-view-versus-a-copy\n"
     ]
    }
   ],
   "source": [
    "word2vec_dict = np.load(TRAIN_DIR+CLK_PATH_DICT['gensim_ad_dict'])\n",
    "\n",
    "tr_user_log = pd.read_pickle(TRAIN_DIR+USER_LOG_PATH)\n",
    "ts_user_log = pd.read_pickle(TEST_DIR+USER_LOG_PATH)\n",
    "\n",
    "tr_ad_info = pd.read_pickle(TRAIN_DIR+AD_INFO_PATH)\n",
    "ts_ad_info = pd.read_pickle(TEST_DIR+AD_INFO_PATH)\n",
    "\n",
    "assert tr_user_log.creative_id.values.tolist() == tr_ad_info.creative_id.values.tolist()\n",
    "assert ts_user_log.creative_id.values.tolist() == ts_ad_info.creative_id.values.tolist()\n",
    "\n",
    "tr_user_ad_info = pd.concat([tr_user_log, tr_ad_info], axis=1)\n",
    "ts_user_ad_info = pd.concat([ts_user_log, ts_ad_info], axis=1)\n",
    "\n",
    "tr_user_ad_id = tr_user_ad_info[['user_id', 'click_times', 'ad_id']]\n",
    "ts_user_ad_id = ts_user_ad_info[['user_id', 'click_times', 'ad_id']]\n",
    "\n",
    "tr_user_ad_id['ad_id_emb'] = tr_user_ad_id['ad_id'].map(lambda x: word2vec_dict[x])\n",
    "ts_user_ad_id['ad_id_emb'] = ts_user_ad_id['ad_id'].map(lambda x: word2vec_dict[x])"
   ]
  },
  {
   "cell_type": "code",
   "execution_count": 14,
   "metadata": {},
   "outputs": [],
   "source": [
    "def average_mean(df):\n",
    "    df = df['ad_id_emb'].values\n",
    "    arr = np.array(df)\n",
    "    m = np.mean(arr, axis=0)\n",
    "    return m\n",
    "\n",
    "# def weighted_mean(df):\n",
    "#     df = (df['ad_id_emb'] * df['click_times']).values\n",
    "#     arr = np.array(df)\n",
    "#     m = np.mean(arr, axis=0)\n",
    "#     return m"
   ]
  },
  {
   "cell_type": "code",
   "execution_count": 15,
   "metadata": {},
   "outputs": [],
   "source": [
    "tr_user_emb = tr_user_ad_id.groupby(['user_id']).apply(average_mean).reset_index().rename(columns={0:'ad_emb'})\n",
    "ts_user_emb = ts_user_ad_id.groupby(['user_id']).apply(average_mean).reset_index().rename(columns={0:'ad_emb'})"
   ]
  },
  {
   "cell_type": "code",
   "execution_count": 16,
   "metadata": {},
   "outputs": [],
   "source": [
    "assert tr_user_emb['user_id'].values.tolist() == tr_per_day_clk_times.index.values.tolist()\n",
    "assert ts_user_emb['user_id'].values.tolist() == ts_per_day_clk_times.index.values.tolist()"
   ]
  },
  {
   "cell_type": "code",
   "execution_count": 17,
   "metadata": {},
   "outputs": [],
   "source": [
    "tr_user_emb_mat = np.zeros([len(tr_user_emb), 50])\n",
    "temp = tr_user_emb['ad_emb'].values\n",
    "for i in range(len(tr_user_emb)):\n",
    "    tr_user_emb_mat[i] = temp[i]\n",
    "\n",
    "ts_user_emb_mat = np.zeros([len(ts_user_emb), 50])\n",
    "temp = ts_user_emb['ad_emb'].values\n",
    "for i in range(len(ts_user_emb)):\n",
    "    ts_user_emb_mat[i] = temp[i]"
   ]
  },
  {
   "cell_type": "code",
   "execution_count": 18,
   "metadata": {},
   "outputs": [],
   "source": [
    "tr_user_emb_mat = sparse.csr_matrix(tr_user_emb_mat)\n",
    "ts_user_emb_mat = sparse.csr_matrix(ts_user_emb_mat)"
   ]
  },
  {
   "cell_type": "markdown",
   "metadata": {},
   "source": [
    "### Merge"
   ]
  },
  {
   "cell_type": "code",
   "execution_count": 19,
   "metadata": {},
   "outputs": [],
   "source": [
    "train_df = pd.concat([tr_per_day_clk_times, tr_kfold_te, tr_seq_statistic, tr_tfidf_stacking], axis=1)\n",
    "test_df = pd.concat([ts_per_day_clk_times, ts_kfold_te, ts_seq_statistic, ts_tfidf_stacking], axis=1)"
   ]
  },
  {
   "cell_type": "code",
   "execution_count": 20,
   "metadata": {},
   "outputs": [],
   "source": [
    "train_csr = sparse.csr_matrix(train_df.values)\n",
    "test_csr = sparse.csr_matrix(test_df.values)"
   ]
  },
  {
   "cell_type": "code",
   "execution_count": null,
   "metadata": {},
   "outputs": [],
   "source": [
    "train_csr = sparse.hstack((train_csr, \n",
    "                           tfidf_creative_id[900000:],\n",
    "                           tfidf_ad_id[900000:]，\n",
    "                           tfidf_product_id[900000:]，\n",
    "                           tfidf_product_category[900000:]，\n",
    "                           tfidf_advertiser_id[900000:]，\n",
    "                           tfidf_industry[900000:]，\n",
    "                           tfidf_time[900000:]，\n",
    "                           \n",
    "                           creative_id_cntv_user[900000:]，\n",
    "                           ad_id_cntv_user[900000:]，\n",
    "                           product_id_cntv_user[900000:]，\n",
    "                           product_category_cntv_user[900000:]，\n",
    "                           advertiser_id_cntv_user[900000:]，\n",
    "                           industry_cntv_user[900000:]，\n",
    "                           time_cntv_user[900000:]，\n",
    "                           \n",
    "                           tr_user_emb_mat)).tocsr()\n",
    "test_csr  = sparse.hstack((test_csr , cntv_user[900000:], ts_user_emb_mat)).tocsr()"
   ]
  },
  {
   "cell_type": "code",
   "execution_count": 19,
   "metadata": {},
   "outputs": [],
   "source": [
    "X_train, y_train = train_csr, target['age']-1\n",
    "X_test = test_csr"
   ]
  },
  {
   "cell_type": "markdown",
   "metadata": {},
   "source": [
    "# Metric"
   ]
  },
  {
   "cell_type": "code",
   "execution_count": 20,
   "metadata": {},
   "outputs": [],
   "source": [
    "def accuracy(y_true, y_pred):\n",
    "    assert len(y_true) == len(y_pred), \"length of y_true and y_pred not equal\"\n",
    "    total_example = len(y_true)\n",
    "    right_cnt = 0\n",
    "    for t, p in zip(y_true, y_pred):\n",
    "        if t == p:\n",
    "            right_cnt += 1\n",
    "    return right_cnt / total_example"
   ]
  },
  {
   "cell_type": "markdown",
   "metadata": {},
   "source": [
    "# Model"
   ]
  },
  {
   "cell_type": "code",
   "execution_count": 21,
   "metadata": {},
   "outputs": [],
   "source": [
    "param = { \n",
    "    'boosting_type': 'gbdt',  \n",
    "    'objective': 'multiclass',  \n",
    "    'num_class': 10,  \n",
    "    'metric': ['multi_error'],  \n",
    "    'num_leaves': 2**9,  \n",
    "    'min_data_in_leaf': 500,  \n",
    "    'learning_rate': 0.1,  \n",
    "    'feature_fraction': 0.8,  \n",
    "    'bagging_fraction': 0.8,  \n",
    "    'bagging_freq': 5,  \n",
    "    'lambda_l1': 0.4,  \n",
    "    'lambda_l2': 0.5,  \n",
    "    'min_gain_to_split': 0.2,  \n",
    "    'verbose': -1,\n",
    "    'num_threads':6,\n",
    "    'n_estimators': 1000\n",
    "}"
   ]
  },
  {
   "cell_type": "code",
   "execution_count": 22,
   "metadata": {},
   "outputs": [
    {
     "name": "stdout",
     "output_type": "stream",
     "text": [
      "fold n°1\n"
     ]
    },
    {
     "name": "stderr",
     "output_type": "stream",
     "text": [
      "/home/huangzc/anaconda3/envs/competition-py36/lib/python3.6/site-packages/lightgbm/engine.py:148: UserWarning: Found `n_estimators` in params. Will use it instead of argument\n",
      "  warnings.warn(\"Found `{}` in params. Will use it instead of argument\".format(alias))\n"
     ]
    },
    {
     "name": "stdout",
     "output_type": "stream",
     "text": [
      "Training until validation scores don't improve for 200 rounds\n",
      "[100]\ttraining's multi_error: 0.344678\tvalid_1's multi_error: 0.561594\n",
      "[200]\ttraining's multi_error: 0.175386\tvalid_1's multi_error: 0.560728\n",
      "[300]\ttraining's multi_error: 0.0825097\tvalid_1's multi_error: 0.5614\n",
      "[400]\ttraining's multi_error: 0.0343736\tvalid_1's multi_error: 0.560839\n",
      "Early stopping, best iteration is:\n",
      "[222]\ttraining's multi_error: 0.149925\tvalid_1's multi_error: 0.5601\n",
      "kfold: 1, accuracy: 0.4399\n"
     ]
    }
   ],
   "source": [
    "N_SPLITS = 5\n",
    "folds = KFold(n_splits=N_SPLITS, shuffle=True, random_state=np.random.randint(2020))\n",
    "# 五折交叉验证\n",
    "for fold_, (trn_idx, val_idx) in enumerate(folds.split(X_train, y_train)):\n",
    "    print(\"fold n°{}\".format(fold_+1))\n",
    "    trn_data = lgb.Dataset(X_train[trn_idx], y_train[trn_idx])\n",
    "    val_data = lgb.Dataset(X_train[val_idx], y_train[val_idx])\n",
    "\n",
    "    clf = lgb.train(param, \n",
    "                    trn_data, \n",
    "                    valid_sets = [trn_data, val_data], \n",
    "                    verbose_eval = 100, \n",
    "                    early_stopping_rounds = 200)\n",
    "    \n",
    "    y_val_pred = clf.predict(X_train[val_idx])\n",
    "    y_val_pred = np.argmax(y_val_pred,axis=-1).tolist()\n",
    "    acc = accuracy(y_train[val_idx].values.tolist(), y_val_pred)\n",
    "    print(\"kfold: {:d}, accuracy: {:.4f}\".format(fold_+1, acc))\n",
    "    \n",
    "    break"
   ]
  },
  {
   "cell_type": "code",
   "execution_count": 23,
   "metadata": {},
   "outputs": [],
   "source": [
    "y_test = clf.predict(X_test)"
   ]
  },
  {
   "cell_type": "code",
   "execution_count": 24,
   "metadata": {},
   "outputs": [],
   "source": [
    "y_test = np.argmax(y_test,axis=-1).tolist()"
   ]
  },
  {
   "cell_type": "code",
   "execution_count": 27,
   "metadata": {},
   "outputs": [],
   "source": [
    "ts = ts_per_day_clk_times.reset_index()[['user_id']]"
   ]
  },
  {
   "cell_type": "code",
   "execution_count": 28,
   "metadata": {},
   "outputs": [],
   "source": [
    "ts['predicted_age'] = y_test"
   ]
  },
  {
   "cell_type": "code",
   "execution_count": null,
   "metadata": {},
   "outputs": [],
   "source": [
    "ts['predicted_age'] = ts['predicted_age'] + 1"
   ]
  },
  {
   "cell_type": "code",
   "execution_count": 29,
   "metadata": {},
   "outputs": [],
   "source": [
    "ts.to_csv(SUBMISSION_AGE_PATH, index=False)"
   ]
  },
  {
   "cell_type": "code",
   "execution_count": null,
   "metadata": {},
   "outputs": [],
   "source": []
  }
 ],
 "metadata": {
  "kernelspec": {
   "display_name": "competition-py36",
   "language": "python",
   "name": "competition-py36"
  },
  "language_info": {
   "codemirror_mode": {
    "name": "ipython",
    "version": 3
   },
   "file_extension": ".py",
   "mimetype": "text/x-python",
   "name": "python",
   "nbconvert_exporter": "python",
   "pygments_lexer": "ipython3",
   "version": "3.6.10"
  }
 },
 "nbformat": 4,
 "nbformat_minor": 4
}
