{
 "cells": [
  {
   "cell_type": "code",
   "execution_count": null,
   "metadata": {},
   "outputs": [],
   "source": [
    "from sklearn.feature_extraction.text import CountVectorizer, TfidfVectorizer\n",
    "import sys\n",
    "sys.path.append('../')\n",
    "\n",
    "from config import *\n",
    "import pandas as pd\n",
    "from tools import *\n",
    "import numpy as np\n",
    "from sklearn.model_selection import KFold\n",
    "import lightgbm as lgb\n",
    "from tqdm import tqdm\n",
    "from scipy import sparse\n",
    "import matplotlib.pyplot as plt\n",
    "import scipy"
   ]
  },
  {
   "cell_type": "code",
   "execution_count": null,
   "metadata": {},
   "outputs": [],
   "source": [
    "TARGET = 'age'"
   ]
  },
  {
   "cell_type": "code",
   "execution_count": null,
   "metadata": {},
   "outputs": [],
   "source": [
    "### target\n",
    "target = pd.read_pickle(TRAIN_DIR+USER_LOG_PATH)\n",
    "target = target.groupby(['user_id']).agg('first').reset_index()"
   ]
  },
  {
   "cell_type": "markdown",
   "metadata": {},
   "source": [
    "## 统计特征"
   ]
  },
  {
   "cell_type": "code",
   "execution_count": null,
   "metadata": {},
   "outputs": [],
   "source": [
    "### Per Day Click Times\n",
    "tr_per_day_clk_times = pd.read_pickle(TRAIN_DIR+CLK_PATH_DICT['per_day_click'])\n",
    "ts_per_day_clk_times = pd.read_pickle(TEST_DIR+CLK_PATH_DICT['per_day_click'])\n",
    "\n",
    "### Kfold Target Encode\n",
    "tr_kfold_te = pd.read_pickle(TRAIN_DIR+CLK_PATH_DICT['kfold_te_%s'%TARGET])\n",
    "ts_kfold_te = pd.read_pickle(TEST_DIR+CLK_PATH_DICT['kfold_te_%s'%TARGET])\n",
    "\n",
    "### Sequence Statistic Feature\n",
    "tr_seq_statistic = pd.read_pickle(TRAIN_DIR+CLK_PATH_DICT['seq_statistic'])\n",
    "ts_seq_statistic = pd.read_pickle(TEST_DIR+CLK_PATH_DICT['seq_statistic'])"
   ]
  },
  {
   "cell_type": "markdown",
   "metadata": {},
   "source": [
    "## 点击list TFIDF"
   ]
  },
  {
   "cell_type": "code",
   "execution_count": null,
   "metadata": {},
   "outputs": [],
   "source": [
    "tfidf_creative_id = sparse.load_npz(TRAIN_DIR+CLK_PATH_DICT['tfidf_creative_id'])\n",
    "tfidf_ad_id = sparse.load_npz(TRAIN_DIR+CLK_PATH_DICT['tfidf_ad_id'])\n",
    "tfidf_product_id = sparse.load_npz(TRAIN_DIR+CLK_PATH_DICT['tfidf_product_id'])\n",
    "tfidf_product_category = sparse.load_npz(TRAIN_DIR+CLK_PATH_DICT['tfidf_product_category'])\n",
    "tfidf_advertiser_id = sparse.load_npz(TRAIN_DIR+CLK_PATH_DICT['tfidf_advertiser_id'])\n",
    "tfidf_industry = sparse.load_npz(TRAIN_DIR+CLK_PATH_DICT['tfidf_industry'])\n",
    "tfidf_time = sparse.load_npz(TRAIN_DIR+CLK_PATH_DICT['tfidf_time'])"
   ]
  },
  {
   "cell_type": "code",
   "execution_count": null,
   "metadata": {},
   "outputs": [],
   "source": [
    "tr_tfidf_stacking = pd.read_pickle(TRAIN_DIR+CLK_PATH_DICT['tfidf_stack_%s'%TARGET])\n",
    "ts_tfidf_stacking = pd.read_pickle(TEST_DIR+CLK_PATH_DICT['tfidf_stack_%s'%TARGET])"
   ]
  },
  {
   "cell_type": "markdown",
   "metadata": {},
   "source": [
    "## 点击list Countvec"
   ]
  },
  {
   "cell_type": "code",
   "execution_count": null,
   "metadata": {},
   "outputs": [],
   "source": [
    "creative_id_cntv_user = sparse.load_npz(TRAIN_DIR+CLK_PATH_DICT['creative_id_cntv_user'])\n",
    "ad_id_cntv_user = sparse.load_npz(TRAIN_DIR+CLK_PATH_DICT['ad_id_cntv_user'])\n",
    "product_id_cntv_user = sparse.load_npz(TRAIN_DIR+CLK_PATH_DICT['product_id_cntv_user'])\n",
    "product_category_cntv_user = sparse.load_npz(TRAIN_DIR+CLK_PATH_DICT['product_category_cntv_user'])\n",
    "advertiser_id_cntv_user = sparse.load_npz(TRAIN_DIR+CLK_PATH_DICT['advertiser_id_cntv_user'])\n",
    "industry_cntv_user = sparse.load_npz(TRAIN_DIR+CLK_PATH_DICT['industry_cntv_user'])\n",
    "time_cntv_user = sparse.load_npz(TRAIN_DIR+CLK_PATH_DICT['time_cntv_user'])"
   ]
  },
  {
   "cell_type": "markdown",
   "metadata": {},
   "source": [
    "### Merge"
   ]
  },
  {
   "cell_type": "code",
   "execution_count": null,
   "metadata": {},
   "outputs": [],
   "source": [
    "train_df = pd.concat([tr_per_day_clk_times, tr_kfold_te, tr_seq_statistic, tr_tfidf_stacking], axis=1)\n",
    "test_df = pd.concat([ts_per_day_clk_times, ts_kfold_te, ts_seq_statistic, ts_tfidf_stacking], axis=1)"
   ]
  },
  {
   "cell_type": "code",
   "execution_count": null,
   "metadata": {},
   "outputs": [],
   "source": [
    "train_csr = sparse.csr_matrix(train_df.values)\n",
    "test_csr = sparse.csr_matrix(test_df.values)"
   ]
  },
  {
   "cell_type": "code",
   "execution_count": null,
   "metadata": {},
   "outputs": [],
   "source": [
    "train_csr = sparse.hstack((train_csr, \n",
    "                           tfidf_creative_id[:900000],\n",
    "                           tfidf_ad_id[:900000],\n",
    "                           tfidf_product_id[:900000],\n",
    "                           tfidf_product_category[:900000],\n",
    "                           tfidf_advertiser_id[:900000],\n",
    "                           tfidf_industry[:900000],\n",
    "                           tfidf_time[:900000],\n",
    "                           \n",
    "                           creative_id_cntv_user[:900000],\n",
    "                           ad_id_cntv_user[:900000],\n",
    "                           product_id_cntv_user[:900000],\n",
    "                           product_category_cntv_user[:900000],\n",
    "                           advertiser_id_cntv_user[:900000],\n",
    "                           industry_cntv_user[:900000],\n",
    "                           time_cntv_user[:900000])).tocsr()"
   ]
  },
  {
   "cell_type": "code",
   "execution_count": null,
   "metadata": {},
   "outputs": [],
   "source": [
    "X_train, y_train = train_csr, target[TARGET]-1"
   ]
  },
  {
   "cell_type": "markdown",
   "metadata": {},
   "source": [
    "# Metric"
   ]
  },
  {
   "cell_type": "code",
   "execution_count": null,
   "metadata": {},
   "outputs": [],
   "source": [
    "def accuracy(y_true, y_pred):\n",
    "    assert len(y_true) == len(y_pred), \"length of y_true and y_pred not equal\"\n",
    "    total_example = len(y_true)\n",
    "    right_cnt = 0\n",
    "    for t, p in zip(y_true, y_pred):\n",
    "        if t == p:\n",
    "            right_cnt += 1\n",
    "    return right_cnt / total_example"
   ]
  },
  {
   "cell_type": "markdown",
   "metadata": {},
   "source": [
    "# Model"
   ]
  },
  {
   "cell_type": "code",
   "execution_count": null,
   "metadata": {},
   "outputs": [],
   "source": [
    "param = { \n",
    "    'boosting_type': 'gbdt',  \n",
    "    'objective': 'multiclass',  \n",
    "    'num_class': 10,  \n",
    "    'metric': ['multi_error'],  \n",
    "    'num_leaves': 2**9,  \n",
    "    'min_data_in_leaf': 500,  \n",
    "    'learning_rate': 0.1,  \n",
    "    'feature_fraction': 0.8,  \n",
    "    'bagging_fraction': 0.8,  \n",
    "    'bagging_freq': 5,  \n",
    "    'lambda_l1': 0.4,  \n",
    "    'lambda_l2': 0.5,  \n",
    "    'min_gain_to_split': 0.2,  \n",
    "    'verbose': -1,\n",
    "    'num_threads':10,\n",
    "    'n_estimators': 1000\n",
    "}"
   ]
  },
  {
   "cell_type": "code",
   "execution_count": null,
   "metadata": {},
   "outputs": [],
   "source": [
    "models = []\n",
    "N_SPLITS = 5\n",
    "folds = KFold(n_splits=N_SPLITS, shuffle=True, random_state=np.random.randint(2020))\n",
    "# 五折交叉验证\n",
    "for fold_, (trn_idx, val_idx) in enumerate(folds.split(X_train, y_train)):\n",
    "    print(\"fold n°{}\".format(fold_+1))\n",
    "    trn_data = lgb.Dataset(X_train[trn_idx], y_train[trn_idx])\n",
    "    val_data = lgb.Dataset(X_train[val_idx], y_train[val_idx])\n",
    "\n",
    "    clf = lgb.train(param, \n",
    "                    trn_data, \n",
    "                    valid_sets = [trn_data, val_data], \n",
    "                    verbose_eval = 100, \n",
    "                    early_stopping_rounds = 200)\n",
    "    \n",
    "    models.append(clf)\n",
    "    y_val_pred = clf.predict(X_train[val_idx])\n",
    "    y_val_pred = np.argmax(y_val_pred,axis=-1).tolist()\n",
    "    acc = accuracy(y_train[val_idx].values.tolist(), y_val_pred)\n",
    "    print(\"kfold: {:d}, accuracy: {:.4f}\".format(fold_+1, acc))"
   ]
  },
  {
   "cell_type": "code",
   "execution_count": null,
   "metadata": {},
   "outputs": [],
   "source": []
  },
  {
   "cell_type": "code",
   "execution_count": null,
   "metadata": {},
   "outputs": [],
   "source": []
  }
 ],
 "metadata": {
  "kernelspec": {
   "display_name": "Python 3",
   "language": "python",
   "name": "python3"
  },
  "language_info": {
   "codemirror_mode": {
    "name": "ipython",
    "version": 3
   },
   "file_extension": ".py",
   "mimetype": "text/x-python",
   "name": "python",
   "nbconvert_exporter": "python",
   "pygments_lexer": "ipython3",
   "version": "3.6.10"
  }
 },
 "nbformat": 4,
 "nbformat_minor": 4
}
