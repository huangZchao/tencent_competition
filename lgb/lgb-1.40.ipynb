{
 "cells": [
  {
   "cell_type": "code",
   "execution_count": 26,
   "metadata": {},
   "outputs": [],
   "source": [
    "from sklearn.feature_extraction.text import CountVectorizer, TfidfVectorizer\n",
    "import sys\n",
    "sys.path.append('../')\n",
    "\n",
    "from config import *\n",
    "import pandas as pd\n",
    "from tools import *\n",
    "import numpy as np\n",
    "from sklearn.model_selection import KFold\n",
    "import lightgbm as lgb\n",
    "from tqdm import tqdm\n",
    "from scipy import sparse\n",
    "import matplotlib.pyplot as plt"
   ]
  },
  {
   "cell_type": "code",
   "execution_count": 2,
   "metadata": {},
   "outputs": [],
   "source": [
    "### target\n",
    "target = pd.read_pickle(TRAIN_DIR+USER_LOG_PATH)\n",
    "target = target.groupby(['user_id']).agg('first').reset_index()"
   ]
  },
  {
   "cell_type": "markdown",
   "metadata": {},
   "source": [
    "## 点击list TFIDF"
   ]
  },
  {
   "cell_type": "code",
   "execution_count": 3,
   "metadata": {},
   "outputs": [],
   "source": [
    "tr_click_seq = pd.read_pickle(TRAIN_DIR+CLK_PATH_DICT['ad_id'])\n",
    "ts_click_seq = pd.read_pickle(TEST_DIR+CLK_PATH_DICT['ad_id'])"
   ]
  },
  {
   "cell_type": "code",
   "execution_count": 4,
   "metadata": {},
   "outputs": [],
   "source": [
    "click_seq = pd.concat([tr_click_seq, ts_click_seq], axis=0)['ad_id'].values.tolist()"
   ]
  },
  {
   "cell_type": "code",
   "execution_count": 5,
   "metadata": {},
   "outputs": [],
   "source": [
    "tfidf = TfidfVectorizer(tokenizer=lambda x: x, max_df=0.9, min_df=30, lowercase=False)\n",
    "tfidf_user = tfidf.fit_transform(click_seq)"
   ]
  },
  {
   "cell_type": "code",
   "execution_count": 6,
   "metadata": {},
   "outputs": [],
   "source": [
    "tfidf_user = tfidf_user.astype('float32')"
   ]
  },
  {
   "cell_type": "code",
   "execution_count": 11,
   "metadata": {},
   "outputs": [],
   "source": [
    "train_csr = tfidf_user[:900000]\n",
    "test_csr  = tfidf_user[900000:]"
   ]
  },
  {
   "cell_type": "code",
   "execution_count": 22,
   "metadata": {},
   "outputs": [],
   "source": [
    "X_train, Y_train = train_csr, target['age']-1\n",
    "X_test = test_csr"
   ]
  },
  {
   "cell_type": "code",
   "execution_count": 25,
   "metadata": {},
   "outputs": [],
   "source": [
    "# 测试集，画图对预测值和实际值进行比较\n",
    "def test_validate(x_test, y_test, y_predict, classifier):\n",
    "    x = range(len(y_test))\n",
    "    plt.plot(x, y_test, \"ro\", markersize=5, zorder=3, label=u\"true_v\")\n",
    "    plt.plot(x, y_predict, \"go\", markersize=8, zorder=2, label=u\"predict_v,$R^2$=%.3f\" % classifier.score(x_test, y_test))\n",
    "    plt.legend(loc=\"upper left\")\n",
    "    plt.xlabel(\"number\")\n",
    "    plt.ylabel(\"true?\")\n",
    "    plt.show()"
   ]
  },
  {
   "cell_type": "code",
   "execution_count": 7,
   "metadata": {},
   "outputs": [],
   "source": [
    "from sklearn.linear_model import LogisticRegression\n",
    "from sklearn.linear_model import SGDClassifier\n",
    "from sklearn.linear_model import PassiveAggressiveClassifier\n",
    "from sklearn.linear_model import RidgeClassifier\n",
    "from sklearn.naive_bayes import BernoulliNB\n",
    "from sklearn.naive_bayes import MultinomialNB"
   ]
  },
  {
   "cell_type": "code",
   "execution_count": 14,
   "metadata": {},
   "outputs": [],
   "source": [
    "N_SPLITS = 5\n",
    "folds = KFold(n_splits=N_SPLITS, shuffle=True, random_state=np.random.randint(2020))"
   ]
  },
  {
   "cell_type": "code",
   "execution_count": 27,
   "metadata": {},
   "outputs": [
    {
     "name": "stdout",
     "output_type": "stream",
     "text": [
      "fold n°1\n"
     ]
    },
    {
     "name": "stderr",
     "output_type": "stream",
     "text": [
      "/home/huangzc/anaconda3/envs/competition-py36/lib/python3.6/site-packages/sklearn/linear_model/_logistic.py:764: ConvergenceWarning: lbfgs failed to converge (status=1):\n",
      "STOP: TOTAL NO. of ITERATIONS REACHED LIMIT.\n",
      "\n",
      "Increase the number of iterations (max_iter) or scale the data as shown in:\n",
      "    https://scikit-learn.org/stable/modules/preprocessing.html\n",
      "Please also refer to the documentation for alternative solver options:\n",
      "    https://scikit-learn.org/stable/modules/linear_model.html#logistic-regression\n",
      "  extra_warning_msg=_LOGISTIC_SOLVER_CONVERGENCE_MSG)\n"
     ]
    },
    {
     "name": "stdout",
     "output_type": "stream",
     "text": [
      "R值(准确率): 0.44543055555555555\n",
      "[4 4 5 ... 4 2 3]\n",
      "0         3\n",
      "5         5\n",
      "6         5\n",
      "15        2\n",
      "17        1\n",
      "         ..\n",
      "899976    2\n",
      "899979    3\n",
      "899984    4\n",
      "899988    2\n",
      "899999    2\n",
      "Name: age, Length: 180000, dtype: int8\n"
     ]
    },
    {
     "data": {
      "image/png": "[encoded data removed]",
      "text/plain": [
       "<Figure size 432x288 with 1 Axes>"
      ]
     },
     "metadata": {
      "needs_background": "light"
     },
     "output_type": "display_data"
    }
   ],
   "source": [
    "for fold_, (trn_idx, val_idx) in enumerate(folds.split(X_train, Y_train)):\n",
    "    print(\"fold n°{}\".format(fold_+1))\n",
    "    x_train, y_train = X_train[trn_idx], Y_train[trn_idx]\n",
    "    x_val, y_val = X_train[val_idx], Y_train[val_idx]\n",
    "    \n",
    "    lr = LogisticRegression()\n",
    "    lr.fit(x_train, y_train)\n",
    "\n",
    "    # 模型效果获取\n",
    "    r = lr.score(x_train, y_train)\n",
    "    print(\"R值(准确率):\", r)\n",
    "    # 预测\n",
    "    y_predict = lr.predict(x_val)  # 预测\n",
    "    print(y_predict)\n",
    "    print(y_val)\n",
    "\n",
    "    # 绘制测试集结果验证\n",
    "    test_validate(x_test=x_val, y_test=y_val, y_predict=y_predict, classifier=lr)    \n",
    "    break"
   ]
  },
  {
   "cell_type": "code",
   "execution_count": null,
   "metadata": {},
   "outputs": [],
   "source": []
  }
 ],
 "metadata": {
  "kernelspec": {
   "display_name": "competition-py36",
   "language": "python",
   "name": "competition-py36"
  },
  "language_info": {
   "codemirror_mode": {
    "name": "ipython",
    "version": 3
   },
   "file_extension": ".py",
   "mimetype": "text/x-python",
   "name": "python",
   "nbconvert_exporter": "python",
   "pygments_lexer": "ipython3",
   "version": "3.6.10"
  }
 },
 "nbformat": 4,
 "nbformat_minor": 4
}
