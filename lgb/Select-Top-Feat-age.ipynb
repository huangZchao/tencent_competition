{
 "cells": [
  {
   "cell_type": "code",
   "execution_count": 1,
   "metadata": {},
   "outputs": [],
   "source": [
    "from sklearn.feature_extraction.text import CountVectorizer, TfidfVectorizer\n",
    "import sys\n",
    "sys.path.append('../')\n",
    "\n",
    "from config import *\n",
    "import pandas as pd\n",
    "from tools import *\n",
    "import numpy as np\n",
    "from sklearn.model_selection import KFold\n",
    "import lightgbm as lgb\n",
    "from tqdm import tqdm\n",
    "from scipy import sparse\n",
    "import matplotlib.pyplot as plt\n",
    "import scipy"
   ]
  },
  {
   "cell_type": "code",
   "execution_count": 2,
   "metadata": {},
   "outputs": [],
   "source": [
    "TARGET = 'age'"
   ]
  },
  {
   "cell_type": "code",
   "execution_count": 3,
   "metadata": {},
   "outputs": [],
   "source": [
    "### target\n",
    "target = pd.read_pickle(TRAIN_DIR+USER_LOG_PATH)\n",
    "target = target.groupby(['user_id']).agg('first').reset_index()"
   ]
  },
  {
   "cell_type": "markdown",
   "metadata": {},
   "source": [
    "## 统计特征"
   ]
  },
  {
   "cell_type": "code",
   "execution_count": 4,
   "metadata": {},
   "outputs": [],
   "source": [
    "### Per Day Click Times\n",
    "tr_per_day_clk_times = pd.read_pickle(TRAIN_DIR+CLK_PATH_DICT['per_day_click'])\n",
    "ts_per_day_clk_times = pd.read_pickle(TEST_DIR+CLK_PATH_DICT['per_day_click'])\n",
    "\n",
    "### Kfold Target Encode\n",
    "tr_kfold_te = pd.read_pickle(TRAIN_DIR+CLK_PATH_DICT['kfold_te_%s'%TARGET])\n",
    "ts_kfold_te = pd.read_pickle(TEST_DIR+CLK_PATH_DICT['kfold_te_%s'%TARGET])\n",
    "\n",
    "### Sequence Statistic Feature\n",
    "tr_seq_statistic = pd.read_pickle(TRAIN_DIR+CLK_PATH_DICT['seq_statistic'])\n",
    "ts_seq_statistic = pd.read_pickle(TEST_DIR+CLK_PATH_DICT['seq_statistic'])"
   ]
  },
  {
   "cell_type": "markdown",
   "metadata": {},
   "source": [
    "## 点击list TFIDF"
   ]
  },
  {
   "cell_type": "code",
   "execution_count": 5,
   "metadata": {},
   "outputs": [],
   "source": [
    "tfidf_creative_id = sparse.load_npz(TRAIN_DIR+CLK_PATH_DICT['tfidf_creative_id'])\n",
    "tfidf_ad_id = sparse.load_npz(TRAIN_DIR+CLK_PATH_DICT['tfidf_ad_id'])\n",
    "tfidf_product_id = sparse.load_npz(TRAIN_DIR+CLK_PATH_DICT['tfidf_product_id'])\n",
    "tfidf_product_category = sparse.load_npz(TRAIN_DIR+CLK_PATH_DICT['tfidf_product_category'])\n",
    "tfidf_advertiser_id = sparse.load_npz(TRAIN_DIR+CLK_PATH_DICT['tfidf_advertiser_id'])\n",
    "tfidf_industry = sparse.load_npz(TRAIN_DIR+CLK_PATH_DICT['tfidf_industry'])\n",
    "tfidf_time = sparse.load_npz(TRAIN_DIR+CLK_PATH_DICT['tfidf_time'])"
   ]
  },
  {
   "cell_type": "code",
   "execution_count": 6,
   "metadata": {},
   "outputs": [],
   "source": [
    "tr_tfidf_stacking = pd.read_pickle(TRAIN_DIR+CLK_PATH_DICT['tfidf_stack_%s'%TARGET])\n",
    "ts_tfidf_stacking = pd.read_pickle(TEST_DIR+CLK_PATH_DICT['tfidf_stack_%s'%TARGET])"
   ]
  },
  {
   "cell_type": "markdown",
   "metadata": {},
   "source": [
    "## 点击list Countvec"
   ]
  },
  {
   "cell_type": "code",
   "execution_count": 7,
   "metadata": {},
   "outputs": [],
   "source": [
    "creative_id_cntv_user = sparse.load_npz(TRAIN_DIR+CLK_PATH_DICT['creative_id_cntv_user'])\n",
    "ad_id_cntv_user = sparse.load_npz(TRAIN_DIR+CLK_PATH_DICT['ad_id_cntv_user'])\n",
    "product_id_cntv_user = sparse.load_npz(TRAIN_DIR+CLK_PATH_DICT['product_id_cntv_user'])\n",
    "product_category_cntv_user = sparse.load_npz(TRAIN_DIR+CLK_PATH_DICT['product_category_cntv_user'])\n",
    "advertiser_id_cntv_user = sparse.load_npz(TRAIN_DIR+CLK_PATH_DICT['advertiser_id_cntv_user'])\n",
    "industry_cntv_user = sparse.load_npz(TRAIN_DIR+CLK_PATH_DICT['industry_cntv_user'])\n",
    "time_cntv_user = sparse.load_npz(TRAIN_DIR+CLK_PATH_DICT['time_cntv_user'])"
   ]
  },
  {
   "cell_type": "markdown",
   "metadata": {},
   "source": [
    "### Merge"
   ]
  },
  {
   "cell_type": "code",
   "execution_count": 8,
   "metadata": {},
   "outputs": [],
   "source": [
    "train_df = pd.concat([tr_per_day_clk_times, tr_kfold_te, tr_seq_statistic, tr_tfidf_stacking], axis=1)\n",
    "test_df = pd.concat([ts_per_day_clk_times, ts_kfold_te, ts_seq_statistic, ts_tfidf_stacking], axis=1)"
   ]
  },
  {
   "cell_type": "code",
   "execution_count": 9,
   "metadata": {},
   "outputs": [],
   "source": [
    "train_csr = sparse.csr_matrix(train_df.values)\n",
    "test_csr = sparse.csr_matrix(test_df.values)"
   ]
  },
  {
   "cell_type": "code",
   "execution_count": 10,
   "metadata": {},
   "outputs": [],
   "source": [
    "train_csr = sparse.hstack((train_csr, \n",
    "                           tfidf_creative_id[:900000],\n",
    "                           tfidf_ad_id[:900000],\n",
    "                           tfidf_product_id[:900000],\n",
    "                           tfidf_product_category[:900000],\n",
    "                           tfidf_advertiser_id[:900000],\n",
    "                           tfidf_industry[:900000],\n",
    "                           tfidf_time[:900000],\n",
    "                           \n",
    "                           creative_id_cntv_user[:900000],\n",
    "                           ad_id_cntv_user[:900000],\n",
    "                           product_id_cntv_user[:900000],\n",
    "                           product_category_cntv_user[:900000],\n",
    "                           advertiser_id_cntv_user[:900000],\n",
    "                           industry_cntv_user[:900000],\n",
    "                           time_cntv_user[:900000])).tocsr()"
   ]
  },
  {
   "cell_type": "code",
   "execution_count": 31,
   "metadata": {},
   "outputs": [],
   "source": [
    "test_csr = sparse.hstack((test_csr, \n",
    "                           tfidf_creative_id[900000:],\n",
    "                           tfidf_ad_id[900000:],\n",
    "                           tfidf_product_id[900000:],\n",
    "                           tfidf_product_category[900000:],\n",
    "                           tfidf_advertiser_id[900000:],\n",
    "                           tfidf_industry[900000:],\n",
    "                           tfidf_time[900000:],\n",
    "                           \n",
    "                           creative_id_cntv_user[900000:],\n",
    "                           ad_id_cntv_user[900000:],\n",
    "                           product_id_cntv_user[900000:],\n",
    "                           product_category_cntv_user[900000:],\n",
    "                           advertiser_id_cntv_user[900000:],\n",
    "                           industry_cntv_user[900000:],\n",
    "                           time_cntv_user[900000:])).tocsr()"
   ]
  },
  {
   "cell_type": "code",
   "execution_count": 11,
   "metadata": {},
   "outputs": [],
   "source": [
    "X_train, y_train = train_csr, target[TARGET]-1"
   ]
  },
  {
   "cell_type": "markdown",
   "metadata": {},
   "source": [
    "# Metric"
   ]
  },
  {
   "cell_type": "code",
   "execution_count": 12,
   "metadata": {},
   "outputs": [],
   "source": [
    "def accuracy(y_true, y_pred):\n",
    "    assert len(y_true) == len(y_pred), \"length of y_true and y_pred not equal\"\n",
    "    total_example = len(y_true)\n",
    "    right_cnt = 0\n",
    "    for t, p in zip(y_true, y_pred):\n",
    "        if t == p:\n",
    "            right_cnt += 1\n",
    "    return right_cnt / total_example"
   ]
  },
  {
   "cell_type": "markdown",
   "metadata": {},
   "source": [
    "# Model"
   ]
  },
  {
   "cell_type": "code",
   "execution_count": 13,
   "metadata": {},
   "outputs": [],
   "source": [
    "param = { \n",
    "    'boosting_type': 'gbdt',  \n",
    "    'objective': 'multiclass',  \n",
    "    'num_class': 10,  \n",
    "    'metric': ['multi_error'],  \n",
    "    'num_leaves': 2**9,  \n",
    "    'min_data_in_leaf': 500,  \n",
    "    'learning_rate': 0.1,  \n",
    "    'feature_fraction': 0.8,  \n",
    "    'bagging_fraction': 0.8,  \n",
    "    'bagging_freq': 5,  \n",
    "    'lambda_l1': 0.4,  \n",
    "    'lambda_l2': 0.5,  \n",
    "    'min_gain_to_split': 0.2,  \n",
    "    'verbose': -1,\n",
    "    'num_threads':10,\n",
    "    'n_estimators': 1000\n",
    "}"
   ]
  },
  {
   "cell_type": "code",
   "execution_count": 14,
   "metadata": {
    "scrolled": true
   },
   "outputs": [
    {
     "name": "stdout",
     "output_type": "stream",
     "text": [
      "fold n°1\n"
     ]
    },
    {
     "name": "stderr",
     "output_type": "stream",
     "text": [
      "/home/baode/anaconda3/envs/competition-py36/lib/python3.6/site-packages/lightgbm/engine.py:148: UserWarning: Found `n_estimators` in params. Will use it instead of argument\n",
      "  warnings.warn(\"Found `{}` in params. Will use it instead of argument\".format(alias))\n"
     ]
    },
    {
     "name": "stdout",
     "output_type": "stream",
     "text": [
      "Training until validation scores don't improve for 200 rounds\n",
      "[100]\ttraining's multi_error: 0.316625\tvalid_1's multi_error: 0.550872\n",
      "[200]\ttraining's multi_error: 0.145279\tvalid_1's multi_error: 0.549867\n",
      "[300]\ttraining's multi_error: 0.0587056\tvalid_1's multi_error: 0.550922\n",
      "Early stopping, best iteration is:\n",
      "[161]\ttraining's multi_error: 0.199437\tvalid_1's multi_error: 0.549406\n",
      "kfold: 1, accuracy: 0.4506\n",
      "fold n°2\n",
      "Training until validation scores don't improve for 200 rounds\n",
      "[100]\ttraining's multi_error: 0.316422\tvalid_1's multi_error: 0.551978\n",
      "[200]\ttraining's multi_error: 0.144094\tvalid_1's multi_error: 0.551011\n",
      "[300]\ttraining's multi_error: 0.0579403\tvalid_1's multi_error: 0.551439\n",
      "Early stopping, best iteration is:\n",
      "[160]\ttraining's multi_error: 0.199937\tvalid_1's multi_error: 0.550089\n",
      "kfold: 2, accuracy: 0.4499\n",
      "fold n°3\n",
      "Training until validation scores don't improve for 200 rounds\n",
      "[100]\ttraining's multi_error: 0.316661\tvalid_1's multi_error: 0.550939\n",
      "[200]\ttraining's multi_error: 0.145417\tvalid_1's multi_error: 0.549933\n",
      "[300]\ttraining's multi_error: 0.0591361\tvalid_1's multi_error: 0.551306\n",
      "Early stopping, best iteration is:\n",
      "[135]\ttraining's multi_error: 0.244474\tvalid_1's multi_error: 0.54935\n",
      "kfold: 3, accuracy: 0.4506\n",
      "fold n°4\n",
      "Training until validation scores don't improve for 200 rounds\n"
     ]
    },
    {
     "ename": "KeyboardInterrupt",
     "evalue": "",
     "output_type": "error",
     "traceback": [
      "\u001b[0;31m---------------------------------------------------------------------------\u001b[0m",
      "\u001b[0;31mKeyboardInterrupt\u001b[0m                         Traceback (most recent call last)",
      "\u001b[0;32m<ipython-input-14-16d9c341ceae>\u001b[0m in \u001b[0;36m<module>\u001b[0;34m\u001b[0m\n\u001b[1;32m     12\u001b[0m                     \u001b[0mvalid_sets\u001b[0m \u001b[0;34m=\u001b[0m \u001b[0;34m[\u001b[0m\u001b[0mtrn_data\u001b[0m\u001b[0;34m,\u001b[0m \u001b[0mval_data\u001b[0m\u001b[0;34m]\u001b[0m\u001b[0;34m,\u001b[0m\u001b[0;34m\u001b[0m\u001b[0;34m\u001b[0m\u001b[0m\n\u001b[1;32m     13\u001b[0m                     \u001b[0mverbose_eval\u001b[0m \u001b[0;34m=\u001b[0m \u001b[0;36m100\u001b[0m\u001b[0;34m,\u001b[0m\u001b[0;34m\u001b[0m\u001b[0;34m\u001b[0m\u001b[0m\n\u001b[0;32m---> 14\u001b[0;31m                     early_stopping_rounds = 200)\n\u001b[0m\u001b[1;32m     15\u001b[0m \u001b[0;34m\u001b[0m\u001b[0m\n\u001b[1;32m     16\u001b[0m     \u001b[0mmodels\u001b[0m\u001b[0;34m.\u001b[0m\u001b[0mappend\u001b[0m\u001b[0;34m(\u001b[0m\u001b[0mclf\u001b[0m\u001b[0;34m)\u001b[0m\u001b[0;34m\u001b[0m\u001b[0;34m\u001b[0m\u001b[0m\n",
      "\u001b[0;32m~/anaconda3/envs/competition-py36/lib/python3.6/site-packages/lightgbm/engine.py\u001b[0m in \u001b[0;36mtrain\u001b[0;34m(params, train_set, num_boost_round, valid_sets, valid_names, fobj, feval, init_model, feature_name, categorical_feature, early_stopping_rounds, evals_result, verbose_eval, learning_rates, keep_training_booster, callbacks)\u001b[0m\n\u001b[1;32m    247\u001b[0m                                     evaluation_result_list=None))\n\u001b[1;32m    248\u001b[0m \u001b[0;34m\u001b[0m\u001b[0m\n\u001b[0;32m--> 249\u001b[0;31m         \u001b[0mbooster\u001b[0m\u001b[0;34m.\u001b[0m\u001b[0mupdate\u001b[0m\u001b[0;34m(\u001b[0m\u001b[0mfobj\u001b[0m\u001b[0;34m=\u001b[0m\u001b[0mfobj\u001b[0m\u001b[0;34m)\u001b[0m\u001b[0;34m\u001b[0m\u001b[0;34m\u001b[0m\u001b[0m\n\u001b[0m\u001b[1;32m    250\u001b[0m \u001b[0;34m\u001b[0m\u001b[0m\n\u001b[1;32m    251\u001b[0m         \u001b[0mevaluation_result_list\u001b[0m \u001b[0;34m=\u001b[0m \u001b[0;34m[\u001b[0m\u001b[0;34m]\u001b[0m\u001b[0;34m\u001b[0m\u001b[0;34m\u001b[0m\u001b[0m\n",
      "\u001b[0;32m~/anaconda3/envs/competition-py36/lib/python3.6/site-packages/lightgbm/basic.py\u001b[0m in \u001b[0;36mupdate\u001b[0;34m(self, train_set, fobj)\u001b[0m\n\u001b[1;32m   1974\u001b[0m             _safe_call(_LIB.LGBM_BoosterUpdateOneIter(\n\u001b[1;32m   1975\u001b[0m                 \u001b[0mself\u001b[0m\u001b[0;34m.\u001b[0m\u001b[0mhandle\u001b[0m\u001b[0;34m,\u001b[0m\u001b[0;34m\u001b[0m\u001b[0;34m\u001b[0m\u001b[0m\n\u001b[0;32m-> 1976\u001b[0;31m                 ctypes.byref(is_finished)))\n\u001b[0m\u001b[1;32m   1977\u001b[0m             \u001b[0mself\u001b[0m\u001b[0;34m.\u001b[0m\u001b[0m__is_predicted_cur_iter\u001b[0m \u001b[0;34m=\u001b[0m \u001b[0;34m[\u001b[0m\u001b[0;32mFalse\u001b[0m \u001b[0;32mfor\u001b[0m \u001b[0m_\u001b[0m \u001b[0;32min\u001b[0m \u001b[0mrange_\u001b[0m\u001b[0;34m(\u001b[0m\u001b[0mself\u001b[0m\u001b[0;34m.\u001b[0m\u001b[0m__num_dataset\u001b[0m\u001b[0;34m)\u001b[0m\u001b[0;34m]\u001b[0m\u001b[0;34m\u001b[0m\u001b[0;34m\u001b[0m\u001b[0m\n\u001b[1;32m   1978\u001b[0m             \u001b[0;32mreturn\u001b[0m \u001b[0mis_finished\u001b[0m\u001b[0;34m.\u001b[0m\u001b[0mvalue\u001b[0m \u001b[0;34m==\u001b[0m \u001b[0;36m1\u001b[0m\u001b[0;34m\u001b[0m\u001b[0;34m\u001b[0m\u001b[0m\n",
      "\u001b[0;31mKeyboardInterrupt\u001b[0m: "
     ]
    }
   ],
   "source": [
    "models = []\n",
    "N_SPLITS = 5\n",
    "folds = KFold(n_splits=N_SPLITS, shuffle=True, random_state=np.random.randint(2020))\n",
    "# 五折交叉验证\n",
    "for fold_, (trn_idx, val_idx) in enumerate(folds.split(X_train, y_train)):\n",
    "    print(\"fold n°{}\".format(fold_+1))\n",
    "    trn_data = lgb.Dataset(X_train[trn_idx], y_train[trn_idx])\n",
    "    val_data = lgb.Dataset(X_train[val_idx], y_train[val_idx])\n",
    "\n",
    "    clf = lgb.train(param, \n",
    "                    trn_data, \n",
    "                    valid_sets = [trn_data, val_data], \n",
    "                    verbose_eval = 100, \n",
    "                    early_stopping_rounds = 200)\n",
    "    \n",
    "    models.append(clf)\n",
    "    y_val_pred = clf.predict(X_train[val_idx])\n",
    "    y_val_pred = np.argmax(y_val_pred,axis=-1).tolist()\n",
    "    acc = accuracy(y_train[val_idx].values.tolist(), y_val_pred)\n",
    "    print(\"kfold: {:d}, accuracy: {:.4f}\".format(fold_+1, acc))"
   ]
  },
  {
   "cell_type": "markdown",
   "metadata": {},
   "source": [
    "### Select top feat"
   ]
  },
  {
   "cell_type": "code",
   "execution_count": 22,
   "metadata": {},
   "outputs": [],
   "source": [
    "NUM_FEAT = 400"
   ]
  },
  {
   "cell_type": "code",
   "execution_count": 23,
   "metadata": {},
   "outputs": [
    {
     "data": {
      "text/plain": [
       "468998"
      ]
     },
     "execution_count": 23,
     "metadata": {},
     "output_type": "execute_result"
    }
   ],
   "source": [
    "dic = dict()\n",
    "for i in range(len(models)):\n",
    "    dic['value_%d' %i] = models[i].feature_importance()\n",
    "\n",
    "col_name = train_df.columns.tolist() + ['tfidf_cid_%d'%i for i in range(100000)] + ['tfidf_aid_%d'%i for i in range(100000)] \\\n",
    "            + ['tfidf_pid_%d'%i for i in range(9934)] + ['tfidf_pc_%d'%i for i in range(17)] \\\n",
    "            + ['tfidf_adver_%d'%i for i in range(23800)] + ['tfidf_adver_%d'%i for i in range(295)] \\\n",
    "            + ['tfidf_time_%d'%i for i in range(91)]\n",
    "\n",
    "col_name += ['cntvec_cid_%d'%i for i in range(100000)] + ['cntvec_aid_%d'%i for i in range(100000)] \\\n",
    "            + ['cntvec_pid_%d'%i for i in range(9934)] + ['cntvec_pc_%d'%i for i in range(17)] \\\n",
    "            + ['cntvec_adver_%d'%i for i in range(23800)] + ['cntvec_adver_%d'%i for i in range(295)] \\\n",
    "            + ['cntvec_time_%d'%i for i in range(91)]\n",
    "\n",
    "len(col_name)"
   ]
  },
  {
   "cell_type": "code",
   "execution_count": 24,
   "metadata": {},
   "outputs": [],
   "source": [
    "feature_imp = pd.DataFrame(dic)\n",
    "feature_imp['avg'] = feature_imp.mean(axis=1)\n",
    "feature_imp['col'] = col_name\n",
    "feature_imp = feature_imp.sort_values(by=['avg'], ascending=False)\n",
    "\n",
    "top_feat = feature_imp[: NUM_FEAT]\n",
    "top_feat_index = top_feat.index.tolist()\n",
    "\n",
    "feature_imp.reset_index(drop=True)[['avg', 'col']].to_pickle(TRAIN_DIR+'feat-impor-age.pkl')"
   ]
  },
  {
   "cell_type": "markdown",
   "metadata": {},
   "source": [
    "##### For train"
   ]
  },
  {
   "cell_type": "code",
   "execution_count": 25,
   "metadata": {},
   "outputs": [],
   "source": [
    "top_feat_value = train_csr[:, top_feat_index].A\n",
    "top_feat_df = pd.DataFrame(top_feat_value)\n",
    "top_feat_df.columns = top_feat['col']"
   ]
  },
  {
   "cell_type": "code",
   "execution_count": 26,
   "metadata": {},
   "outputs": [
    {
     "name": "stdout",
     "output_type": "stream",
     "text": [
      "<class 'pandas.core.frame.DataFrame'>\n",
      "RangeIndex: 900000 entries, 0 to 899999\n",
      "Columns: 400 entries, age_sgd_advertiser_id_2 to product_id_age_rate2_mean\n",
      "dtypes: float64(400)\n",
      "memory usage: 2.7 GB\n"
     ]
    }
   ],
   "source": [
    "top_feat_df.info()"
   ]
  },
  {
   "cell_type": "code",
   "execution_count": 27,
   "metadata": {},
   "outputs": [],
   "source": [
    "top_feat_df.to_pickle(TRAIN_DIR+'feat-impor-age-value.pkl')"
   ]
  },
  {
   "cell_type": "markdown",
   "metadata": {},
   "source": [
    "##### For test"
   ]
  },
  {
   "cell_type": "code",
   "execution_count": 32,
   "metadata": {},
   "outputs": [
    {
     "name": "stdout",
     "output_type": "stream",
     "text": [
      "<class 'pandas.core.frame.DataFrame'>\n",
      "RangeIndex: 1000000 entries, 0 to 999999\n",
      "Columns: 400 entries, age_sgd_advertiser_id_2 to product_id_age_rate2_mean\n",
      "dtypes: float64(400)\n",
      "memory usage: 3.0 GB\n"
     ]
    }
   ],
   "source": [
    "top_feat_value = test_csr[:, top_feat_index].A\n",
    "top_feat_df = pd.DataFrame(top_feat_value)\n",
    "top_feat_df.columns = top_feat['col']\n",
    "\n",
    "top_feat_df.info()\n",
    "\n",
    "top_feat_df.to_pickle(TEST_DIR+'feat-impor-age-value.pkl')"
   ]
  },
  {
   "cell_type": "code",
   "execution_count": null,
   "metadata": {},
   "outputs": [],
   "source": []
  }
 ],
 "metadata": {
  "kernelspec": {
   "display_name": "Python 3",
   "language": "python",
   "name": "python3"
  },
  "language_info": {
   "codemirror_mode": {
    "name": "ipython",
    "version": 3
   },
   "file_extension": ".py",
   "mimetype": "text/x-python",
   "name": "python",
   "nbconvert_exporter": "python",
   "pygments_lexer": "ipython3",
   "version": "3.6.10"
  }
 },
 "nbformat": 4,
 "nbformat_minor": 4
}
