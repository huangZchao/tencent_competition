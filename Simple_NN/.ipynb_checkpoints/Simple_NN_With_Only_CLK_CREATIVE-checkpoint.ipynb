{
 "cells": [
  {
   "cell_type": "code",
   "execution_count": 93,
   "metadata": {},
   "outputs": [],
   "source": [
    "import tensorflow as tf\n",
    "import pandas as pd\n",
    "import sys\n",
    "sys.path.append('../')\n",
    "from config import *\n",
    "from sklearn.model_selection import train_test_split\n",
    "from tensorflow.python.keras.preprocessing import sequence\n",
    "import numpy as np\n",
    "from tqdm import tqdm\n",
    "from IPython.display import clear_output"
   ]
  },
  {
   "cell_type": "code",
   "execution_count": 94,
   "metadata": {},
   "outputs": [],
   "source": [
    "import warnings\n",
    "warnings.filterwarnings(\"ignore\")"
   ]
  },
  {
   "cell_type": "code",
   "execution_count": 95,
   "metadata": {},
   "outputs": [],
   "source": [
    "import os\n",
    "os.environ[\"CUDA_VISIBLE_DEVICES\"] = \"0\""
   ]
  },
  {
   "cell_type": "code",
   "execution_count": 96,
   "metadata": {},
   "outputs": [
    {
     "data": {
      "text/plain": [
       "True"
      ]
     },
     "execution_count": 96,
     "metadata": {},
     "output_type": "execute_result"
    }
   ],
   "source": [
    "tf.enable_eager_execution()\n",
    "tf.test.is_gpu_available()"
   ]
  },
  {
   "cell_type": "code",
   "execution_count": null,
   "metadata": {},
   "outputs": [],
   "source": [
    "### 占用gpu\n",
    "a = tf.constant(1)\n",
    "res = tf.add(a, a)\n",
    "sess = tf.Session()\n",
    "sess.run(res)"
   ]
  },
  {
   "cell_type": "code",
   "execution_count": 97,
   "metadata": {},
   "outputs": [],
   "source": [
    "### Hyperparameter\n",
    "###################\n",
    "SAVE_PATH = '/home/huangzc/competition/tencent/model_ckpt/simple_nn/model.ckpt'\n",
    "EMB_SIZE = 50\n",
    "BATCH_SIZE = 10240\n",
    "EPOCHS = 100"
   ]
  },
  {
   "cell_type": "code",
   "execution_count": null,
   "metadata": {},
   "outputs": [],
   "source": [
    "tr_log = pd.read_pickle(TRAIN_DIR+USER_LOG_PATH)\n",
    "ts_log = pd.read_pickle(TEST_DIR+USER_LOG_PATH)\n",
    "\n",
    "tr_ad_df = pd.read_pickle(TRAIN_DIR+AD_INFO_PATH)\n",
    "ts_ad_df = pd.read_pickle(TEST_DIR+AD_INFO_PATH)\n",
    "\n",
    "assert tr_log['creative_id'].values.tolist() == tr_ad_df['creative_id'].values.tolist()\n",
    "assert ts_log['creative_id'].values.tolist() == ts_ad_df['creative_id'].values.tolist()\n",
    "\n",
    "tr_ad_id_log = pd.concat([tr_log, tr_ad_df], axis=1)\n",
    "ts_ad_id_log = pd.concat([ts_log, ts_ad_df], axis=1)\n",
    "\n",
    "tr_ad_id_log = tr_ad_id_log[['user_id', 'age', 'gender', 'ad_id']]\n",
    "ts_ad_id_log = ts_ad_id_log[['user_id', 'ad_id']]"
   ]
  },
  {
   "cell_type": "code",
   "execution_count": 141,
   "metadata": {},
   "outputs": [],
   "source": [
    "#读取\n",
    "f = open(TRAIN_DIR+'gensim_ad_id_dict.js','r')\n",
    "a = f.read()\n",
    "vocab_dict = eval(a)\n",
    "f.close()\n",
    "wv_matrix = np.load(TRAIN_DIR+'gensim_ad_id.npy')\n",
    "vocab = vocab_dict.keys()\n",
    "vocab_size = len(vocab)"
   ]
  },
  {
   "cell_type": "code",
   "execution_count": 99,
   "metadata": {},
   "outputs": [],
   "source": [
    "tr_ad_id_log['ad_id'] = tr_ad_id_log['ad_id'].astype(str)\n",
    "ts_ad_id_log['ad_id'] = ts_ad_id_log['ad_id'].astype(str)\n",
    "\n",
    "tr_ad_id_log = tr_ad_id_log[tr_ad_id_log['ad_id'].isin(vocab)]\n",
    "ts_ad_id_log = ts_ad_id_log[ts_ad_id_log['ad_id'].isin(vocab)]"
   ]
  },
  {
   "cell_type": "code",
   "execution_count": 100,
   "metadata": {},
   "outputs": [],
   "source": [
    "tr_ad_id_log['ad_id_index'] = tr_ad_id_log['ad_id'].map(lambda x: vocab_dict[x])\n",
    "ts_ad_id_log['ad_id_index'] = ts_ad_id_log['ad_id'].map(lambda x: vocab_dict[x])"
   ]
  },
  {
   "cell_type": "code",
   "execution_count": 101,
   "metadata": {},
   "outputs": [],
   "source": [
    "def get_clk_list(df):\n",
    "    return list(df.values)"
   ]
  },
  {
   "cell_type": "code",
   "execution_count": 102,
   "metadata": {},
   "outputs": [],
   "source": [
    "grid_df = tr_ad_id_log.groupby(['user_id']).agg({'age': 'first', 'gender': 'first', 'ad_id_index': lambda x: get_clk_list(x)}).reset_index()\n",
    "grid_df_ts = ts_ad_id_log.groupby(['user_id']).agg({'ad_id_index': lambda x: get_clk_list(x)}).reset_index()"
   ]
  },
  {
   "cell_type": "code",
   "execution_count": 103,
   "metadata": {},
   "outputs": [],
   "source": [
    "feature_columns = ['ad_id_index']\n",
    "TARGET = 'age'\n",
    "\n",
    "grid_df[TARGET] = grid_df[TARGET] - 1"
   ]
  },
  {
   "cell_type": "code",
   "execution_count": 104,
   "metadata": {},
   "outputs": [
    {
     "name": "stdout",
     "output_type": "stream",
     "text": [
      "720000 train examples\n",
      "180000 validation examples\n",
      "1000000 test examples\n"
     ]
    }
   ],
   "source": [
    "### Split into train and valid dataset\n",
    "train = grid_df[feature_columns+[TARGET]]\n",
    "test = grid_df_ts[feature_columns]\n",
    "\n",
    "train, val = train_test_split(train, test_size=0.2)\n",
    "print(len(train), 'train examples')\n",
    "print(len(val), 'validation examples')\n",
    "print(len(test), 'test examples')\n",
    "\n",
    "### x, y dataframe\n",
    "x_train, y_train = train[feature_columns], train[TARGET]\n",
    "x_val, y_val = val[feature_columns], val[TARGET]\n",
    "x_test = test"
   ]
  },
  {
   "cell_type": "code",
   "execution_count": 105,
   "metadata": {},
   "outputs": [
    {
     "name": "stdout",
     "output_type": "stream",
     "text": [
      "choose sentences max len: 65\n"
     ]
    }
   ],
   "source": [
    "sentence_size = int(grid_df[feature_columns[0]].map(lambda x: len(x)).quantile(0.9))\n",
    "print('choose sentences max len: %d' % sentence_size)"
   ]
  },
  {
   "cell_type": "code",
   "execution_count": 106,
   "metadata": {},
   "outputs": [
    {
     "name": "stdout",
     "output_type": "stream",
     "text": [
      "Pad sequences (samples x time)\n",
      "x_train shape: (720000, 65)\n",
      "x_val shape: (180000, 65)\n",
      "x_test shape: (1000000, 65)\n"
     ]
    }
   ],
   "source": [
    "print(\"Pad sequences (samples x time)\")\n",
    "\n",
    "### feature_columns[0] means click list\n",
    "x_train = sequence.pad_sequences(x_train[feature_columns[0]],\n",
    "                                 maxlen=sentence_size, \n",
    "                                 padding='post', \n",
    "                                 truncating='post',\n",
    "                                 dtype='int64',\n",
    "                                 value=float(vocab_size)\n",
    "                                 )\n",
    "x_val = sequence.pad_sequences(x_val[feature_columns[0]],\n",
    "                                 maxlen=sentence_size, \n",
    "                                 padding='post', \n",
    "                                 truncating='post',\n",
    "                                 dtype='int64',\n",
    "                                 value=float(vocab_size)\n",
    "                                 )\n",
    "x_test = sequence.pad_sequences(x_test[feature_columns[0]], \n",
    "                                maxlen=sentence_size, \n",
    "                                padding='post',\n",
    "                                truncating='post',\n",
    "                                dtype='int64',\n",
    "                                value=float(vocab_size)\n",
    "                               )\n",
    "print(\"x_train shape:\", x_train.shape)\n",
    "print(\"x_val shape:\", x_val.shape)\n",
    "print(\"x_test shape:\", x_test.shape)"
   ]
  },
  {
   "cell_type": "code",
   "execution_count": 107,
   "metadata": {},
   "outputs": [],
   "source": [
    "### Get tf dataset\n",
    "def get_train_ds(x, y): \n",
    "    dataset = tf.data.Dataset.from_tensor_slices((x, y))\n",
    "    dataset = dataset.shuffle(buffer_size=len(x))\n",
    "    dataset = dataset.batch(BATCH_SIZE)\n",
    "#     dataset = dataset.repeat(EPOCHS)\n",
    "    return dataset\n",
    "\n",
    "def get_test_ds(x, ): \n",
    "    dataset = tf.data.Dataset.from_tensor_slices((x, )).batch(BATCH_SIZE)\n",
    "    return dataset\n",
    "\n",
    "train_ds = get_train_ds(x_train, y_train.values)\n",
    "valid_ds = get_train_ds(x_val, y_val.values)\n",
    "test_ds = get_test_ds(x_test)"
   ]
  },
  {
   "cell_type": "code",
   "execution_count": 142,
   "metadata": {},
   "outputs": [],
   "source": [
    "weights = np.random.rand(1, wv_matrix.shape[1])\n",
    "weights = np.concatenate([wv_matrix, weights], axis=0)"
   ]
  },
  {
   "cell_type": "code",
   "execution_count": 143,
   "metadata": {},
   "outputs": [],
   "source": [
    "### Construct Model\n",
    "#################################\n",
    "class MyModel(tf.keras.Model):\n",
    "    def __init__(self):\n",
    "        super(MyModel, self).__init__()\n",
    "        self.embedding = tf.keras.layers.Embedding(vocab_size+1, EMB_SIZE, weights=[weights])\n",
    "#         self.embedding = tf.keras.layers.Embedding(vocab_size, EMB_SIZE)\n",
    "        self.pool1D = tf.keras.layers.GlobalAveragePooling1D()\n",
    "        self.dense1 = tf.keras.layers.Dense(16, activation=tf.nn.leaky_relu)\n",
    "        self.dense2 = tf.keras.layers.Dense(10, activation='softmax')\n",
    "\n",
    "    def call(self, inputs):\n",
    "        x = self.embedding(inputs)\n",
    "        x = self.pool1D(x)\n",
    "        x = self.dense1(x)\n",
    "        return self.dense2(x)\n",
    "\n",
    "model = MyModel()"
   ]
  },
  {
   "cell_type": "code",
   "execution_count": 136,
   "metadata": {},
   "outputs": [],
   "source": [
    "# Restore the weights\n",
    "# model.load_weights(SAVE_PATH)"
   ]
  },
  {
   "cell_type": "code",
   "execution_count": 144,
   "metadata": {},
   "outputs": [],
   "source": [
    "### Loss & Metric\n",
    "loss_object = tf.keras.losses.SparseCategoricalCrossentropy()\n",
    "\n",
    "optimizer = tf.keras.optimizers.Adam()\n",
    "\n",
    "train_loss = tf.keras.metrics.Mean(name='train_loss')\n",
    "train_accuracy = tf.keras.metrics.SparseCategoricalAccuracy(name='train_accuracy')\n",
    "\n",
    "valid_loss = tf.keras.metrics.Mean(name='valid_loss')\n",
    "valid_accuracy = tf.keras.metrics.SparseCategoricalAccuracy(name='valid_accuracy')"
   ]
  },
  {
   "cell_type": "code",
   "execution_count": 145,
   "metadata": {},
   "outputs": [],
   "source": [
    "@tf.function\n",
    "def train_step(features, labels):\n",
    "    with tf.GradientTape() as tape:\n",
    "        predictions = model(features)\n",
    "        loss = loss_object(labels, predictions)\n",
    "    gradients = tape.gradient(loss, model.trainable_variables)\n",
    "    optimizer.apply_gradients(zip(gradients, model.trainable_variables))\n",
    "\n",
    "    train_loss(loss)\n",
    "    train_accuracy(labels, predictions)"
   ]
  },
  {
   "cell_type": "code",
   "execution_count": 146,
   "metadata": {},
   "outputs": [],
   "source": [
    "@tf.function\n",
    "def valid_step(features, labels):\n",
    "    predictions = model(features)\n",
    "    v_loss = loss_object(labels, predictions)\n",
    "\n",
    "    valid_loss(v_loss)\n",
    "    valid_accuracy(labels, predictions)"
   ]
  },
  {
   "cell_type": "code",
   "execution_count": null,
   "metadata": {
    "scrolled": true
   },
   "outputs": [
    {
     "name": "stdout",
     "output_type": "stream",
     "text": [
      "batch: 1, batch loss: 2.4333\n",
      "batch: 2, batch loss: 2.4251\n",
      "batch: 3, batch loss: 2.4207\n"
     ]
    }
   ],
   "source": [
    "for epoch in range(EPOCHS):\n",
    "  # 在下一个epoch开始时，重置评估指标\n",
    "    train_loss.reset_states()\n",
    "    train_accuracy.reset_states()\n",
    "    valid_loss.reset_states()\n",
    "    valid_accuracy.reset_states()\n",
    "\n",
    "    CNT = 0\n",
    "    for features, labels in train_ds:\n",
    "#         clear_output(wait=True)\n",
    "        train_step(features, labels)\n",
    "        CNT += 1\n",
    "        print('batch: %d, batch loss: %.4f' % (CNT, train_loss.result()))    \n",
    "        \n",
    "    for val_features, val_labels in valid_ds:\n",
    "        valid_step(val_features, val_labels)\n",
    "\n",
    "    template = 'Epoch {}, Loss: {:.2f}, Accuracy: {:.2f}%, Valid Loss: {:.2f}, Valid Accuracy: {:.2f}%'\n",
    "    print (template.format(epoch+1,\n",
    "                         train_loss.result(),\n",
    "                         train_accuracy.result()*100,\n",
    "                         valid_loss.result(),\n",
    "                         valid_accuracy.result()*100))"
   ]
  },
  {
   "cell_type": "markdown",
   "metadata": {},
   "source": [
    "win:10, 39.78 <br>\n",
    "win: 2, 39.38 <br>\n",
    "win:15, 40.18 <br>\n",
    "win:20, "
   ]
  },
  {
   "cell_type": "code",
   "execution_count": null,
   "metadata": {},
   "outputs": [],
   "source": [
    "# 保存权重\n",
    "model.save_weights(SAVE_PATH)"
   ]
  },
  {
   "cell_type": "code",
   "execution_count": null,
   "metadata": {},
   "outputs": [],
   "source": []
  }
 ],
 "metadata": {
  "kernelspec": {
   "display_name": "Python 3",
   "language": "python",
   "name": "python3"
  },
  "language_info": {
   "codemirror_mode": {
    "name": "ipython",
    "version": 3
   },
   "file_extension": ".py",
   "mimetype": "text/x-python",
   "name": "python",
   "nbconvert_exporter": "python",
   "pygments_lexer": "ipython3",
   "version": "3.6.10"
  }
 },
 "nbformat": 4,
 "nbformat_minor": 4
}
