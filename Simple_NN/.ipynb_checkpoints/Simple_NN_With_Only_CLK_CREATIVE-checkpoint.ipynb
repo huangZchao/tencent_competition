{
 "cells": [
  {
   "cell_type": "code",
   "execution_count": 1,
   "metadata": {},
   "outputs": [
    {
     "data": {
      "text/plain": [
       "True"
      ]
     },
     "execution_count": 1,
     "metadata": {},
     "output_type": "execute_result"
    }
   ],
   "source": [
    "import tensorflow as tf\n",
    "import pandas as pd\n",
    "from config import *\n",
    "from sklearn.model_selection import train_test_split\n",
    "from tensorflow.python.keras.preprocessing import sequence\n",
    "import numpy as np\n",
    "from tqdm import tqdm\n",
    "from IPython.display import clear_output\n",
    "\n",
    "tf.enable_eager_execution()\n",
    "tf.test.is_gpu_available()"
   ]
  },
  {
   "cell_type": "code",
   "execution_count": null,
   "metadata": {},
   "outputs": [],
   "source": [
    "### Hyperparameter\n",
    "###################\n",
    "SAVE_PATH = '/home/huangzc/competition/tencent/model_ckpt/simple_nn/model.ckpt'\n",
    "EMB_SIZE = 50\n",
    "BATCH_SIZE = 10240\n",
    "EPOCHS = 100"
   ]
  },
  {
   "cell_type": "code",
   "execution_count": null,
   "metadata": {},
   "outputs": [],
   "source": [
    "### Read data\n",
    "tr_ad_df = pd.read_pickle(TRAIN_DIR+AD_PATH)\n",
    "ts_ad_df = pd.read_pickle(TEST_DIR+AD_PATH)\n",
    "\n",
    "tr_clk_list_df = pd.read_pickle(TRAIN_DIR+CLK_LIST_PATH)\n",
    "ts_clk_list_df = pd.read_pickle(TEST_DIR+CLK_LIST_PATH)\n",
    "\n",
    "tr_user_df = pd.read_pickle(TRAIN_DIR+USER_PATH)\n",
    "tr_user_df = tr_user_df.groupby(['user_id']).agg({'age': 'first', 'gender': 'first'}).reset_index()\n",
    "\n",
    "assert tr_user_df['user_id'].values.tolist() == tr_clk_list_df['user_id'].values.tolist()\n",
    "grid_df = pd.concat([tr_clk_list_df, tr_user_df[['age']]], axis=1)"
   ]
  },
  {
   "cell_type": "code",
   "execution_count": 4,
   "metadata": {},
   "outputs": [],
   "source": [
    "feature_columns = ['clk_list']\n",
    "label_column = 'age'\n",
    "\n",
    "grid_df[label_column] = grid_df[label_column] - 1"
   ]
  },
  {
   "cell_type": "code",
   "execution_count": 5,
   "metadata": {},
   "outputs": [
    {
     "name": "stdout",
     "output_type": "stream",
     "text": [
      "720000 train examples\n",
      "180000 validation examples\n",
      "1000000 test examples\n"
     ]
    }
   ],
   "source": [
    "### Split into train and valid dataset\n",
    "train = grid_df[feature_columns+[label_column]]\n",
    "test = ts_clk_list_df[feature_columns]\n",
    "\n",
    "train, val = train_test_split(train, test_size=0.2)\n",
    "print(len(train), 'train examples')\n",
    "print(len(val), 'validation examples')\n",
    "print(len(test), 'test examples')\n",
    "\n",
    "### x, y dataframe\n",
    "x_train, y_train = train[feature_columns], train[label_column]\n",
    "x_val, y_val = val[feature_columns], val[label_column]\n",
    "x_test = test"
   ]
  },
  {
   "cell_type": "code",
   "execution_count": 6,
   "metadata": {},
   "outputs": [
    {
     "name": "stdout",
     "output_type": "stream",
     "text": [
      "choose sentences max len: 66\n"
     ]
    }
   ],
   "source": [
    "sentence_size = int(grid_df['clk_list'].map(lambda x: len(x)).quantile(0.9))\n",
    "print('choose sentences max len: %d' % sentence_size)"
   ]
  },
  {
   "cell_type": "code",
   "execution_count": 7,
   "metadata": {},
   "outputs": [
    {
     "name": "stdout",
     "output_type": "stream",
     "text": [
      "Pad sequences (samples x time)\n",
      "x_train shape: (720000, 66)\n",
      "x_val shape: (180000, 66)\n",
      "x_test shape: (1000000, 66)\n"
     ]
    }
   ],
   "source": [
    "print(\"Pad sequences (samples x time)\")\n",
    "\n",
    "### feature_columns[0] means click list\n",
    "x_train = sequence.pad_sequences(x_train[feature_columns[0]],\n",
    "                                 maxlen=sentence_size, \n",
    "                                 padding='post', \n",
    "                                 truncating='post',\n",
    "                                 dtype='int64',\n",
    "                                 value=0\n",
    "                                 )\n",
    "x_val = sequence.pad_sequences(x_val[feature_columns[0]],\n",
    "                                 maxlen=sentence_size, \n",
    "                                 padding='post', \n",
    "                                 truncating='post',\n",
    "                                 dtype='int64',\n",
    "                                 value=0\n",
    "                                 )\n",
    "x_test = sequence.pad_sequences(x_test[feature_columns[0]], \n",
    "                                maxlen=sentence_size, \n",
    "                                padding='post',\n",
    "                                truncating='post',\n",
    "                                dtype='int64',\n",
    "                                value=0\n",
    "                               )\n",
    "print(\"x_train shape:\", x_train.shape)\n",
    "print(\"x_val shape:\", x_val.shape)\n",
    "print(\"x_test shape:\", x_test.shape)"
   ]
  },
  {
   "cell_type": "code",
   "execution_count": 8,
   "metadata": {},
   "outputs": [],
   "source": [
    "### Get tf dataset\n",
    "def get_train_ds(x, y): \n",
    "    dataset = tf.data.Dataset.from_tensor_slices((x, y))\n",
    "    dataset = dataset.shuffle(buffer_size=len(x))\n",
    "    dataset = dataset.batch(BATCH_SIZE)\n",
    "#     dataset = dataset.repeat(EPOCHS)\n",
    "    return dataset\n",
    "\n",
    "def get_test_ds(x, ): \n",
    "    dataset = tf.data.Dataset.from_tensor_slices((x, )).batch(BATCH_SIZE)\n",
    "    return dataset\n",
    "\n",
    "train_ds = get_train_ds(x_train, y_train.values)\n",
    "valid_ds = get_train_ds(x_val, y_val.values)\n",
    "test_ds = get_test_ds(x_test)"
   ]
  },
  {
   "cell_type": "code",
   "execution_count": 9,
   "metadata": {},
   "outputs": [],
   "source": [
    "vocab_size = max(pd.concat([tr_ad_df, ts_ad_df], axis=0)['creative_id'].unique().tolist()) + 1 ### padding 0 need add 1"
   ]
  },
  {
   "cell_type": "code",
   "execution_count": null,
   "metadata": {},
   "outputs": [],
   "source": [
    "# weights = np.load('/home/huangzc/competition/tencent/data/train_preliminary/gensim_dict.npy')"
   ]
  },
  {
   "cell_type": "code",
   "execution_count": null,
   "metadata": {},
   "outputs": [],
   "source": [
    "### Construct Model\n",
    "#################################\n",
    "class MyModel(tf.keras.Model):\n",
    "    def __init__(self):\n",
    "        super(MyModel, self).__init__()\n",
    "#         self.embedding = tf.keras.layers.Embedding(vocab_size, EMB_SIZE, weights=[weights])\n",
    "        self.embedding = tf.keras.layers.Embedding(vocab_size, EMB_SIZE)\n",
    "        self.pool1D = tf.keras.layers.GlobalAveragePooling1D()\n",
    "        self.dense1 = tf.keras.layers.Dense(16, activation=tf.nn.leaky_relu)\n",
    "        self.dense2 = tf.keras.layers.Dense(10, activation='softmax')\n",
    "\n",
    "    def call(self, inputs):\n",
    "        x = self.embedding(inputs)\n",
    "        x = self.pool1D(x)\n",
    "        x = self.dense1(x)\n",
    "        return self.dense2(x)\n",
    "\n",
    "model = MyModel()"
   ]
  },
  {
   "cell_type": "code",
   "execution_count": null,
   "metadata": {},
   "outputs": [],
   "source": [
    "# Restore the weights\n",
    "model.load_weights(SAVE_PATH)"
   ]
  },
  {
   "cell_type": "code",
   "execution_count": null,
   "metadata": {},
   "outputs": [],
   "source": [
    "### Loss & Metric\n",
    "loss_object = tf.keras.losses.SparseCategoricalCrossentropy()\n",
    "\n",
    "optimizer = tf.keras.optimizers.Adam()\n",
    "\n",
    "train_loss = tf.keras.metrics.Mean(name='train_loss')\n",
    "train_accuracy = tf.keras.metrics.SparseCategoricalAccuracy(name='train_accuracy')\n",
    "\n",
    "valid_loss = tf.keras.metrics.Mean(name='valid_loss')\n",
    "valid_accuracy = tf.keras.metrics.SparseCategoricalAccuracy(name='valid_accuracy')"
   ]
  },
  {
   "cell_type": "code",
   "execution_count": null,
   "metadata": {},
   "outputs": [],
   "source": [
    "@tf.function\n",
    "def train_step(features, labels):\n",
    "    with tf.GradientTape() as tape:\n",
    "        predictions = model(features)\n",
    "        loss = loss_object(labels, predictions)\n",
    "    gradients = tape.gradient(loss, model.trainable_variables)\n",
    "    optimizer.apply_gradients(zip(gradients, model.trainable_variables))\n",
    "\n",
    "    train_loss(loss)\n",
    "    train_accuracy(labels, predictions)"
   ]
  },
  {
   "cell_type": "code",
   "execution_count": null,
   "metadata": {},
   "outputs": [],
   "source": [
    "@tf.function\n",
    "def valid_step(features, labels):\n",
    "    predictions = model(features)\n",
    "    v_loss = loss_object(labels, predictions)\n",
    "\n",
    "    valid_loss(v_loss)\n",
    "    valid_accuracy(labels, predictions)"
   ]
  },
  {
   "cell_type": "code",
   "execution_count": null,
   "metadata": {
    "scrolled": true
   },
   "outputs": [],
   "source": [
    "for epoch in range(EPOCHS):\n",
    "  # 在下一个epoch开始时，重置评估指标\n",
    "    train_loss.reset_states()\n",
    "    train_accuracy.reset_states()\n",
    "    valid_loss.reset_states()\n",
    "    valid_accuracy.reset_states()\n",
    "\n",
    "    CNT = 0\n",
    "    for features, labels in train_ds:\n",
    "#         clear_output(wait=True)\n",
    "        train_step(features, labels)\n",
    "        CNT += 1\n",
    "        print('batch: %d, batch loss: %.4f' % (CNT, train_loss.result()))    \n",
    "        \n",
    "    for val_features, val_labels in valid_ds:\n",
    "        valid_step(val_features, val_labels)\n",
    "\n",
    "    template = 'Epoch {}, Loss: {:.2f}, Accuracy: {:.2f}%, Valid Loss: {:.2f}, Valid Accuracy: {:.2f}%'\n",
    "    print (template.format(epoch+1,\n",
    "                         train_loss.result(),\n",
    "                         train_accuracy.result()*100,\n",
    "                         valid_loss.result(),\n",
    "                         valid_accuracy.result()*100))"
   ]
  },
  {
   "cell_type": "code",
   "execution_count": null,
   "metadata": {},
   "outputs": [],
   "source": [
    "# 保存权重\n",
    "model.save_weights(SAVE_PATH)"
   ]
  },
  {
   "cell_type": "code",
   "execution_count": null,
   "metadata": {},
   "outputs": [],
   "source": []
  }
 ],
 "metadata": {
  "kernelspec": {
   "display_name": "competition-py36",
   "language": "python",
   "name": "competition-py36"
  },
  "language_info": {
   "codemirror_mode": {
    "name": "ipython",
    "version": 3
   },
   "file_extension": ".py",
   "mimetype": "text/x-python",
   "name": "python",
   "nbconvert_exporter": "python",
   "pygments_lexer": "ipython3",
   "version": "3.6.10"
  }
 },
 "nbformat": 4,
 "nbformat_minor": 4
}
