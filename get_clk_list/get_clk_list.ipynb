{
 "cells": [
  {
   "cell_type": "code",
   "execution_count": 2,
   "metadata": {},
   "outputs": [],
   "source": [
    "import pandas as pd\n",
    "import sys\n",
    "\n",
    "sys.path.append('../')\n",
    "from config import *\n",
    "from tools import *\n",
    "\n",
    "from tqdm import tqdm"
   ]
  },
  {
   "cell_type": "code",
   "execution_count": 3,
   "metadata": {},
   "outputs": [],
   "source": [
    "tr_user_log_df = pd.read_pickle(TRAIN_DIR+USER_LOG_PATH)\n",
    "tr_ad_info_df = pd.read_pickle(TRAIN_DIR+AD_INFO_PATH)\n",
    "\n",
    "ts_user_log_df = pd.read_pickle(TEST_DIR+USER_LOG_PATH)\n",
    "ts_ad_info_df = pd.read_pickle(TEST_DIR+AD_INFO_PATH)"
   ]
  },
  {
   "cell_type": "code",
   "execution_count": 4,
   "metadata": {},
   "outputs": [],
   "source": [
    "CLK_COLS = ['creative_id', 'advertiser_id', 'ad_id', 'product_id', 'product_category', 'industry']"
   ]
  },
  {
   "cell_type": "code",
   "execution_count": 5,
   "metadata": {},
   "outputs": [],
   "source": [
    "assert tr_user_log_df['creative_id'].values.tolist() == tr_ad_info_df['creative_id'].values.tolist()\n",
    "assert ts_user_log_df['creative_id'].values.tolist() == ts_ad_info_df['creative_id'].values.tolist()\n",
    "\n",
    "grid_df = pd.concat([tr_user_log_df[['user_id', 'time']], tr_ad_info_df[CLK_COLS]], axis=1)\n",
    "grid_df_test = pd.concat([ts_user_log_df[['user_id', 'time']], ts_ad_info_df[CLK_COLS]], axis=1)"
   ]
  },
  {
   "cell_type": "code",
   "execution_count": 6,
   "metadata": {},
   "outputs": [],
   "source": [
    "def get_clk_list(df, col):\n",
    "    return list(df[col].values)"
   ]
  },
  {
   "cell_type": "code",
   "execution_count": 7,
   "metadata": {
    "scrolled": true
   },
   "outputs": [],
   "source": [
    "col = 'time'\n",
    "temp_df = grid_df.groupby(['user_id']).apply(lambda x: get_clk_list(x, col)).reset_index().rename(columns={0: col})\n",
    "temp_df.to_pickle(TRAIN_DIR+CLK_PATH_DICT[col])\n",
    "temp_df = grid_df_test.groupby(['user_id']).apply(lambda x: get_clk_list(x, col)).reset_index().rename(columns={0: col})\n",
    "temp_df.to_pickle(TEST_DIR+CLK_PATH_DICT[col])"
   ]
  },
  {
   "cell_type": "code",
   "execution_count": 8,
   "metadata": {},
   "outputs": [
    {
     "name": "stderr",
     "output_type": "stream",
     "text": [
      "100%|██████████| 6/6 [38:05<00:00, 380.94s/it]\n"
     ]
    }
   ],
   "source": [
    "for col in tqdm(CLK_COLS):\n",
    "    temp_df = grid_df.groupby(['user_id']).apply(lambda x: get_clk_list(x, col)).reset_index().rename(columns={0: col})\n",
    "    temp_df.to_pickle(TRAIN_DIR+CLK_PATH_DICT[col])\n",
    "    temp_df = grid_df_test.groupby(['user_id']).apply(lambda x: get_clk_list(x, col)).reset_index().rename(columns={0: col})\n",
    "    temp_df.to_pickle(TEST_DIR+CLK_PATH_DICT[col])"
   ]
  },
  {
   "cell_type": "code",
   "execution_count": null,
   "metadata": {},
   "outputs": [],
   "source": []
  }
 ],
 "metadata": {
  "kernelspec": {
   "display_name": "Python 3",
   "language": "python",
   "name": "python3"
  },
  "language_info": {
   "codemirror_mode": {
    "name": "ipython",
    "version": 3
   },
   "file_extension": ".py",
   "mimetype": "text/x-python",
   "name": "python",
   "nbconvert_exporter": "python",
   "pygments_lexer": "ipython3",
   "version": "3.6.10"
  }
 },
 "nbformat": 4,
 "nbformat_minor": 4
}
