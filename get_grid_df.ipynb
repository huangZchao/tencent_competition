{
 "cells": [
  {
   "cell_type": "code",
   "execution_count": 2,
   "metadata": {},
   "outputs": [],
   "source": [
    "import pandas as pd\n",
    "from tools import *"
   ]
  },
  {
   "cell_type": "code",
   "execution_count": 3,
   "metadata": {},
   "outputs": [],
   "source": [
    "TRAIN_DIR = '/home/huangzc/competition/tencent/data/train_preliminary/'\n",
    "TEST_DIR = '/home/huangzc/competition/tencent/data/test/'"
   ]
  },
  {
   "cell_type": "code",
   "execution_count": 4,
   "metadata": {},
   "outputs": [],
   "source": [
    "USER_PATH = 'user.csv'\n",
    "LOG_PATH = 'click_log.csv'\n",
    "AD_PATH = 'ad.csv'"
   ]
  },
  {
   "cell_type": "code",
   "execution_count": 5,
   "metadata": {},
   "outputs": [],
   "source": [
    "tr_user_df = pd.read_csv(TRAIN_DIR + USER_PATH)\n",
    "tr_log_df = pd.read_csv(TRAIN_DIR + LOG_PATH)\n",
    "tr_ad_df = pd.read_csv(TRAIN_DIR + AD_PATH)\n",
    "\n",
    "ts_log_df = pd.read_csv(TEST_DIR + LOG_PATH)\n",
    "ts_ad_df = pd.read_csv(TEST_DIR + AD_PATH)"
   ]
  },
  {
   "cell_type": "markdown",
   "metadata": {},
   "source": [
    "### 删除 LOG 里的异常点击"
   ]
  },
  {
   "cell_type": "code",
   "execution_count": 6,
   "metadata": {},
   "outputs": [
    {
     "name": "stdout",
     "output_type": "stream",
     "text": [
      "900000 1000000\n"
     ]
    }
   ],
   "source": [
    "tr_log_df = tr_log_df[tr_log_df['click_times']<30].reset_index(drop=True)\n",
    "ts_log_df = ts_log_df[ts_log_df['click_times']<30].reset_index(drop=True)\n",
    "\n",
    "print(len(tr_log_df['user_id'].unique()), len(ts_log_df['user_id'].unique()))"
   ]
  },
  {
   "cell_type": "code",
   "execution_count": 7,
   "metadata": {},
   "outputs": [
    {
     "name": "stdout",
     "output_type": "stream",
     "text": [
      "Mem. usage decreased to 44.96 Mb (60.4% reduction)\n",
      "Mem. usage decreased to 47.44 Mb (60.4% reduction)\n"
     ]
    }
   ],
   "source": [
    "### 删除'\\\\N\n",
    "for col in tr_ad_df.columns:\n",
    "    numerics = [\"int16\", \"int32\", \"int64\", \"float16\", \"float32\", \"float64\"]\n",
    "    if tr_ad_df[col].dtypes not in numerics:\n",
    "        tr_ad_df.loc[tr_ad_df[col]=='\\\\N', col] = '0'\n",
    "        tr_ad_df[col] = tr_ad_df[col].astype('int64')\n",
    "        ts_ad_df.loc[ts_ad_df[col]=='\\\\N', col] = '0'\n",
    "        ts_ad_df[col] = ts_ad_df[col].astype('int64')\n",
    "\n",
    "tr_ad_df = reduce_mem_usage(tr_ad_df)\n",
    "ts_ad_df = reduce_mem_usage(ts_ad_df)"
   ]
  },
  {
   "cell_type": "code",
   "execution_count": 8,
   "metadata": {},
   "outputs": [],
   "source": [
    "tr_user_df = tr_user_df.merge(tr_log_df, on=['user_id'], how='left')"
   ]
  },
  {
   "cell_type": "code",
   "execution_count": 9,
   "metadata": {},
   "outputs": [],
   "source": [
    "tr_ad_df = tr_user_df[['creative_id']].merge(tr_ad_df, on=['creative_id'], how='left')"
   ]
  },
  {
   "cell_type": "code",
   "execution_count": 10,
   "metadata": {},
   "outputs": [
    {
     "name": "stdout",
     "output_type": "stream",
     "text": [
      "Mem. usage decreased to 573.78 Mb (64.3% reduction)\n",
      "Mem. usage decreased to 774.61 Mb (12.9% reduction)\n"
     ]
    }
   ],
   "source": [
    "tr_user_df = reduce_mem_usage(tr_user_df)\n",
    "tr_ad_df = reduce_mem_usage(tr_ad_df)\n",
    "\n",
    "tr_user_df.to_pickle(TRAIN_DIR + 'grid_df_part1.pkl')\n",
    "tr_ad_df.to_pickle(TRAIN_DIR + 'grid_df_part2.pkl')"
   ]
  },
  {
   "cell_type": "code",
   "execution_count": 11,
   "metadata": {},
   "outputs": [],
   "source": [
    "ts_ad_df = ts_log_df[['creative_id']].merge(ts_ad_df, on=['creative_id'], how='left')"
   ]
  },
  {
   "cell_type": "code",
   "execution_count": 12,
   "metadata": {},
   "outputs": [
    {
     "name": "stdout",
     "output_type": "stream",
     "text": [
      "Mem. usage decreased to 320.29 Mb (68.7% reduction)\n",
      "Mem. usage decreased to 864.79 Mb (12.9% reduction)\n"
     ]
    }
   ],
   "source": [
    "ts_log_df = reduce_mem_usage(ts_log_df)\n",
    "ts_ad_df = reduce_mem_usage(ts_ad_df)\n",
    "\n",
    "ts_log_df.to_pickle(TEST_DIR + 'grid_df_part1.pkl')\n",
    "ts_ad_df.to_pickle(TEST_DIR + 'grid_df_part2.pkl')"
   ]
  },
  {
   "cell_type": "code",
   "execution_count": null,
   "metadata": {},
   "outputs": [],
   "source": []
  }
 ],
 "metadata": {
  "kernelspec": {
   "display_name": "Python 3",
   "language": "python",
   "name": "python3"
  },
  "language_info": {
   "codemirror_mode": {
    "name": "ipython",
    "version": 3
   },
   "file_extension": ".py",
   "mimetype": "text/x-python",
   "name": "python",
   "nbconvert_exporter": "python",
   "pygments_lexer": "ipython3",
   "version": "3.6.10"
  }
 },
 "nbformat": 4,
 "nbformat_minor": 4
}
