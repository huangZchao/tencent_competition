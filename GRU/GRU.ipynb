{
 "cells": [
  {
   "cell_type": "code",
   "execution_count": 6,
   "metadata": {},
   "outputs": [],
   "source": [
    "import tensorflow as tf\n",
    "import matplotlib.pyplot as plt\n",
    "\n",
    "def plot_graphs(history, metric):\n",
    "    plt.plot(history.history[metric])\n",
    "    plt.plot(history.history['val_'+metric], '')\n",
    "    plt.xlabel(\"Epochs\")\n",
    "    plt.ylabel(metric)\n",
    "    plt.legend([metric, 'val_'+metric])\n",
    "    plt.show()\n",
    "\n",
    "import pandas as pd\n",
    "import sys\n",
    "sys.path.append('../')\n",
    "\n",
    "from config import *\n",
    "from sklearn.model_selection import train_test_split\n",
    "\n",
    "import numpy as np"
   ]
  },
  {
   "cell_type": "code",
   "execution_count": 7,
   "metadata": {},
   "outputs": [],
   "source": [
    "import random"
   ]
  },
  {
   "cell_type": "code",
   "execution_count": 8,
   "metadata": {},
   "outputs": [],
   "source": [
    "from tensorflow.python.keras.preprocessing import sequence"
   ]
  },
  {
   "cell_type": "code",
   "execution_count": 9,
   "metadata": {},
   "outputs": [],
   "source": [
    "tr_clk_list = pd.read_pickle(TRAIN_DIR+CLK_PATH_DICT['creative_id'])\n",
    "tr_user = pd.read_pickle(TRAIN_DIR+USER_PATH).groupby(['user_id']).agg({'age': 'first'}).reset_index()\n",
    "ts_clk_list = pd.read_pickle(TEST_DIR+CLK_PATH_DICT['creative_id'])"
   ]
  },
  {
   "cell_type": "code",
   "execution_count": 10,
   "metadata": {},
   "outputs": [],
   "source": [
    "assert tr_clk_list['user_id'].values.tolist() == tr_user['user_id'].values.tolist()\n",
    "df = pd.concat([tr_clk_list, tr_user[['age']]], axis=1)\n",
    "\n",
    "del tr_clk_list, tr_user"
   ]
  },
  {
   "cell_type": "code",
   "execution_count": 11,
   "metadata": {},
   "outputs": [],
   "source": [
    "### split train validation dataset\n",
    "####################################\n",
    "train, val = train_test_split(df, test_size=0.2)"
   ]
  },
  {
   "cell_type": "code",
   "execution_count": null,
   "metadata": {},
   "outputs": [],
   "source": [
    "### ssss\n",
    "# train['clk_list'].map(lambda x: random.shuffle(x))\n",
    "# val['clk_list'].map(lambda x: random.shuffle(x))\n",
    "# ts_clk_list['clk_list'].map(lambda x: random.shuffle(x))"
   ]
  },
  {
   "cell_type": "code",
   "execution_count": 13,
   "metadata": {},
   "outputs": [],
   "source": [
    "tr_x, tr_y = train['creative_id'], train['age']-1\n",
    "vl_x, vl_y = val['creative_id'], val['age']-1\n",
    "\n",
    "ts_x = ts_clk_list['creative_id']"
   ]
  },
  {
   "cell_type": "code",
   "execution_count": 14,
   "metadata": {},
   "outputs": [
    {
     "name": "stdout",
     "output_type": "stream",
     "text": [
      "choose sentences max len: 192, test sentences max len: 157\n"
     ]
    }
   ],
   "source": [
    "sentence_size = int(df['creative_id'].map(lambda x: len(x)).quantile(0.995))\n",
    "tmp = int(ts_clk_list['creative_id'].map(lambda x: len(x)).quantile(0.99))\n",
    "print('choose sentences max len: %d, test sentences max len: %d' % (sentence_size, tmp))"
   ]
  },
  {
   "cell_type": "code",
   "execution_count": 15,
   "metadata": {},
   "outputs": [],
   "source": [
    "### Hyperparameter\n",
    "############################\n",
    "SENTENCE_SIZE = 200\n",
    "BATCH_SIZE = 1024"
   ]
  },
  {
   "cell_type": "code",
   "execution_count": 16,
   "metadata": {},
   "outputs": [
    {
     "name": "stdout",
     "output_type": "stream",
     "text": [
      "Pad sequences (samples x time)\n",
      "x_train shape: (720000, 200)\n",
      "x_val shape: (180000, 200)\n",
      "x_test shape: (1000000, 200)\n"
     ]
    }
   ],
   "source": [
    "print(\"Pad sequences (samples x time)\")\n",
    "\n",
    "### feature_columns[0] means click list\n",
    "tr_x = sequence.pad_sequences(tr_x,\n",
    "                                 maxlen=SENTENCE_SIZE, \n",
    "                                 padding='post', \n",
    "                                 truncating='post',\n",
    "                                 dtype='int64',\n",
    "                                 value=0\n",
    "                                 )\n",
    "vl_x = sequence.pad_sequences(vl_x,\n",
    "                                 maxlen=SENTENCE_SIZE, \n",
    "                                 padding='post', \n",
    "                                 truncating='post',\n",
    "                                 dtype='int64',\n",
    "                                 value=0\n",
    "                                 )\n",
    "ts_x = sequence.pad_sequences(ts_x, \n",
    "                                maxlen=SENTENCE_SIZE, \n",
    "                                padding='post',\n",
    "                                truncating='post',\n",
    "                                dtype='int64',\n",
    "                                value=0\n",
    "                               )\n",
    "print(\"x_train shape:\", tr_x.shape)\n",
    "print(\"x_val shape:\", vl_x.shape)\n",
    "print(\"x_test shape:\", ts_x.shape)"
   ]
  },
  {
   "cell_type": "code",
   "execution_count": 17,
   "metadata": {},
   "outputs": [],
   "source": [
    "### Get tf dataset\n",
    "def get_train_ds(x, y): \n",
    "    dataset = tf.data.Dataset.from_tensor_slices((x, y))\n",
    "    dataset = dataset.shuffle(buffer_size=len(x))\n",
    "    dataset = dataset.batch(BATCH_SIZE)\n",
    "#     dataset = dataset.repeat(EPOCHS)\n",
    "    return dataset\n",
    "\n",
    "def get_test_ds(x, ): \n",
    "    dataset = tf.data.Dataset.from_tensor_slices(x).batch(BATCH_SIZE)\n",
    "    return dataset\n",
    "\n",
    "tr_ds = get_train_ds(tr_x, tr_y.values)\n",
    "vl_ds = get_train_ds(vl_x, vl_y.values)\n",
    "ts_ds = get_test_ds(ts_x)"
   ]
  },
  {
   "cell_type": "code",
   "execution_count": 18,
   "metadata": {},
   "outputs": [
    {
     "name": "stdout",
     "output_type": "stream",
     "text": [
      "vocab size: 4445721\n"
     ]
    }
   ],
   "source": [
    "### Get vocab size\n",
    "##############################################\n",
    "tr_ad_df = pd.read_pickle(TRAIN_DIR+AD_PATH)\n",
    "ts_ad_df = pd.read_pickle(TEST_DIR+AD_PATH)\n",
    "vocab_size = max(pd.concat([tr_ad_df, ts_ad_df], axis=0)['creative_id'].unique().tolist()) + 1 ### padding 0 need add 1\n",
    "\n",
    "print('vocab size: %d' % vocab_size)"
   ]
  },
  {
   "cell_type": "code",
   "execution_count": 23,
   "metadata": {},
   "outputs": [],
   "source": [
    "model = tf.keras.Sequential([\n",
    "    tf.keras.layers.Embedding(vocab_size, 64),\n",
    "    tf.keras.layers.Bidirectional(tf.keras.layers.LSTM(64)),\n",
    "    tf.keras.layers.Dense(64, activation='relu', kernel_regularizer=tf.keras.regularizers.l2(0.1)),\n",
    "    tf.keras.layers.Dense(10)\n",
    "])"
   ]
  },
  {
   "cell_type": "code",
   "execution_count": 24,
   "metadata": {},
   "outputs": [
    {
     "name": "stdout",
     "output_type": "stream",
     "text": [
      "Model: \"sequential_1\"\n",
      "_________________________________________________________________\n",
      "Layer (type)                 Output Shape              Param #   \n",
      "=================================================================\n",
      "embedding_1 (Embedding)      (None, None, 64)          284526144 \n",
      "_________________________________________________________________\n",
      "bidirectional_1 (Bidirection (None, 128)               66048     \n",
      "_________________________________________________________________\n",
      "dense_2 (Dense)              (None, 64)                8256      \n",
      "_________________________________________________________________\n",
      "dense_3 (Dense)              (None, 10)                650       \n",
      "=================================================================\n",
      "Total params: 284,601,098\n",
      "Trainable params: 284,601,098\n",
      "Non-trainable params: 0\n",
      "_________________________________________________________________\n"
     ]
    }
   ],
   "source": [
    "model.summary()"
   ]
  },
  {
   "cell_type": "code",
   "execution_count": 20,
   "metadata": {},
   "outputs": [],
   "source": [
    "model.compile(loss=tf.keras.losses.SparseCategoricalCrossentropy(from_logits=True),\n",
    "              optimizer=tf.keras.optimizers.Adam(1e-4),\n",
    "              metrics=['accuracy'])"
   ]
  },
  {
   "cell_type": "code",
   "execution_count": null,
   "metadata": {},
   "outputs": [],
   "source": [
    "history = model.fit(tr_ds, epochs=10,\n",
    "                    validation_data=vl_ds, \n",
    "                    validation_steps=30)"
   ]
  },
  {
   "cell_type": "code",
   "execution_count": null,
   "metadata": {},
   "outputs": [],
   "source": [
    "val_loss, val_acc = model.evaluate(vl_ds)\n",
    "\n",
    "print('Test Loss: {}'.format(val_loss))\n",
    "print('Test Accuracy: {}'.format(val_acc))"
   ]
  },
  {
   "cell_type": "code",
   "execution_count": null,
   "metadata": {},
   "outputs": [],
   "source": []
  }
 ],
 "metadata": {
  "kernelspec": {
   "display_name": "competition-py36",
   "language": "python",
   "name": "competition-py36"
  },
  "language_info": {
   "codemirror_mode": {
    "name": "ipython",
    "version": 3
   },
   "file_extension": ".py",
   "mimetype": "text/x-python",
   "name": "python",
   "nbconvert_exporter": "python",
   "pygments_lexer": "ipython3",
   "version": "3.6.10"
  }
 },
 "nbformat": 4,
 "nbformat_minor": 4
}
