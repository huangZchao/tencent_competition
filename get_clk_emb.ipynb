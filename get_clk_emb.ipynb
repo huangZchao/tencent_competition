{
 "cells": [
  {
   "cell_type": "code",
   "execution_count": 3,
   "metadata": {},
   "outputs": [
    {
     "name": "stderr",
     "output_type": "stream",
     "text": [
      "2020-06-05 08:04:29,694 : INFO : 'pattern' package not found; tag filters are not available for English\n"
     ]
    }
   ],
   "source": [
    "import gensim\n",
    "import pandas as pd\n",
    "from config import *\n",
    "from tools import *\n",
    "from gensim.models import Word2Vec\n",
    "from gensim.models.callbacks import CallbackAny2Vec\n",
    "import matplotlib.pyplot as plt\n",
    "from IPython.display import clear_output"
   ]
  },
  {
   "cell_type": "code",
   "execution_count": 4,
   "metadata": {},
   "outputs": [],
   "source": [
    "import logging\n",
    "logging.basicConfig(format='%(asctime)s : %(levelname)s : %(message)s', level=logging.INFO)"
   ]
  },
  {
   "cell_type": "code",
   "execution_count": 5,
   "metadata": {},
   "outputs": [],
   "source": [
    "tr_clk_list_df = pd.read_pickle(TRAIN_DIR+CLK_PATH_DICT['ad_id'])\n",
    "ts_clk_list_df = pd.read_pickle(TEST_DIR+CLK_PATH_DICT['ad_id'])"
   ]
  },
  {
   "cell_type": "code",
   "execution_count": 6,
   "metadata": {},
   "outputs": [],
   "source": [
    "grid_df = pd.concat([tr_clk_list_df, ts_clk_list_df], axis=0)\n",
    "del tr_clk_list_df, ts_clk_list_df"
   ]
  },
  {
   "cell_type": "code",
   "execution_count": 7,
   "metadata": {},
   "outputs": [],
   "source": [
    "grid_df['ad_id'] = grid_df['ad_id'].map(lambda x: list(map(str, x)))"
   ]
  },
  {
   "cell_type": "code",
   "execution_count": 8,
   "metadata": {},
   "outputs": [],
   "source": [
    "sentences = grid_df['ad_id'].values.tolist()"
   ]
  },
  {
   "cell_type": "code",
   "execution_count": 9,
   "metadata": {},
   "outputs": [],
   "source": [
    "class loss(object):\n",
    "    def __init__(self):\n",
    "        self.loss_list = []"
   ]
  },
  {
   "cell_type": "code",
   "execution_count": 15,
   "metadata": {},
   "outputs": [],
   "source": [
    "### Gensim callback\n",
    "#####################################\n",
    "class callback(CallbackAny2Vec):\n",
    "    '''Callback to print loss after each epoch.'''\n",
    "\n",
    "    def __init__(self):\n",
    "        self.epoch = 0\n",
    "        self.loss = loss()\n",
    "\n",
    "    def on_epoch_end(self, model):\n",
    "        clear_output(wait=True)\n",
    "        loss = model.get_latest_training_loss()\n",
    "        \n",
    "        self.loss.loss_list.append(loss)\n",
    "        ### show loss\n",
    "        if len(self.loss.loss_list) > 1:\n",
    "            tmp = np.array(self.loss.loss_list)\n",
    "            plt.plot(tmp[1:]-tmp[:-1])\n",
    "            plt.show()\n",
    "            \n",
    "        print('loss list: ', self.loss.loss_list)\n",
    "        print('Loss after epoch {}: {}'.format(self.epoch, loss))\n",
    "        model.save('/home/huangzc/competition/tencent/model_ckpt/gensim/model.txt')\n",
    "        self.epoch += 1"
   ]
  },
  {
   "cell_type": "code",
   "execution_count": 115,
   "metadata": {},
   "outputs": [],
   "source": [
    "### Gensim Parameter\n",
    "######################################\n",
    "params = {'sentences': sentences,\n",
    "          'size': 50,\n",
    "          'window': 20,\n",
    "          'min_count': 2,\n",
    "          'compute_loss': True,\n",
    "          'sample': 0.0001,\n",
    "          'iter': 200,\n",
    "          'workers': 25,\n",
    "          'callbacks': [callback()]}"
   ]
  },
  {
   "cell_type": "code",
   "execution_count": 116,
   "metadata": {
    "scrolled": true
   },
   "outputs": [
    {
     "data": {
      "image/png": "[encoded data removed]",
      "text/plain": [
       "<Figure size 432x288 with 1 Axes>"
      ]
     },
     "metadata": {
      "needs_background": "light"
     },
     "output_type": "display_data"
    },
    {
     "name": "stderr",
     "output_type": "stream",
     "text": [
      "2020-06-07 08:48:58,761 : INFO : saving Word2Vec object under /home/huangzc/competition/tencent/model_ckpt/gensim/model.txt, separately None\n",
      "2020-06-07 08:48:58,762 : INFO : storing np array 'vectors' to /home/huangzc/competition/tencent/model_ckpt/gensim/model.txt.wv.vectors.npy\n"
     ]
    },
    {
     "name": "stdout",
     "output_type": "stream",
     "text": [
      "loss list:  [5278968.5, 8808450.0, 11781634.0, 14635316.0, 17301906.0, 19553312.0, 21747004.0, 23903944.0, 26022590.0, 28122340.0, 30203244.0, 32262042.0, 34043096.0, 35364176.0, 36675700.0, 37994172.0, 39299444.0, 40594820.0, 41886984.0, 43177544.0, 44460484.0, 45741024.0, 47013240.0, 48279912.0, 49558492.0, 50823416.0, 52089828.0, 53352044.0, 54615648.0, 55868716.0, 57118996.0, 58370536.0, 59621400.0, 60868752.0, 62111216.0, 63354120.0, 64591072.0, 65823496.0, 67049340.0, 67476056.0, 67865408.0, 68253840.0, 68642280.0, 69031856.0, 69421296.0, 69808296.0, 70193376.0, 70579488.0, 70965576.0, 71350360.0, 71732872.0, 72116784.0, 72500224.0, 72883344.0, 73266424.0, 73647184.0, 74028072.0, 74408640.0, 74789056.0, 75168248.0, 75546616.0, 75925624.0, 76303744.0, 76680376.0, 77057464.0, 77435144.0, 77804808.0, 78181656.0, 78558128.0, 78932760.0, 79308712.0, 79681432.0, 80054296.0, 80421104.0, 80789240.0, 81159656.0, 81528552.0, 81897688.0, 82268176.0, 82639472.0, 83009112.0, 83374944.0, 83746920.0, 84112544.0, 84482600.0, 84850456.0, 85215296.0, 85579248.0, 85944176.0, 86307008.0, 86668160.0, 87029664.0, 87389352.0, 87752496.0, 88112824.0, 88468448.0, 88825512.0, 89183456.0, 89541400.0, 89899608.0, 90253784.0, 90605464.0, 90957136.0, 91306832.0, 91663408.0, 92016776.0, 92368312.0, 92714904.0, 93063504.0, 93407968.0, 93750728.0, 94093768.0, 94439368.0, 94781448.0, 95124024.0, 95464616.0, 95806672.0, 96145112.0, 96482752.0, 96822896.0, 97163504.0, 97498344.0, 97833600.0, 98163968.0, 98500656.0, 98833176.0, 99165384.0, 99494408.0, 99825944.0, 100153976.0, 100476832.0, 100802808.0, 101127648.0, 101451256.0, 101771768.0, 102094624.0, 102415176.0, 102733904.0, 103053808.0, 103367992.0, 103686168.0, 104002336.0, 104314848.0, 104629112.0, 104937136.0, 105247248.0, 105556280.0, 105861232.0, 106167552.0, 106471880.0, 106772584.0, 107075024.0, 107375328.0, 107673544.0, 107967632.0, 108264672.0, 108561208.0, 108855248.0, 109147456.0, 109432160.0, 109719368.0, 110008640.0, 110292088.0, 110575848.0, 110856840.0, 111139328.0, 111417992.0, 111695592.0, 111967256.0, 112240280.0, 112512344.0, 112785008.0, 113053936.0, 113320608.0, 113583432.0, 113846400.0, 114106776.0, 114364768.0, 114623968.0, 114878912.0, 115131600.0, 115380072.0, 115630016.0, 115878792.0, 116124936.0, 116367544.0, 116609464.0, 116849928.0, 117088512.0, 117323688.0, 117556448.0, 117786616.0, 118015432.0, 118242264.0, 118469448.0, 118692032.0, 118915184.0, 119135312.0, 119352216.0, 119567672.0]\n",
      "Loss after epoch 199: 119567672.0\n"
     ]
    },
    {
     "name": "stderr",
     "output_type": "stream",
     "text": [
      "2020-06-07 08:48:59,119 : INFO : not storing attribute vectors_norm\n",
      "2020-06-07 08:48:59,120 : INFO : storing np array 'syn1neg' to /home/huangzc/competition/tencent/model_ckpt/gensim/model.txt.trainables.syn1neg.npy\n",
      "2020-06-07 08:48:59,459 : INFO : not storing attribute cum_table\n",
      "2020-06-07 08:49:06,727 : INFO : saved /home/huangzc/competition/tencent/model_ckpt/gensim/model.txt\n",
      "2020-06-07 08:49:06,729 : INFO : training on a 12733602800 raw words (11757784120 effective words) took 17686.1s, 664803 effective words/s\n"
     ]
    }
   ],
   "source": [
    "model = Word2Vec(**params)"
   ]
  },
  {
   "cell_type": "code",
   "execution_count": 109,
   "metadata": {},
   "outputs": [
    {
     "name": "stderr",
     "output_type": "stream",
     "text": [
      "2020-06-07 02:00:13,683 : INFO : loading Word2Vec object from /home/huangzc/competition/tencent/model_ckpt/gensim/model.txt\n",
      "2020-06-07 02:00:24,130 : INFO : loading wv recursively from /home/huangzc/competition/tencent/model_ckpt/gensim/model.txt.wv.* with mmap=None\n",
      "2020-06-07 02:00:24,132 : INFO : loading vectors from /home/huangzc/competition/tencent/model_ckpt/gensim/model.txt.wv.vectors.npy with mmap=None\n",
      "2020-06-07 02:00:24,447 : INFO : setting ignored attribute vectors_norm to None\n",
      "2020-06-07 02:00:24,448 : INFO : loading vocabulary recursively from /home/huangzc/competition/tencent/model_ckpt/gensim/model.txt.vocabulary.* with mmap=None\n",
      "2020-06-07 02:00:24,449 : INFO : loading trainables recursively from /home/huangzc/competition/tencent/model_ckpt/gensim/model.txt.trainables.* with mmap=None\n",
      "2020-06-07 02:00:24,449 : INFO : loading syn1neg from /home/huangzc/competition/tencent/model_ckpt/gensim/model.txt.trainables.syn1neg.npy with mmap=None\n",
      "2020-06-07 02:00:24,757 : INFO : setting ignored attribute cum_table to None\n",
      "2020-06-07 02:00:24,758 : INFO : loaded /home/huangzc/competition/tencent/model_ckpt/gensim/model.txt\n"
     ]
    }
   ],
   "source": [
    "# ### Restore Model\n",
    "# # #####################################\n",
    "save_path = '/home/huangzc/competition/tencent/model_ckpt/gensim/model.txt'\n",
    "model = Word2Vec.load(save_path)"
   ]
  },
  {
   "cell_type": "markdown",
   "metadata": {},
   "source": [
    "### 新方法"
   ]
  },
  {
   "cell_type": "code",
   "execution_count": 110,
   "metadata": {},
   "outputs": [],
   "source": [
    "vocab = model.wv.index2word"
   ]
  },
  {
   "cell_type": "code",
   "execution_count": 111,
   "metadata": {},
   "outputs": [],
   "source": [
    "vocab_dict = dict(zip(vocab, list(range(len(vocab)))))"
   ]
  },
  {
   "cell_type": "code",
   "execution_count": 112,
   "metadata": {},
   "outputs": [],
   "source": [
    "f = open(TRAIN_DIR+'gensim_ad_id_dict.js','w')\n",
    "f.write(str(vocab_dict))\n",
    "f.close()"
   ]
  },
  {
   "cell_type": "code",
   "execution_count": 113,
   "metadata": {},
   "outputs": [],
   "source": [
    "wv_matrix = model.wv.vectors"
   ]
  },
  {
   "cell_type": "code",
   "execution_count": 114,
   "metadata": {},
   "outputs": [],
   "source": [
    "np.save(TRAIN_DIR+'gensim_ad_id.npy', wv_matrix)"
   ]
  },
  {
   "cell_type": "code",
   "execution_count": null,
   "metadata": {},
   "outputs": [],
   "source": []
  }
 ],
 "metadata": {
  "kernelspec": {
   "display_name": "Python 3",
   "language": "python",
   "name": "python3"
  },
  "language_info": {
   "codemirror_mode": {
    "name": "ipython",
    "version": 3
   },
   "file_extension": ".py",
   "mimetype": "text/x-python",
   "name": "python",
   "nbconvert_exporter": "python",
   "pygments_lexer": "ipython3",
   "version": "3.6.10"
  }
 },
 "nbformat": 4,
 "nbformat_minor": 4
}
