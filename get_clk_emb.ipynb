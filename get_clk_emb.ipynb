{
 "cells": [
  {
   "cell_type": "code",
   "execution_count": 3,
   "metadata": {},
   "outputs": [
    {
     "name": "stderr",
     "output_type": "stream",
     "text": [
      "2020-06-05 08:04:29,694 : INFO : 'pattern' package not found; tag filters are not available for English\n"
     ]
    }
   ],
   "source": [
    "import gensim\n",
    "import pandas as pd\n",
    "from config import *\n",
    "from tools import *\n",
    "from gensim.models import Word2Vec\n",
    "from gensim.models.callbacks import CallbackAny2Vec\n",
    "import matplotlib.pyplot as plt\n",
    "from IPython.display import clear_output"
   ]
  },
  {
   "cell_type": "code",
   "execution_count": 4,
   "metadata": {},
   "outputs": [],
   "source": [
    "import logging\n",
    "logging.basicConfig(format='%(asctime)s : %(levelname)s : %(message)s', level=logging.INFO)"
   ]
  },
  {
   "cell_type": "code",
   "execution_count": 5,
   "metadata": {},
   "outputs": [],
   "source": [
    "tr_clk_list_df = pd.read_pickle(TRAIN_DIR+CLK_PATH_DICT['ad_id'])\n",
    "ts_clk_list_df = pd.read_pickle(TEST_DIR+CLK_PATH_DICT['ad_id'])"
   ]
  },
  {
   "cell_type": "code",
   "execution_count": 6,
   "metadata": {},
   "outputs": [],
   "source": [
    "grid_df = pd.concat([tr_clk_list_df, ts_clk_list_df], axis=0)\n",
    "del tr_clk_list_df, ts_clk_list_df"
   ]
  },
  {
   "cell_type": "code",
   "execution_count": 7,
   "metadata": {},
   "outputs": [],
   "source": [
    "grid_df['ad_id'] = grid_df['ad_id'].map(lambda x: list(map(str, x)))"
   ]
  },
  {
   "cell_type": "code",
   "execution_count": 8,
   "metadata": {},
   "outputs": [],
   "source": [
    "sentences = grid_df['ad_id'].values.tolist()"
   ]
  },
  {
   "cell_type": "code",
   "execution_count": 9,
   "metadata": {},
   "outputs": [],
   "source": [
    "class loss(object):\n",
    "    def __init__(self):\n",
    "        self.loss_list = []"
   ]
  },
  {
   "cell_type": "code",
   "execution_count": 15,
   "metadata": {},
   "outputs": [],
   "source": [
    "### Gensim callback\n",
    "#####################################\n",
    "class callback(CallbackAny2Vec):\n",
    "    '''Callback to print loss after each epoch.'''\n",
    "\n",
    "    def __init__(self):\n",
    "        self.epoch = 0\n",
    "        self.loss = loss()\n",
    "\n",
    "    def on_epoch_end(self, model):\n",
    "        clear_output(wait=True)\n",
    "        loss = model.get_latest_training_loss()\n",
    "        \n",
    "        self.loss.loss_list.append(loss)\n",
    "        ### show loss\n",
    "        if len(self.loss.loss_list) > 1:\n",
    "            tmp = np.array(self.loss.loss_list)\n",
    "            plt.plot(tmp[1:]-tmp[:-1])\n",
    "            plt.show()\n",
    "            \n",
    "        print('loss list: ', self.loss.loss_list)\n",
    "        print('Loss after epoch {}: {}'.format(self.epoch, loss))\n",
    "        model.save('/home/huangzc/competition/tencent/model_ckpt/gensim/model.txt')\n",
    "        self.epoch += 1"
   ]
  },
  {
   "cell_type": "code",
   "execution_count": 99,
   "metadata": {},
   "outputs": [],
   "source": [
    "### Gensim Parameter\n",
    "######################################\n",
    "params = {'sentences': sentences,\n",
    "          'size': 50,\n",
    "          'window': 20,\n",
    "          'min_count': 2,\n",
    "          'compute_loss': True,\n",
    "          'sample': 0.0001,\n",
    "          'iter': 200,\n",
    "          'workers': 25,\n",
    "          'callbacks': [callback()]}"
   ]
  },
  {
   "cell_type": "code",
   "execution_count": 100,
   "metadata": {
    "scrolled": true
   },
   "outputs": [
    {
     "data": {
      "image/png": "[encoded data removed]",
      "text/plain": [
       "<Figure size 432x288 with 1 Axes>"
      ]
     },
     "metadata": {
      "needs_background": "light"
     },
     "output_type": "display_data"
    },
    {
     "name": "stderr",
     "output_type": "stream",
     "text": [
      "2020-06-06 11:12:13,730 : INFO : saving Word2Vec object under /home/huangzc/competition/tencent/model_ckpt/gensim/model.txt, separately None\n",
      "2020-06-06 11:12:13,731 : INFO : storing np array 'vectors' to /home/huangzc/competition/tencent/model_ckpt/gensim/model.txt.wv.vectors.npy\n"
     ]
    },
    {
     "name": "stdout",
     "output_type": "stream",
     "text": [
      "loss list:  [5286048.0, 8817733.0, 11781148.0, 14644372.0, 17315822.0, 19540010.0, 21731380.0, 23894604.0, 26011754.0, 28110924.0, 30192388.0, 32250834.0, 34036380.0, 35357652.0, 36668920.0, 37978884.0, 39284192.0, 40583504.0, 41883056.0, 43170856.0, 44449212.0, 45737648.0, 47011572.0, 48299800.0, 49565276.0, 50831808.0, 52098488.0, 53353744.0, 54605944.0, 55853600.0, 57102052.0, 58360428.0, 59609904.0, 60855220.0, 62094596.0, 63328464.0, 64570272.0, 65807128.0]\n",
      "Loss after epoch 37: 65807128.0\n"
     ]
    },
    {
     "name": "stderr",
     "output_type": "stream",
     "text": [
      "2020-06-06 11:12:14,225 : INFO : not storing attribute vectors_norm\n",
      "2020-06-06 11:12:14,226 : INFO : storing np array 'syn1neg' to /home/huangzc/competition/tencent/model_ckpt/gensim/model.txt.trainables.syn1neg.npy\n",
      "2020-06-06 11:12:14,827 : INFO : not storing attribute cum_table\n",
      "2020-06-06 11:12:26,279 : INFO : saved /home/huangzc/competition/tencent/model_ckpt/gensim/model.txt\n",
      "2020-06-06 11:12:27,343 : INFO : EPOCH 39 - PROGRESS: at 0.53% examples, 297333 words/s, in_qsize 36, out_qsize 13\n",
      "2020-06-06 11:12:28,600 : INFO : EPOCH 39 - PROGRESS: at 1.55% examples, 399358 words/s, in_qsize 47, out_qsize 2\n",
      "2020-06-06 11:12:29,702 : INFO : EPOCH 39 - PROGRESS: at 2.49% examples, 432709 words/s, in_qsize 41, out_qsize 8\n",
      "2020-06-06 11:12:30,705 : INFO : EPOCH 39 - PROGRESS: at 3.10% examples, 415968 words/s, in_qsize 48, out_qsize 1\n",
      "2020-06-06 11:12:32,120 : INFO : EPOCH 39 - PROGRESS: at 4.05% examples, 411681 words/s, in_qsize 46, out_qsize 3\n",
      "2020-06-06 11:12:33,129 : INFO : EPOCH 39 - PROGRESS: at 4.84% examples, 418376 words/s, in_qsize 48, out_qsize 1\n",
      "2020-06-06 11:12:34,178 : INFO : EPOCH 39 - PROGRESS: at 5.62% examples, 421236 words/s, in_qsize 37, out_qsize 12\n",
      "2020-06-06 11:12:35,308 : INFO : EPOCH 39 - PROGRESS: at 6.62% examples, 432887 words/s, in_qsize 49, out_qsize 0\n",
      "2020-06-06 11:12:36,409 : INFO : EPOCH 39 - PROGRESS: at 7.25% examples, 422281 words/s, in_qsize 45, out_qsize 4\n",
      "2020-06-06 11:12:37,495 : INFO : EPOCH 39 - PROGRESS: at 7.99% examples, 420066 words/s, in_qsize 49, out_qsize 0\n",
      "2020-06-06 11:12:38,498 : INFO : EPOCH 39 - PROGRESS: at 8.62% examples, 415776 words/s, in_qsize 49, out_qsize 0\n",
      "2020-06-06 11:12:39,598 : INFO : EPOCH 39 - PROGRESS: at 9.21% examples, 407751 words/s, in_qsize 44, out_qsize 5\n",
      "2020-06-06 11:12:40,725 : INFO : EPOCH 39 - PROGRESS: at 9.87% examples, 402767 words/s, in_qsize 50, out_qsize 6\n",
      "2020-06-06 11:12:41,857 : INFO : EPOCH 39 - PROGRESS: at 10.78% examples, 407843 words/s, in_qsize 50, out_qsize 5\n",
      "2020-06-06 11:12:42,865 : INFO : EPOCH 39 - PROGRESS: at 11.40% examples, 404755 words/s, in_qsize 40, out_qsize 9\n",
      "2020-06-06 11:12:44,128 : INFO : EPOCH 39 - PROGRESS: at 12.22% examples, 403548 words/s, in_qsize 50, out_qsize 3\n",
      "2020-06-06 11:12:45,205 : INFO : EPOCH 39 - PROGRESS: at 13.11% examples, 408374 words/s, in_qsize 49, out_qsize 0\n",
      "2020-06-06 11:12:46,239 : INFO : EPOCH 39 - PROGRESS: at 13.56% examples, 400170 words/s, in_qsize 38, out_qsize 11\n",
      "2020-06-06 11:12:47,264 : INFO : EPOCH 39 - PROGRESS: at 14.52% examples, 407434 words/s, in_qsize 50, out_qsize 0\n",
      "2020-06-06 11:12:48,299 : INFO : EPOCH 39 - PROGRESS: at 15.11% examples, 403799 words/s, in_qsize 49, out_qsize 0\n",
      "2020-06-06 11:12:49,406 : INFO : EPOCH 39 - PROGRESS: at 15.87% examples, 404043 words/s, in_qsize 50, out_qsize 1\n",
      "2020-06-06 11:12:50,462 : INFO : EPOCH 39 - PROGRESS: at 16.49% examples, 401270 words/s, in_qsize 49, out_qsize 0\n",
      "2020-06-06 11:12:51,538 : INFO : EPOCH 39 - PROGRESS: at 17.09% examples, 398078 words/s, in_qsize 41, out_qsize 8\n",
      "2020-06-06 11:12:52,576 : INFO : EPOCH 39 - PROGRESS: at 18.07% examples, 404496 words/s, in_qsize 43, out_qsize 6\n",
      "2020-06-06 11:12:53,676 : INFO : EPOCH 39 - PROGRESS: at 18.65% examples, 400725 words/s, in_qsize 41, out_qsize 8\n",
      "2020-06-06 11:12:55,114 : INFO : EPOCH 39 - PROGRESS: at 19.44% examples, 396732 words/s, in_qsize 37, out_qsize 12\n",
      "2020-06-06 11:12:56,434 : INFO : EPOCH 39 - PROGRESS: at 20.42% examples, 398655 words/s, in_qsize 47, out_qsize 6\n",
      "2020-06-06 11:12:57,635 : INFO : EPOCH 39 - PROGRESS: at 21.21% examples, 398067 words/s, in_qsize 46, out_qsize 3\n",
      "2020-06-06 11:12:58,703 : INFO : EPOCH 39 - PROGRESS: at 21.79% examples, 395484 words/s, in_qsize 49, out_qsize 0\n",
      "2020-06-06 11:12:59,706 : INFO : EPOCH 39 - PROGRESS: at 22.67% examples, 399042 words/s, in_qsize 43, out_qsize 6\n",
      "2020-06-06 11:13:00,711 : INFO : EPOCH 39 - PROGRESS: at 23.33% examples, 398653 words/s, in_qsize 49, out_qsize 0\n",
      "2020-06-06 11:13:01,717 : INFO : EPOCH 39 - PROGRESS: at 24.11% examples, 400369 words/s, in_qsize 49, out_qsize 0\n",
      "2020-06-06 11:13:02,904 : INFO : EPOCH 39 - PROGRESS: at 24.75% examples, 397473 words/s, in_qsize 48, out_qsize 1\n",
      "2020-06-06 11:13:03,929 : INFO : EPOCH 39 - PROGRESS: at 25.32% examples, 395450 words/s, in_qsize 46, out_qsize 9\n",
      "2020-06-06 11:13:05,353 : INFO : EPOCH 39 - PROGRESS: at 26.29% examples, 395680 words/s, in_qsize 50, out_qsize 0\n",
      "2020-06-06 11:13:06,486 : INFO : EPOCH 39 - PROGRESS: at 27.11% examples, 396229 words/s, in_qsize 41, out_qsize 8\n",
      "2020-06-06 11:13:07,521 : INFO : EPOCH 39 - PROGRESS: at 27.66% examples, 394327 words/s, in_qsize 48, out_qsize 1\n",
      "2020-06-06 11:13:09,016 : INFO : EPOCH 39 - PROGRESS: at 28.44% examples, 391319 words/s, in_qsize 38, out_qsize 11\n",
      "2020-06-06 11:13:10,036 : INFO : EPOCH 39 - PROGRESS: at 29.34% examples, 394225 words/s, in_qsize 43, out_qsize 6\n",
      "2020-06-06 11:13:11,233 : INFO : EPOCH 39 - PROGRESS: at 30.03% examples, 392555 words/s, in_qsize 49, out_qsize 8\n",
      "2020-06-06 11:13:12,398 : INFO : EPOCH 39 - PROGRESS: at 31.02% examples, 395250 words/s, in_qsize 50, out_qsize 0\n",
      "2020-06-06 11:13:13,431 : INFO : EPOCH 39 - PROGRESS: at 31.58% examples, 393634 words/s, in_qsize 46, out_qsize 3\n",
      "2020-06-06 11:13:14,442 : INFO : EPOCH 39 - PROGRESS: at 32.37% examples, 394945 words/s, in_qsize 48, out_qsize 1\n",
      "2020-06-06 11:13:15,454 : INFO : EPOCH 39 - PROGRESS: at 33.19% examples, 396569 words/s, in_qsize 44, out_qsize 5\n",
      "2020-06-06 11:13:16,458 : INFO : EPOCH 39 - PROGRESS: at 33.77% examples, 395444 words/s, in_qsize 50, out_qsize 0\n",
      "2020-06-06 11:13:17,599 : INFO : EPOCH 39 - PROGRESS: at 34.37% examples, 393484 words/s, in_qsize 46, out_qsize 3\n",
      "2020-06-06 11:13:18,646 : INFO : EPOCH 39 - PROGRESS: at 34.96% examples, 392319 words/s, in_qsize 38, out_qsize 11\n",
      "2020-06-06 11:13:19,672 : INFO : EPOCH 39 - PROGRESS: at 35.72% examples, 393235 words/s, in_qsize 50, out_qsize 0\n",
      "2020-06-06 11:13:20,739 : INFO : EPOCH 39 - PROGRESS: at 36.52% examples, 394172 words/s, in_qsize 45, out_qsize 4\n",
      "2020-06-06 11:13:21,756 : INFO : EPOCH 39 - PROGRESS: at 37.06% examples, 392766 words/s, in_qsize 49, out_qsize 0\n",
      "2020-06-06 11:13:23,210 : INFO : EPOCH 39 - PROGRESS: at 38.05% examples, 392938 words/s, in_qsize 47, out_qsize 2\n",
      "2020-06-06 11:13:24,330 : INFO : EPOCH 39 - PROGRESS: at 39.02% examples, 395202 words/s, in_qsize 42, out_qsize 7\n",
      "2020-06-06 11:13:25,425 : INFO : EPOCH 39 - PROGRESS: at 39.60% examples, 393661 words/s, in_qsize 41, out_qsize 8\n",
      "2020-06-06 11:13:26,817 : INFO : EPOCH 39 - PROGRESS: at 40.39% examples, 392232 words/s, in_qsize 43, out_qsize 6\n",
      "2020-06-06 11:13:27,925 : INFO : EPOCH 39 - PROGRESS: at 41.36% examples, 394466 words/s, in_qsize 49, out_qsize 0\n",
      "2020-06-06 11:13:29,016 : INFO : EPOCH 39 - PROGRESS: at 41.97% examples, 393193 words/s, in_qsize 49, out_qsize 0\n",
      "2020-06-06 11:13:30,036 : INFO : EPOCH 39 - PROGRESS: at 42.54% examples, 392258 words/s, in_qsize 50, out_qsize 5\n",
      "2020-06-06 11:13:31,060 : INFO : EPOCH 39 - PROGRESS: at 43.52% examples, 394890 words/s, in_qsize 50, out_qsize 0\n",
      "2020-06-06 11:13:32,102 : INFO : EPOCH 39 - PROGRESS: at 43.94% examples, 392286 words/s, in_qsize 48, out_qsize 1\n",
      "2020-06-06 11:13:33,642 : INFO : EPOCH 39 - PROGRESS: at 44.90% examples, 391815 words/s, in_qsize 39, out_qsize 10\n",
      "2020-06-06 11:13:34,648 : INFO : EPOCH 39 - PROGRESS: at 45.68% examples, 392792 words/s, in_qsize 38, out_qsize 11\n",
      "2020-06-06 11:13:35,729 : INFO : EPOCH 39 - PROGRESS: at 46.43% examples, 393055 words/s, in_qsize 49, out_qsize 0\n",
      "2020-06-06 11:13:37,132 : INFO : EPOCH 39 - PROGRESS: at 47.26% examples, 392045 words/s, in_qsize 43, out_qsize 6\n",
      "2020-06-06 11:13:38,192 : INFO : EPOCH 39 - PROGRESS: at 48.05% examples, 392685 words/s, in_qsize 49, out_qsize 0\n",
      "2020-06-06 11:13:39,204 : INFO : EPOCH 39 - PROGRESS: at 48.69% examples, 392301 words/s, in_qsize 44, out_qsize 8\n",
      "2020-06-06 11:13:40,859 : INFO : EPOCH 39 - PROGRESS: at 49.63% examples, 391020 words/s, in_qsize 41, out_qsize 8\n",
      "2020-06-06 11:13:41,925 : INFO : EPOCH 39 - PROGRESS: at 50.41% examples, 391610 words/s, in_qsize 49, out_qsize 0\n",
      "2020-06-06 11:13:42,975 : INFO : EPOCH 39 - PROGRESS: at 51.03% examples, 391064 words/s, in_qsize 40, out_qsize 9\n"
     ]
    },
    {
     "name": "stderr",
     "output_type": "stream",
     "text": [
      "2020-06-06 11:13:44,398 : INFO : EPOCH 39 - PROGRESS: at 51.96% examples, 391030 words/s, in_qsize 49, out_qsize 0\n",
      "2020-06-06 11:13:45,475 : INFO : EPOCH 39 - PROGRESS: at 52.71% examples, 391436 words/s, in_qsize 49, out_qsize 0\n",
      "2020-06-06 11:13:46,520 : INFO : EPOCH 39 - PROGRESS: at 53.34% examples, 390934 words/s, in_qsize 45, out_qsize 4\n",
      "2020-06-06 11:13:48,113 : INFO : EPOCH 39 - PROGRESS: at 54.28% examples, 390093 words/s, in_qsize 46, out_qsize 3\n",
      "2020-06-06 11:13:49,119 : INFO : EPOCH 39 - PROGRESS: at 55.28% examples, 392485 words/s, in_qsize 41, out_qsize 8\n",
      "2020-06-06 11:13:50,166 : INFO : EPOCH 39 - PROGRESS: at 55.84% examples, 391546 words/s, in_qsize 48, out_qsize 1\n",
      "2020-06-06 11:13:51,231 : INFO : EPOCH 39 - PROGRESS: at 56.83% examples, 393469 words/s, in_qsize 49, out_qsize 0\n",
      "2020-06-06 11:13:52,243 : INFO : EPOCH 39 - PROGRESS: at 57.81% examples, 395493 words/s, in_qsize 42, out_qsize 7\n",
      "2020-06-06 11:13:53,591 : INFO : EPOCH 39 - PROGRESS: at 58.97% examples, 397313 words/s, in_qsize 42, out_qsize 7\n",
      "2020-06-06 11:13:54,632 : INFO : EPOCH 39 - PROGRESS: at 59.58% examples, 396704 words/s, in_qsize 50, out_qsize 4\n",
      "2020-06-06 11:13:55,801 : INFO : EPOCH 39 - PROGRESS: at 60.53% examples, 397802 words/s, in_qsize 48, out_qsize 9\n",
      "2020-06-06 11:13:56,933 : INFO : EPOCH 39 - PROGRESS: at 61.13% examples, 396704 words/s, in_qsize 39, out_qsize 10\n",
      "2020-06-06 11:13:58,485 : INFO : EPOCH 39 - PROGRESS: at 61.92% examples, 395383 words/s, in_qsize 50, out_qsize 12\n",
      "2020-06-06 11:13:59,519 : INFO : EPOCH 39 - PROGRESS: at 62.91% examples, 396888 words/s, in_qsize 41, out_qsize 8\n",
      "2020-06-06 11:14:00,536 : INFO : EPOCH 39 - PROGRESS: at 63.51% examples, 396334 words/s, in_qsize 45, out_qsize 4\n",
      "2020-06-06 11:14:01,735 : INFO : EPOCH 39 - PROGRESS: at 64.29% examples, 396188 words/s, in_qsize 43, out_qsize 6\n",
      "2020-06-06 11:14:03,115 : INFO : EPOCH 39 - PROGRESS: at 65.27% examples, 396449 words/s, in_qsize 47, out_qsize 7\n",
      "2020-06-06 11:14:04,194 : INFO : EPOCH 39 - PROGRESS: at 65.87% examples, 395663 words/s, in_qsize 44, out_qsize 5\n",
      "2020-06-06 11:14:05,324 : INFO : EPOCH 39 - PROGRESS: at 66.46% examples, 394683 words/s, in_qsize 47, out_qsize 6\n",
      "2020-06-06 11:14:06,640 : INFO : EPOCH 39 - PROGRESS: at 67.42% examples, 395207 words/s, in_qsize 49, out_qsize 0\n",
      "2020-06-06 11:14:07,700 : INFO : EPOCH 39 - PROGRESS: at 68.03% examples, 394529 words/s, in_qsize 41, out_qsize 8\n",
      "2020-06-06 11:14:08,733 : INFO : EPOCH 39 - PROGRESS: at 68.63% examples, 393980 words/s, in_qsize 43, out_qsize 6\n",
      "2020-06-06 11:14:09,806 : INFO : EPOCH 39 - PROGRESS: at 69.57% examples, 395248 words/s, in_qsize 50, out_qsize 0\n",
      "2020-06-06 11:14:11,105 : INFO : EPOCH 39 - PROGRESS: at 70.22% examples, 393955 words/s, in_qsize 40, out_qsize 9\n",
      "2020-06-06 11:14:12,329 : INFO : EPOCH 39 - PROGRESS: at 71.00% examples, 393759 words/s, in_qsize 49, out_qsize 9\n",
      "2020-06-06 11:14:13,403 : INFO : EPOCH 39 - PROGRESS: at 71.93% examples, 394892 words/s, in_qsize 50, out_qsize 1\n",
      "2020-06-06 11:14:14,623 : INFO : EPOCH 39 - PROGRESS: at 72.35% examples, 392740 words/s, in_qsize 39, out_qsize 10\n",
      "2020-06-06 11:14:15,654 : INFO : EPOCH 39 - PROGRESS: at 72.95% examples, 392244 words/s, in_qsize 39, out_qsize 10\n",
      "2020-06-06 11:14:16,664 : INFO : EPOCH 39 - PROGRESS: at 73.73% examples, 392835 words/s, in_qsize 39, out_qsize 10\n",
      "2020-06-06 11:14:18,032 : INFO : EPOCH 39 - PROGRESS: at 74.52% examples, 392152 words/s, in_qsize 39, out_qsize 10\n",
      "2020-06-06 11:14:19,101 : INFO : EPOCH 39 - PROGRESS: at 75.14% examples, 391773 words/s, in_qsize 43, out_qsize 6\n",
      "2020-06-06 11:14:20,178 : INFO : EPOCH 39 - PROGRESS: at 76.08% examples, 392916 words/s, in_qsize 41, out_qsize 8\n",
      "2020-06-06 11:14:21,181 : INFO : EPOCH 39 - PROGRESS: at 76.63% examples, 392360 words/s, in_qsize 49, out_qsize 0\n",
      "2020-06-06 11:14:22,603 : INFO : EPOCH 39 - PROGRESS: at 77.42% examples, 391610 words/s, in_qsize 42, out_qsize 8\n",
      "2020-06-06 11:14:23,664 : INFO : EPOCH 39 - PROGRESS: at 78.21% examples, 392000 words/s, in_qsize 42, out_qsize 7\n",
      "2020-06-06 11:14:24,725 : INFO : EPOCH 39 - PROGRESS: at 78.96% examples, 392227 words/s, in_qsize 47, out_qsize 2\n",
      "2020-06-06 11:14:26,241 : INFO : EPOCH 39 - PROGRESS: at 79.79% examples, 391341 words/s, in_qsize 40, out_qsize 9\n",
      "2020-06-06 11:14:27,602 : INFO : EPOCH 39 - PROGRESS: at 80.76% examples, 391591 words/s, in_qsize 46, out_qsize 3\n",
      "2020-06-06 11:14:28,664 : INFO : EPOCH 39 - PROGRESS: at 81.52% examples, 391856 words/s, in_qsize 49, out_qsize 0\n",
      "2020-06-06 11:14:29,719 : INFO : EPOCH 39 - PROGRESS: at 81.95% examples, 390529 words/s, in_qsize 45, out_qsize 4\n",
      "2020-06-06 11:14:30,788 : INFO : EPOCH 39 - PROGRESS: at 82.94% examples, 391850 words/s, in_qsize 43, out_qsize 6\n",
      "2020-06-06 11:14:32,017 : INFO : EPOCH 39 - PROGRESS: at 83.50% examples, 390656 words/s, in_qsize 44, out_qsize 5\n",
      "2020-06-06 11:14:33,322 : INFO : EPOCH 39 - PROGRESS: at 84.29% examples, 390275 words/s, in_qsize 48, out_qsize 1\n",
      "2020-06-06 11:14:34,392 : INFO : EPOCH 39 - PROGRESS: at 85.30% examples, 391622 words/s, in_qsize 41, out_qsize 8\n",
      "2020-06-06 11:14:35,479 : INFO : EPOCH 39 - PROGRESS: at 85.84% examples, 390822 words/s, in_qsize 45, out_qsize 4\n"
     ]
    },
    {
     "ename": "KeyboardInterrupt",
     "evalue": "",
     "output_type": "error",
     "traceback": [
      "\u001b[0;31m---------------------------------------------------------------------------\u001b[0m",
      "\u001b[0;31mKeyboardInterrupt\u001b[0m                         Traceback (most recent call last)",
      "\u001b[0;32m<ipython-input-100-de9f602fdf46>\u001b[0m in \u001b[0;36m<module>\u001b[0;34m\u001b[0m\n\u001b[0;32m----> 1\u001b[0;31m \u001b[0mmodel\u001b[0m \u001b[0;34m=\u001b[0m \u001b[0mWord2Vec\u001b[0m\u001b[0;34m(\u001b[0m\u001b[0;34m**\u001b[0m\u001b[0mparams\u001b[0m\u001b[0;34m)\u001b[0m\u001b[0;34m\u001b[0m\u001b[0;34m\u001b[0m\u001b[0m\n\u001b[0m",
      "\u001b[0;32m~/anaconda3/envs/competition-py36/lib/python3.6/site-packages/gensim/models/word2vec.py\u001b[0m in \u001b[0;36m__init__\u001b[0;34m(self, sentences, corpus_file, size, alpha, window, min_count, max_vocab_size, sample, seed, workers, min_alpha, sg, hs, negative, ns_exponent, cbow_mean, hashfxn, iter, null_word, trim_rule, sorted_vocab, batch_words, compute_loss, callbacks, max_final_vocab)\u001b[0m\n\u001b[1;32m    781\u001b[0m             \u001b[0mcallbacks\u001b[0m\u001b[0;34m=\u001b[0m\u001b[0mcallbacks\u001b[0m\u001b[0;34m,\u001b[0m \u001b[0mbatch_words\u001b[0m\u001b[0;34m=\u001b[0m\u001b[0mbatch_words\u001b[0m\u001b[0;34m,\u001b[0m \u001b[0mtrim_rule\u001b[0m\u001b[0;34m=\u001b[0m\u001b[0mtrim_rule\u001b[0m\u001b[0;34m,\u001b[0m \u001b[0msg\u001b[0m\u001b[0;34m=\u001b[0m\u001b[0msg\u001b[0m\u001b[0;34m,\u001b[0m \u001b[0malpha\u001b[0m\u001b[0;34m=\u001b[0m\u001b[0malpha\u001b[0m\u001b[0;34m,\u001b[0m \u001b[0mwindow\u001b[0m\u001b[0;34m=\u001b[0m\u001b[0mwindow\u001b[0m\u001b[0;34m,\u001b[0m\u001b[0;34m\u001b[0m\u001b[0;34m\u001b[0m\u001b[0m\n\u001b[1;32m    782\u001b[0m             \u001b[0mseed\u001b[0m\u001b[0;34m=\u001b[0m\u001b[0mseed\u001b[0m\u001b[0;34m,\u001b[0m \u001b[0mhs\u001b[0m\u001b[0;34m=\u001b[0m\u001b[0mhs\u001b[0m\u001b[0;34m,\u001b[0m \u001b[0mnegative\u001b[0m\u001b[0;34m=\u001b[0m\u001b[0mnegative\u001b[0m\u001b[0;34m,\u001b[0m \u001b[0mcbow_mean\u001b[0m\u001b[0;34m=\u001b[0m\u001b[0mcbow_mean\u001b[0m\u001b[0;34m,\u001b[0m \u001b[0mmin_alpha\u001b[0m\u001b[0;34m=\u001b[0m\u001b[0mmin_alpha\u001b[0m\u001b[0;34m,\u001b[0m \u001b[0mcompute_loss\u001b[0m\u001b[0;34m=\u001b[0m\u001b[0mcompute_loss\u001b[0m\u001b[0;34m,\u001b[0m\u001b[0;34m\u001b[0m\u001b[0;34m\u001b[0m\u001b[0m\n\u001b[0;32m--> 783\u001b[0;31m             fast_version=FAST_VERSION)\n\u001b[0m\u001b[1;32m    784\u001b[0m \u001b[0;34m\u001b[0m\u001b[0m\n\u001b[1;32m    785\u001b[0m     def _do_train_epoch(self, corpus_file, thread_id, offset, cython_vocab, thread_private_mem, cur_epoch,\n",
      "\u001b[0;32m~/anaconda3/envs/competition-py36/lib/python3.6/site-packages/gensim/models/base_any2vec.py\u001b[0m in \u001b[0;36m__init__\u001b[0;34m(self, sentences, corpus_file, workers, vector_size, epochs, callbacks, batch_words, trim_rule, sg, alpha, window, seed, hs, negative, ns_exponent, cbow_mean, min_alpha, compute_loss, fast_version, **kwargs)\u001b[0m\n\u001b[1;32m    761\u001b[0m                 \u001b[0msentences\u001b[0m\u001b[0;34m=\u001b[0m\u001b[0msentences\u001b[0m\u001b[0;34m,\u001b[0m \u001b[0mcorpus_file\u001b[0m\u001b[0;34m=\u001b[0m\u001b[0mcorpus_file\u001b[0m\u001b[0;34m,\u001b[0m \u001b[0mtotal_examples\u001b[0m\u001b[0;34m=\u001b[0m\u001b[0mself\u001b[0m\u001b[0;34m.\u001b[0m\u001b[0mcorpus_count\u001b[0m\u001b[0;34m,\u001b[0m\u001b[0;34m\u001b[0m\u001b[0;34m\u001b[0m\u001b[0m\n\u001b[1;32m    762\u001b[0m                 \u001b[0mtotal_words\u001b[0m\u001b[0;34m=\u001b[0m\u001b[0mself\u001b[0m\u001b[0;34m.\u001b[0m\u001b[0mcorpus_total_words\u001b[0m\u001b[0;34m,\u001b[0m \u001b[0mepochs\u001b[0m\u001b[0;34m=\u001b[0m\u001b[0mself\u001b[0m\u001b[0;34m.\u001b[0m\u001b[0mepochs\u001b[0m\u001b[0;34m,\u001b[0m \u001b[0mstart_alpha\u001b[0m\u001b[0;34m=\u001b[0m\u001b[0mself\u001b[0m\u001b[0;34m.\u001b[0m\u001b[0malpha\u001b[0m\u001b[0;34m,\u001b[0m\u001b[0;34m\u001b[0m\u001b[0;34m\u001b[0m\u001b[0m\n\u001b[0;32m--> 763\u001b[0;31m                 end_alpha=self.min_alpha, compute_loss=compute_loss)\n\u001b[0m\u001b[1;32m    764\u001b[0m         \u001b[0;32melse\u001b[0m\u001b[0;34m:\u001b[0m\u001b[0;34m\u001b[0m\u001b[0;34m\u001b[0m\u001b[0m\n\u001b[1;32m    765\u001b[0m             \u001b[0;32mif\u001b[0m \u001b[0mtrim_rule\u001b[0m \u001b[0;32mis\u001b[0m \u001b[0;32mnot\u001b[0m \u001b[0;32mNone\u001b[0m\u001b[0;34m:\u001b[0m\u001b[0;34m\u001b[0m\u001b[0;34m\u001b[0m\u001b[0m\n",
      "\u001b[0;32m~/anaconda3/envs/competition-py36/lib/python3.6/site-packages/gensim/models/word2vec.py\u001b[0m in \u001b[0;36mtrain\u001b[0;34m(self, sentences, corpus_file, total_examples, total_words, epochs, start_alpha, end_alpha, word_count, queue_factor, report_delay, compute_loss, callbacks)\u001b[0m\n\u001b[1;32m    908\u001b[0m             \u001b[0msentences\u001b[0m\u001b[0;34m=\u001b[0m\u001b[0msentences\u001b[0m\u001b[0;34m,\u001b[0m \u001b[0mcorpus_file\u001b[0m\u001b[0;34m=\u001b[0m\u001b[0mcorpus_file\u001b[0m\u001b[0;34m,\u001b[0m \u001b[0mtotal_examples\u001b[0m\u001b[0;34m=\u001b[0m\u001b[0mtotal_examples\u001b[0m\u001b[0;34m,\u001b[0m \u001b[0mtotal_words\u001b[0m\u001b[0;34m=\u001b[0m\u001b[0mtotal_words\u001b[0m\u001b[0;34m,\u001b[0m\u001b[0;34m\u001b[0m\u001b[0;34m\u001b[0m\u001b[0m\n\u001b[1;32m    909\u001b[0m             \u001b[0mepochs\u001b[0m\u001b[0;34m=\u001b[0m\u001b[0mepochs\u001b[0m\u001b[0;34m,\u001b[0m \u001b[0mstart_alpha\u001b[0m\u001b[0;34m=\u001b[0m\u001b[0mstart_alpha\u001b[0m\u001b[0;34m,\u001b[0m \u001b[0mend_alpha\u001b[0m\u001b[0;34m=\u001b[0m\u001b[0mend_alpha\u001b[0m\u001b[0;34m,\u001b[0m \u001b[0mword_count\u001b[0m\u001b[0;34m=\u001b[0m\u001b[0mword_count\u001b[0m\u001b[0;34m,\u001b[0m\u001b[0;34m\u001b[0m\u001b[0;34m\u001b[0m\u001b[0m\n\u001b[0;32m--> 910\u001b[0;31m             queue_factor=queue_factor, report_delay=report_delay, compute_loss=compute_loss, callbacks=callbacks)\n\u001b[0m\u001b[1;32m    911\u001b[0m \u001b[0;34m\u001b[0m\u001b[0m\n\u001b[1;32m    912\u001b[0m     \u001b[0;32mdef\u001b[0m \u001b[0mscore\u001b[0m\u001b[0;34m(\u001b[0m\u001b[0mself\u001b[0m\u001b[0;34m,\u001b[0m \u001b[0msentences\u001b[0m\u001b[0;34m,\u001b[0m \u001b[0mtotal_sentences\u001b[0m\u001b[0;34m=\u001b[0m\u001b[0mint\u001b[0m\u001b[0;34m(\u001b[0m\u001b[0;36m1e6\u001b[0m\u001b[0;34m)\u001b[0m\u001b[0;34m,\u001b[0m \u001b[0mchunksize\u001b[0m\u001b[0;34m=\u001b[0m\u001b[0;36m100\u001b[0m\u001b[0;34m,\u001b[0m \u001b[0mqueue_factor\u001b[0m\u001b[0;34m=\u001b[0m\u001b[0;36m2\u001b[0m\u001b[0;34m,\u001b[0m \u001b[0mreport_delay\u001b[0m\u001b[0;34m=\u001b[0m\u001b[0;36m1\u001b[0m\u001b[0;34m)\u001b[0m\u001b[0;34m:\u001b[0m\u001b[0;34m\u001b[0m\u001b[0;34m\u001b[0m\u001b[0m\n",
      "\u001b[0;32m~/anaconda3/envs/competition-py36/lib/python3.6/site-packages/gensim/models/base_any2vec.py\u001b[0m in \u001b[0;36mtrain\u001b[0;34m(self, sentences, corpus_file, total_examples, total_words, epochs, start_alpha, end_alpha, word_count, queue_factor, report_delay, compute_loss, callbacks, **kwargs)\u001b[0m\n\u001b[1;32m   1079\u001b[0m             \u001b[0mtotal_words\u001b[0m\u001b[0;34m=\u001b[0m\u001b[0mtotal_words\u001b[0m\u001b[0;34m,\u001b[0m \u001b[0mepochs\u001b[0m\u001b[0;34m=\u001b[0m\u001b[0mepochs\u001b[0m\u001b[0;34m,\u001b[0m \u001b[0mstart_alpha\u001b[0m\u001b[0;34m=\u001b[0m\u001b[0mstart_alpha\u001b[0m\u001b[0;34m,\u001b[0m \u001b[0mend_alpha\u001b[0m\u001b[0;34m=\u001b[0m\u001b[0mend_alpha\u001b[0m\u001b[0;34m,\u001b[0m \u001b[0mword_count\u001b[0m\u001b[0;34m=\u001b[0m\u001b[0mword_count\u001b[0m\u001b[0;34m,\u001b[0m\u001b[0;34m\u001b[0m\u001b[0;34m\u001b[0m\u001b[0m\n\u001b[1;32m   1080\u001b[0m             \u001b[0mqueue_factor\u001b[0m\u001b[0;34m=\u001b[0m\u001b[0mqueue_factor\u001b[0m\u001b[0;34m,\u001b[0m \u001b[0mreport_delay\u001b[0m\u001b[0;34m=\u001b[0m\u001b[0mreport_delay\u001b[0m\u001b[0;34m,\u001b[0m \u001b[0mcompute_loss\u001b[0m\u001b[0;34m=\u001b[0m\u001b[0mcompute_loss\u001b[0m\u001b[0;34m,\u001b[0m \u001b[0mcallbacks\u001b[0m\u001b[0;34m=\u001b[0m\u001b[0mcallbacks\u001b[0m\u001b[0;34m,\u001b[0m\u001b[0;34m\u001b[0m\u001b[0;34m\u001b[0m\u001b[0m\n\u001b[0;32m-> 1081\u001b[0;31m             **kwargs)\n\u001b[0m\u001b[1;32m   1082\u001b[0m \u001b[0;34m\u001b[0m\u001b[0m\n\u001b[1;32m   1083\u001b[0m     \u001b[0;32mdef\u001b[0m \u001b[0m_get_job_params\u001b[0m\u001b[0;34m(\u001b[0m\u001b[0mself\u001b[0m\u001b[0;34m,\u001b[0m \u001b[0mcur_epoch\u001b[0m\u001b[0;34m)\u001b[0m\u001b[0;34m:\u001b[0m\u001b[0;34m\u001b[0m\u001b[0;34m\u001b[0m\u001b[0m\n",
      "\u001b[0;32m~/anaconda3/envs/competition-py36/lib/python3.6/site-packages/gensim/models/base_any2vec.py\u001b[0m in \u001b[0;36mtrain\u001b[0;34m(self, data_iterable, corpus_file, epochs, total_examples, total_words, queue_factor, report_delay, callbacks, **kwargs)\u001b[0m\n\u001b[1;32m    551\u001b[0m                 trained_word_count_epoch, raw_word_count_epoch, job_tally_epoch = self._train_epoch(\n\u001b[1;32m    552\u001b[0m                     \u001b[0mdata_iterable\u001b[0m\u001b[0;34m,\u001b[0m \u001b[0mcur_epoch\u001b[0m\u001b[0;34m=\u001b[0m\u001b[0mcur_epoch\u001b[0m\u001b[0;34m,\u001b[0m \u001b[0mtotal_examples\u001b[0m\u001b[0;34m=\u001b[0m\u001b[0mtotal_examples\u001b[0m\u001b[0;34m,\u001b[0m\u001b[0;34m\u001b[0m\u001b[0;34m\u001b[0m\u001b[0m\n\u001b[0;32m--> 553\u001b[0;31m                     total_words=total_words, queue_factor=queue_factor, report_delay=report_delay)\n\u001b[0m\u001b[1;32m    554\u001b[0m             \u001b[0;32melse\u001b[0m\u001b[0;34m:\u001b[0m\u001b[0;34m\u001b[0m\u001b[0;34m\u001b[0m\u001b[0m\n\u001b[1;32m    555\u001b[0m                 trained_word_count_epoch, raw_word_count_epoch, job_tally_epoch = self._train_epoch_corpusfile(\n",
      "\u001b[0;32m~/anaconda3/envs/competition-py36/lib/python3.6/site-packages/gensim/models/base_any2vec.py\u001b[0m in \u001b[0;36m_train_epoch\u001b[0;34m(self, data_iterable, cur_epoch, total_examples, total_words, queue_factor, report_delay)\u001b[0m\n\u001b[1;32m    487\u001b[0m         trained_word_count, raw_word_count, job_tally = self._log_epoch_progress(\n\u001b[1;32m    488\u001b[0m             \u001b[0mprogress_queue\u001b[0m\u001b[0;34m,\u001b[0m \u001b[0mjob_queue\u001b[0m\u001b[0;34m,\u001b[0m \u001b[0mcur_epoch\u001b[0m\u001b[0;34m=\u001b[0m\u001b[0mcur_epoch\u001b[0m\u001b[0;34m,\u001b[0m \u001b[0mtotal_examples\u001b[0m\u001b[0;34m=\u001b[0m\u001b[0mtotal_examples\u001b[0m\u001b[0;34m,\u001b[0m \u001b[0mtotal_words\u001b[0m\u001b[0;34m=\u001b[0m\u001b[0mtotal_words\u001b[0m\u001b[0;34m,\u001b[0m\u001b[0;34m\u001b[0m\u001b[0;34m\u001b[0m\u001b[0m\n\u001b[0;32m--> 489\u001b[0;31m             report_delay=report_delay, is_corpus_file_mode=False)\n\u001b[0m\u001b[1;32m    490\u001b[0m \u001b[0;34m\u001b[0m\u001b[0m\n\u001b[1;32m    491\u001b[0m         \u001b[0;32mreturn\u001b[0m \u001b[0mtrained_word_count\u001b[0m\u001b[0;34m,\u001b[0m \u001b[0mraw_word_count\u001b[0m\u001b[0;34m,\u001b[0m \u001b[0mjob_tally\u001b[0m\u001b[0;34m\u001b[0m\u001b[0;34m\u001b[0m\u001b[0m\n",
      "\u001b[0;32m~/anaconda3/envs/competition-py36/lib/python3.6/site-packages/gensim/models/base_any2vec.py\u001b[0m in \u001b[0;36m_log_epoch_progress\u001b[0;34m(self, progress_queue, job_queue, cur_epoch, total_examples, total_words, report_delay, is_corpus_file_mode)\u001b[0m\n\u001b[1;32m    344\u001b[0m \u001b[0;34m\u001b[0m\u001b[0m\n\u001b[1;32m    345\u001b[0m         \u001b[0;32mwhile\u001b[0m \u001b[0munfinished_worker_count\u001b[0m \u001b[0;34m>\u001b[0m \u001b[0;36m0\u001b[0m\u001b[0;34m:\u001b[0m\u001b[0;34m\u001b[0m\u001b[0;34m\u001b[0m\u001b[0m\n\u001b[0;32m--> 346\u001b[0;31m             \u001b[0mreport\u001b[0m \u001b[0;34m=\u001b[0m \u001b[0mprogress_queue\u001b[0m\u001b[0;34m.\u001b[0m\u001b[0mget\u001b[0m\u001b[0;34m(\u001b[0m\u001b[0;34m)\u001b[0m  \u001b[0;31m# blocks if workers too slow\u001b[0m\u001b[0;34m\u001b[0m\u001b[0;34m\u001b[0m\u001b[0m\n\u001b[0m\u001b[1;32m    347\u001b[0m             \u001b[0;32mif\u001b[0m \u001b[0mreport\u001b[0m \u001b[0;32mis\u001b[0m \u001b[0;32mNone\u001b[0m\u001b[0;34m:\u001b[0m  \u001b[0;31m# a thread reporting that it finished\u001b[0m\u001b[0;34m\u001b[0m\u001b[0;34m\u001b[0m\u001b[0m\n\u001b[1;32m    348\u001b[0m                 \u001b[0munfinished_worker_count\u001b[0m \u001b[0;34m-=\u001b[0m \u001b[0;36m1\u001b[0m\u001b[0;34m\u001b[0m\u001b[0;34m\u001b[0m\u001b[0m\n",
      "\u001b[0;32m~/anaconda3/envs/competition-py36/lib/python3.6/queue.py\u001b[0m in \u001b[0;36mget\u001b[0;34m(self, block, timeout)\u001b[0m\n\u001b[1;32m    162\u001b[0m             \u001b[0;32melif\u001b[0m \u001b[0mtimeout\u001b[0m \u001b[0;32mis\u001b[0m \u001b[0;32mNone\u001b[0m\u001b[0;34m:\u001b[0m\u001b[0;34m\u001b[0m\u001b[0;34m\u001b[0m\u001b[0m\n\u001b[1;32m    163\u001b[0m                 \u001b[0;32mwhile\u001b[0m \u001b[0;32mnot\u001b[0m \u001b[0mself\u001b[0m\u001b[0;34m.\u001b[0m\u001b[0m_qsize\u001b[0m\u001b[0;34m(\u001b[0m\u001b[0;34m)\u001b[0m\u001b[0;34m:\u001b[0m\u001b[0;34m\u001b[0m\u001b[0;34m\u001b[0m\u001b[0m\n\u001b[0;32m--> 164\u001b[0;31m                     \u001b[0mself\u001b[0m\u001b[0;34m.\u001b[0m\u001b[0mnot_empty\u001b[0m\u001b[0;34m.\u001b[0m\u001b[0mwait\u001b[0m\u001b[0;34m(\u001b[0m\u001b[0;34m)\u001b[0m\u001b[0;34m\u001b[0m\u001b[0;34m\u001b[0m\u001b[0m\n\u001b[0m\u001b[1;32m    165\u001b[0m             \u001b[0;32melif\u001b[0m \u001b[0mtimeout\u001b[0m \u001b[0;34m<\u001b[0m \u001b[0;36m0\u001b[0m\u001b[0;34m:\u001b[0m\u001b[0;34m\u001b[0m\u001b[0;34m\u001b[0m\u001b[0m\n\u001b[1;32m    166\u001b[0m                 \u001b[0;32mraise\u001b[0m \u001b[0mValueError\u001b[0m\u001b[0;34m(\u001b[0m\u001b[0;34m\"'timeout' must be a non-negative number\"\u001b[0m\u001b[0;34m)\u001b[0m\u001b[0;34m\u001b[0m\u001b[0;34m\u001b[0m\u001b[0m\n",
      "\u001b[0;32m~/anaconda3/envs/competition-py36/lib/python3.6/threading.py\u001b[0m in \u001b[0;36mwait\u001b[0;34m(self, timeout)\u001b[0m\n\u001b[1;32m    293\u001b[0m         \u001b[0;32mtry\u001b[0m\u001b[0;34m:\u001b[0m    \u001b[0;31m# restore state no matter what (e.g., KeyboardInterrupt)\u001b[0m\u001b[0;34m\u001b[0m\u001b[0;34m\u001b[0m\u001b[0m\n\u001b[1;32m    294\u001b[0m             \u001b[0;32mif\u001b[0m \u001b[0mtimeout\u001b[0m \u001b[0;32mis\u001b[0m \u001b[0;32mNone\u001b[0m\u001b[0;34m:\u001b[0m\u001b[0;34m\u001b[0m\u001b[0;34m\u001b[0m\u001b[0m\n\u001b[0;32m--> 295\u001b[0;31m                 \u001b[0mwaiter\u001b[0m\u001b[0;34m.\u001b[0m\u001b[0macquire\u001b[0m\u001b[0;34m(\u001b[0m\u001b[0;34m)\u001b[0m\u001b[0;34m\u001b[0m\u001b[0;34m\u001b[0m\u001b[0m\n\u001b[0m\u001b[1;32m    296\u001b[0m                 \u001b[0mgotit\u001b[0m \u001b[0;34m=\u001b[0m \u001b[0;32mTrue\u001b[0m\u001b[0;34m\u001b[0m\u001b[0;34m\u001b[0m\u001b[0m\n\u001b[1;32m    297\u001b[0m             \u001b[0;32melse\u001b[0m\u001b[0;34m:\u001b[0m\u001b[0;34m\u001b[0m\u001b[0;34m\u001b[0m\u001b[0m\n",
      "\u001b[0;31mKeyboardInterrupt\u001b[0m: "
     ]
    }
   ],
   "source": [
    "model = Word2Vec(**params)"
   ]
  },
  {
   "cell_type": "code",
   "execution_count": 101,
   "metadata": {},
   "outputs": [
    {
     "name": "stderr",
     "output_type": "stream",
     "text": [
      "2020-06-06 11:14:39,507 : INFO : loading Word2Vec object from /home/huangzc/competition/tencent/model_ckpt/gensim/model.txt\n",
      "2020-06-06 11:14:46,936 : INFO : loading wv recursively from /home/huangzc/competition/tencent/model_ckpt/gensim/model.txt.wv.* with mmap=None\n",
      "2020-06-06 11:14:46,937 : INFO : loading vectors from /home/huangzc/competition/tencent/model_ckpt/gensim/model.txt.wv.vectors.npy with mmap=None\n",
      "2020-06-06 11:14:47,266 : INFO : setting ignored attribute vectors_norm to None\n",
      "2020-06-06 11:14:47,268 : INFO : loading vocabulary recursively from /home/huangzc/competition/tencent/model_ckpt/gensim/model.txt.vocabulary.* with mmap=None\n",
      "2020-06-06 11:14:47,268 : INFO : loading trainables recursively from /home/huangzc/competition/tencent/model_ckpt/gensim/model.txt.trainables.* with mmap=None\n",
      "2020-06-06 11:14:47,269 : INFO : loading syn1neg from /home/huangzc/competition/tencent/model_ckpt/gensim/model.txt.trainables.syn1neg.npy with mmap=None\n",
      "2020-06-06 11:14:47,911 : INFO : setting ignored attribute cum_table to None\n",
      "2020-06-06 11:14:47,912 : INFO : loaded /home/huangzc/competition/tencent/model_ckpt/gensim/model.txt\n"
     ]
    }
   ],
   "source": [
    "# ### Restore Model\n",
    "# # #####################################\n",
    "save_path = '/home/huangzc/competition/tencent/model_ckpt/gensim/model.txt'\n",
    "model = Word2Vec.load(save_path)"
   ]
  },
  {
   "cell_type": "markdown",
   "metadata": {},
   "source": [
    "### 新方法"
   ]
  },
  {
   "cell_type": "code",
   "execution_count": 102,
   "metadata": {},
   "outputs": [],
   "source": [
    "vocab = model.wv.index2word"
   ]
  },
  {
   "cell_type": "code",
   "execution_count": 103,
   "metadata": {},
   "outputs": [],
   "source": [
    "vocab_dict = dict(zip(vocab, list(range(len(vocab)))))"
   ]
  },
  {
   "cell_type": "code",
   "execution_count": 104,
   "metadata": {},
   "outputs": [],
   "source": [
    "f = open(TRAIN_DIR+'gensim_ad_id_dict.js','w')\n",
    "f.write(str(vocab_dict))\n",
    "f.close()"
   ]
  },
  {
   "cell_type": "code",
   "execution_count": 105,
   "metadata": {},
   "outputs": [],
   "source": [
    "wv_matrix = model.wv.vectors"
   ]
  },
  {
   "cell_type": "code",
   "execution_count": 106,
   "metadata": {},
   "outputs": [],
   "source": [
    "np.save(TRAIN_DIR+'gensim_ad_id.npy', wv_matrix)"
   ]
  },
  {
   "cell_type": "code",
   "execution_count": null,
   "metadata": {},
   "outputs": [],
   "source": []
  }
 ],
 "metadata": {
  "kernelspec": {
   "display_name": "Python 3",
   "language": "python",
   "name": "python3"
  },
  "language_info": {
   "codemirror_mode": {
    "name": "ipython",
    "version": 3
   },
   "file_extension": ".py",
   "mimetype": "text/x-python",
   "name": "python",
   "nbconvert_exporter": "python",
   "pygments_lexer": "ipython3",
   "version": "3.6.10"
  }
 },
 "nbformat": 4,
 "nbformat_minor": 4
}
