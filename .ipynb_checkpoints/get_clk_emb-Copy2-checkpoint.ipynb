{
 "cells": [
  {
   "cell_type": "code",
   "execution_count": 1,
   "metadata": {},
   "outputs": [],
   "source": [
    "import gensim\n",
    "import pandas as pd\n",
    "from config import *\n",
    "from tools import *\n",
    "from gensim.models import Word2Vec\n",
    "from gensim.models.callbacks import CallbackAny2Vec\n",
    "import matplotlib.pyplot as plt\n",
    "from IPython.display import clear_output"
   ]
  },
  {
   "cell_type": "code",
   "execution_count": 2,
   "metadata": {},
   "outputs": [],
   "source": [
    "import logging\n",
    "logging.basicConfig(format='%(asctime)s : %(levelname)s : %(message)s', level=logging.INFO)"
   ]
  },
  {
   "cell_type": "code",
   "execution_count": 3,
   "metadata": {},
   "outputs": [],
   "source": [
    "TARGET = 'industry'"
   ]
  },
  {
   "cell_type": "code",
   "execution_count": 4,
   "metadata": {},
   "outputs": [],
   "source": [
    "tr_clk_list_df = pd.read_pickle(TRAIN_DIR+CLK_PATH_DICT[TARGET])\n",
    "ts_clk_list_df = pd.read_pickle(TEST_DIR+CLK_PATH_DICT[TARGET])"
   ]
  },
  {
   "cell_type": "code",
   "execution_count": 5,
   "metadata": {},
   "outputs": [],
   "source": [
    "grid_df = pd.concat([tr_clk_list_df, ts_clk_list_df], axis=0)\n",
    "del tr_clk_list_df, ts_clk_list_df"
   ]
  },
  {
   "cell_type": "code",
   "execution_count": 6,
   "metadata": {},
   "outputs": [],
   "source": [
    "grid_df[TARGET] = grid_df[TARGET].map(lambda x: list(map(str, x)))"
   ]
  },
  {
   "cell_type": "code",
   "execution_count": 7,
   "metadata": {},
   "outputs": [],
   "source": [
    "sentences = grid_df[TARGET].values.tolist()"
   ]
  },
  {
   "cell_type": "code",
   "execution_count": 8,
   "metadata": {},
   "outputs": [],
   "source": [
    "class loss(object):\n",
    "    def __init__(self):\n",
    "        self.loss_list = []"
   ]
  },
  {
   "cell_type": "code",
   "execution_count": 13,
   "metadata": {},
   "outputs": [],
   "source": [
    "### Gensim callback\n",
    "#####################################\n",
    "class callback(CallbackAny2Vec):\n",
    "    '''Callback to print loss after each epoch.'''\n",
    "\n",
    "    def __init__(self):\n",
    "        self.epoch = 0\n",
    "        self.loss = loss()\n",
    "\n",
    "    def on_epoch_end(self, model):\n",
    "        clear_output(wait=True)\n",
    "        loss = model.get_latest_training_loss()\n",
    "        \n",
    "        self.loss.loss_list.append(loss)\n",
    "        ### show loss\n",
    "        if len(self.loss.loss_list) > 1:\n",
    "            tmp = np.array(self.loss.loss_list)\n",
    "            plt.plot(tmp[1:]-tmp[:-1])\n",
    "            plt.show()\n",
    "            \n",
    "        print('loss list: ', self.loss.loss_list)\n",
    "        print('Loss after epoch {}: {}'.format(self.epoch, loss))\n",
    "        model.save('/home/baode/data1/huangzc/tencent/model_ckpt/gensim/model_%s.txt'%TARGET)\n",
    "        self.epoch += 1"
   ]
  },
  {
   "cell_type": "code",
   "execution_count": 14,
   "metadata": {},
   "outputs": [
    {
     "name": "stdout",
     "output_type": "stream",
     "text": [
      "72\n"
     ]
    }
   ],
   "source": [
    "N_CORES = os.cpu_count()\n",
    "print(N_CORES)"
   ]
  },
  {
   "cell_type": "code",
   "execution_count": 17,
   "metadata": {},
   "outputs": [],
   "source": [
    "### Gensim Parameter\n",
    "######################################\n",
    "params = {'sentences': sentences,\n",
    "          'size': 128,\n",
    "          'window': 8,\n",
    "          'min_count': 1,\n",
    "          'compute_loss': True,\n",
    "          'sample': 0.0001,\n",
    "          'iter': 200,\n",
    "          'workers': N_CORES,\n",
    "          'callbacks': [callback()]}"
   ]
  },
  {
   "cell_type": "code",
   "execution_count": 18,
   "metadata": {
    "scrolled": true
   },
   "outputs": [
    {
     "data": {
      "image/png": "[encoded data removed]",
      "text/plain": [
       "<Figure size 432x288 with 1 Axes>"
      ]
     },
     "metadata": {
      "needs_background": "light"
     },
     "output_type": "display_data"
    },
    {
     "name": "stderr",
     "output_type": "stream",
     "text": [
      "2020-06-20 00:59:58,431 : INFO : saving Word2Vec object under /home/baode/data1/huangzc/tencent/model_ckpt/gensim/model_industry.txt, separately None\n",
      "2020-06-20 00:59:58,432 : INFO : not storing attribute vectors_norm\n",
      "2020-06-20 00:59:58,432 : INFO : not storing attribute cum_table\n",
      "2020-06-20 00:59:58,436 : INFO : saved /home/baode/data1/huangzc/tencent/model_ckpt/gensim/model_industry.txt\n",
      "2020-06-20 00:59:58,437 : INFO : training on a 12733602800 raw words (1391234335 effective words) took 3618.5s, 384474 effective words/s\n"
     ]
    },
    {
     "name": "stdout",
     "output_type": "stream",
     "text": [
      "loss list:  [254044.9375, 507689.53125, 759546.25, 1006967.3125, 1261698.625, 1510645.625, 1765744.5, 2013526.75, 2260645.5, 2517545.25, 2770520.75, 3008829.25, 3255287.0, 3501711.75, 3743898.0, 3995782.5, 4236833.5, 4446858.5, 4659179.5, 4876483.5, 5078367.5, 5292286.0, 5502768.0, 5724945.5, 5930837.5, 6153575.5, 6354759.0, 6560460.5, 6772032.5, 6985662.0, 7201303.5, 7408843.5, 7628020.0, 7841439.5, 8051076.0, 8262009.0, 8471212.0, 8674058.0, 8880132.0, 9088037.0, 9289041.0, 9482798.0, 9673770.0, 9865295.0, 10067885.0, 10265409.0, 10463945.0, 10665437.0, 10874071.0, 11072299.0, 11276016.0, 11481981.0, 11691612.0, 11880299.0, 12082587.0, 12287864.0, 12486225.0, 12686600.0, 12875693.0, 13075509.0, 13279707.0, 13475518.0, 13675937.0, 13877123.0, 14072949.0, 14281089.0, 14480804.0, 14681672.0, 14869196.0, 15071324.0, 15273554.0, 15469388.0, 15669008.0, 15861387.0, 16052147.0, 16253338.0, 16456579.0, 16655854.0, 16838332.0, 16996748.0, 17148534.0, 17297730.0, 17451844.0, 17603488.0, 17756200.0, 17914216.0, 18068340.0, 18222820.0, 18370730.0, 18527772.0, 18675020.0, 18830234.0, 18986438.0, 19141354.0, 19301462.0, 19457626.0, 19611320.0, 19767516.0, 19918616.0, 20075790.0, 20230746.0, 20385218.0, 20534544.0, 20686404.0, 20831316.0, 20989806.0, 21137618.0, 21305618.0, 21458278.0, 21608586.0, 21763162.0, 21914094.0, 22070270.0, 22218928.0, 22378494.0, 22533440.0, 22687540.0, 22840704.0, 22997680.0, 23154896.0, 23305916.0, 23458970.0, 23611342.0, 23769798.0, 23926106.0, 24076120.0, 24232410.0, 24381860.0, 24535508.0, 24691690.0, 24850460.0, 25006022.0, 25158552.0, 25317648.0, 25471360.0, 25626572.0, 25780740.0, 25937620.0, 26092570.0, 26253522.0, 26409116.0, 26564270.0, 26719444.0, 26877394.0, 27022732.0, 27170876.0, 27324768.0, 27478990.0, 27627978.0, 27785076.0, 27940892.0, 28094832.0, 28251416.0, 28411172.0, 28565000.0, 28720556.0, 28886928.0, 29039448.0, 29199484.0, 29350946.0, 29509486.0, 29654216.0, 29811464.0, 29967554.0, 30118018.0, 30277768.0, 30427586.0, 30581178.0, 30732438.0, 30887528.0, 31044992.0, 31198390.0, 31351614.0, 31506038.0, 31657526.0, 31816158.0, 31968138.0, 32118856.0, 32296662.0, 32445938.0, 32592968.0, 32747272.0, 32901528.0, 33050010.0, 33209218.0, 33361940.0, 33514334.0, 33626852.0, 33737220.0, 33838352.0, 33947212.0, 34047876.0, 34154552.0, 34263760.0, 34369420.0, 34476432.0, 34583272.0, 34688288.0, 34789748.0, 34890540.0]\n",
      "Loss after epoch 199: 34890540.0\n"
     ]
    }
   ],
   "source": [
    "model = Word2Vec(**params)"
   ]
  },
  {
   "cell_type": "code",
   "execution_count": 19,
   "metadata": {},
   "outputs": [
    {
     "name": "stderr",
     "output_type": "stream",
     "text": [
      "2020-06-20 08:41:50,759 : INFO : loading Word2Vec object from /home/baode/data1/huangzc/tencent/model_ckpt/gensim/model_industry.txt\n",
      "2020-06-20 08:41:50,766 : INFO : loading wv recursively from /home/baode/data1/huangzc/tencent/model_ckpt/gensim/model_industry.txt.wv.* with mmap=None\n",
      "2020-06-20 08:41:50,766 : INFO : setting ignored attribute vectors_norm to None\n",
      "2020-06-20 08:41:50,767 : INFO : loading vocabulary recursively from /home/baode/data1/huangzc/tencent/model_ckpt/gensim/model_industry.txt.vocabulary.* with mmap=None\n",
      "2020-06-20 08:41:50,768 : INFO : loading trainables recursively from /home/baode/data1/huangzc/tencent/model_ckpt/gensim/model_industry.txt.trainables.* with mmap=None\n",
      "2020-06-20 08:41:50,769 : INFO : setting ignored attribute cum_table to None\n",
      "2020-06-20 08:41:50,769 : INFO : loaded /home/baode/data1/huangzc/tencent/model_ckpt/gensim/model_industry.txt\n"
     ]
    }
   ],
   "source": [
    "# ### Restore Model\n",
    "# # #####################################\n",
    "save_path = '/home/baode/data1/huangzc/tencent/model_ckpt/gensim/model_%s.txt'%TARGET\n",
    "model = Word2Vec.load(save_path)"
   ]
  },
  {
   "cell_type": "markdown",
   "metadata": {},
   "source": [
    "### 新方法"
   ]
  },
  {
   "cell_type": "code",
   "execution_count": 20,
   "metadata": {},
   "outputs": [],
   "source": [
    "vocab = model.wv.index2word"
   ]
  },
  {
   "cell_type": "code",
   "execution_count": 21,
   "metadata": {},
   "outputs": [],
   "source": [
    "vocab_dict = dict(zip(vocab, list(range(len(vocab)))))"
   ]
  },
  {
   "cell_type": "code",
   "execution_count": 22,
   "metadata": {},
   "outputs": [],
   "source": [
    "f = open(TRAIN_DIR+'gensim_%s_dict.js'%TARGET,'w')\n",
    "f.write(str(vocab_dict))\n",
    "f.close()"
   ]
  },
  {
   "cell_type": "code",
   "execution_count": 23,
   "metadata": {},
   "outputs": [],
   "source": [
    "wv_matrix = model.wv.vectors"
   ]
  },
  {
   "cell_type": "code",
   "execution_count": 24,
   "metadata": {},
   "outputs": [],
   "source": [
    "np.save(TRAIN_DIR+'gensim_%s.npy'%TARGET, wv_matrix)"
   ]
  },
  {
   "cell_type": "code",
   "execution_count": 25,
   "metadata": {},
   "outputs": [
    {
     "data": {
      "text/plain": [
       "(332, 128)"
      ]
     },
     "execution_count": 25,
     "metadata": {},
     "output_type": "execute_result"
    }
   ],
   "source": [
    "wv_matrix.shape"
   ]
  },
  {
   "cell_type": "code",
   "execution_count": null,
   "metadata": {},
   "outputs": [],
   "source": []
  }
 ],
 "metadata": {
  "kernelspec": {
   "display_name": "Python 3",
   "language": "python",
   "name": "python3"
  },
  "language_info": {
   "codemirror_mode": {
    "name": "ipython",
    "version": 3
   },
   "file_extension": ".py",
   "mimetype": "text/x-python",
   "name": "python",
   "nbconvert_exporter": "python",
   "pygments_lexer": "ipython3",
   "version": "3.6.10"
  }
 },
 "nbformat": 4,
 "nbformat_minor": 4
}
