{
 "cells": [
  {
   "cell_type": "code",
   "execution_count": 1,
   "metadata": {},
   "outputs": [],
   "source": [
    "import gensim\n",
    "import pandas as pd\n",
    "from config import *\n",
    "from tools import *\n",
    "from gensim.models import Word2Vec\n",
    "from gensim.models.callbacks import CallbackAny2Vec\n",
    "import matplotlib.pyplot as plt\n",
    "from IPython.display import clear_output"
   ]
  },
  {
   "cell_type": "code",
   "execution_count": 2,
   "metadata": {},
   "outputs": [],
   "source": [
    "import logging\n",
    "logging.basicConfig(format='%(asctime)s : %(levelname)s : %(message)s', level=logging.INFO)"
   ]
  },
  {
   "cell_type": "code",
   "execution_count": 3,
   "metadata": {},
   "outputs": [],
   "source": [
    "TARGET = 'time'"
   ]
  },
  {
   "cell_type": "code",
   "execution_count": 4,
   "metadata": {},
   "outputs": [],
   "source": [
    "tr_clk_list_df = pd.read_pickle(TRAIN_DIR+CLK_PATH_DICT[TARGET])\n",
    "ts_clk_list_df = pd.read_pickle(TEST_DIR+CLK_PATH_DICT[TARGET])"
   ]
  },
  {
   "cell_type": "code",
   "execution_count": 5,
   "metadata": {},
   "outputs": [],
   "source": [
    "grid_df = pd.concat([tr_clk_list_df, ts_clk_list_df], axis=0)\n",
    "del tr_clk_list_df, ts_clk_list_df"
   ]
  },
  {
   "cell_type": "code",
   "execution_count": 6,
   "metadata": {},
   "outputs": [],
   "source": [
    "grid_df[TARGET] = grid_df[TARGET].map(lambda x: list(map(str, x)))"
   ]
  },
  {
   "cell_type": "code",
   "execution_count": 7,
   "metadata": {},
   "outputs": [],
   "source": [
    "sentences = grid_df[TARGET].values.tolist()"
   ]
  },
  {
   "cell_type": "code",
   "execution_count": 8,
   "metadata": {},
   "outputs": [],
   "source": [
    "class loss(object):\n",
    "    def __init__(self):\n",
    "        self.loss_list = []"
   ]
  },
  {
   "cell_type": "code",
   "execution_count": 13,
   "metadata": {},
   "outputs": [],
   "source": [
    "### Gensim callback\n",
    "#####################################\n",
    "class callback(CallbackAny2Vec):\n",
    "    '''Callback to print loss after each epoch.'''\n",
    "\n",
    "    def __init__(self):\n",
    "        self.epoch = 0\n",
    "        self.loss = loss()\n",
    "\n",
    "    def on_epoch_end(self, model):\n",
    "        clear_output(wait=True)\n",
    "        loss = model.get_latest_training_loss()\n",
    "        \n",
    "        self.loss.loss_list.append(loss)\n",
    "        ### show loss\n",
    "        if len(self.loss.loss_list) > 1:\n",
    "            tmp = np.array(self.loss.loss_list)\n",
    "            plt.plot(tmp[1:]-tmp[:-1])\n",
    "            plt.show()\n",
    "            \n",
    "        print('loss list: ', self.loss.loss_list)\n",
    "        print('Loss after epoch {}: {}'.format(self.epoch, loss))\n",
    "        model.save('/home/baode/data1/huangzc/tencent/model_ckpt/gensim/model_%s.txt'%TARGET)\n",
    "        self.epoch += 1"
   ]
  },
  {
   "cell_type": "code",
   "execution_count": 14,
   "metadata": {},
   "outputs": [
    {
     "name": "stdout",
     "output_type": "stream",
     "text": [
      "72\n"
     ]
    }
   ],
   "source": [
    "N_CORES = os.cpu_count()\n",
    "print(N_CORES)"
   ]
  },
  {
   "cell_type": "code",
   "execution_count": 17,
   "metadata": {},
   "outputs": [],
   "source": [
    "### Gensim Parameter\n",
    "######################################\n",
    "params = {'sentences': sentences,\n",
    "          'size': 128,\n",
    "          'window': 8,\n",
    "          'min_count': 1,\n",
    "          'compute_loss': True,\n",
    "          'sample': 0.0001,\n",
    "          'iter': 200,\n",
    "          'workers': N_CORES,\n",
    "          'callbacks': [callback()]}"
   ]
  },
  {
   "cell_type": "code",
   "execution_count": 18,
   "metadata": {
    "scrolled": true
   },
   "outputs": [
    {
     "data": {
      "image/png": "[encoded data removed]",
      "text/plain": [
       "<Figure size 432x288 with 1 Axes>"
      ]
     },
     "metadata": {
      "needs_background": "light"
     },
     "output_type": "display_data"
    },
    {
     "name": "stderr",
     "output_type": "stream",
     "text": [
      "2020-06-20 01:06:31,670 : INFO : saving Word2Vec object under /home/baode/data1/huangzc/tencent/model_ckpt/gensim/model_time.txt, separately None\n",
      "2020-06-20 01:06:31,671 : INFO : not storing attribute vectors_norm\n",
      "2020-06-20 01:06:31,671 : INFO : not storing attribute cum_table\n",
      "2020-06-20 01:06:31,674 : INFO : saved /home/baode/data1/huangzc/tencent/model_ckpt/gensim/model_time.txt\n",
      "2020-06-20 01:06:31,675 : INFO : training on a 12733602800 raw words (1328556760 effective words) took 3999.1s, 332214 effective words/s\n"
     ]
    },
    {
     "name": "stdout",
     "output_type": "stream",
     "text": [
      "loss list:  [266309.53125, 528916.125, 783416.25, 1044499.6875, 1315077.75, 1570412.125, 1840770.5, 2099173.75, 2387680.75, 2668879.0, 2947292.5, 3213162.5, 3495228.0, 3766925.5, 4064578.0, 4303992.0, 4502333.5, 4701520.0, 4913745.5, 5112651.5, 5315240.0, 5513702.0, 5712235.5, 5910273.0, 6108130.0, 6302465.0, 6518109.5, 6719250.5, 6920335.5, 7124469.0, 7323285.5, 7525631.5, 7720949.0, 7917212.5, 8116052.0, 8313514.5, 8506526.0, 8703166.0, 8901204.0, 9101855.0, 9305735.0, 9508331.0, 9710434.0, 9901911.0, 10097888.0, 10297048.0, 10493827.0, 10693203.0, 10878920.0, 11075543.0, 11269081.0, 11467027.0, 11662959.0, 11861151.0, 12053853.0, 12259055.0, 12461100.0, 12661997.0, 12864958.0, 13061761.0, 13253075.0, 13454095.0, 13651147.0, 13847302.0, 14035988.0, 14232928.0, 14429559.0, 14631460.0, 14828416.0, 15042627.0, 15238400.0, 15433848.0, 15629372.0, 15829837.0, 16030093.0, 16230659.0, 16431411.0, 16630876.0, 16823988.0, 17001780.0, 17175818.0, 17348028.0, 17525754.0, 17697878.0, 17874294.0, 18045156.0, 18225480.0, 18397802.0, 18572022.0, 18748988.0, 18922500.0, 19099358.0, 19277222.0, 19456388.0, 19630252.0, 19804882.0, 19975282.0, 20153470.0, 20327482.0, 20507268.0, 20688976.0, 20855698.0, 21024868.0, 21202250.0, 21384058.0, 21550084.0, 21731058.0, 21902396.0, 22075504.0, 22245216.0, 22415650.0, 22593890.0, 22779420.0, 22956588.0, 23128588.0, 23308946.0, 23481268.0, 23655254.0, 23826932.0, 24001122.0, 24177456.0, 24361610.0, 24535956.0, 24720066.0, 24889658.0, 25065216.0, 25237956.0, 25414548.0, 25585328.0, 25750504.0, 25926960.0, 26100200.0, 26275756.0, 26449850.0, 26630068.0, 26805686.0, 26976434.0, 27156960.0, 27326844.0, 27502910.0, 27677812.0, 27855534.0, 28027106.0, 28201076.0, 28374994.0, 28550658.0, 28727210.0, 28898170.0, 29068508.0, 29242444.0, 29421694.0, 29595848.0, 29766298.0, 29941986.0, 30112504.0, 30286506.0, 30459922.0, 30643556.0, 30819934.0, 31005262.0, 31176350.0, 31350874.0, 31519868.0, 31692124.0, 31862408.0, 32039122.0, 32214250.0, 32389726.0, 32562738.0, 32737932.0, 32909250.0, 33084072.0, 33254858.0, 33420682.0, 33571060.0, 33624276.0, 33679632.0, 33737024.0, 33792280.0, 33845480.0, 33901504.0, 33955604.0, 34011140.0, 34065032.0, 34114440.0, 34167768.0, 34217568.0, 34269348.0, 34320204.0, 34368876.0, 34416492.0, 34463960.0, 34512024.0, 34557928.0, 34603504.0, 34647084.0, 34688364.0, 34728272.0, 34764116.0, 34798396.0]\n",
      "Loss after epoch 199: 34798396.0\n"
     ]
    }
   ],
   "source": [
    "model = Word2Vec(**params)"
   ]
  },
  {
   "cell_type": "code",
   "execution_count": 19,
   "metadata": {},
   "outputs": [
    {
     "name": "stderr",
     "output_type": "stream",
     "text": [
      "2020-06-20 08:42:04,326 : INFO : loading Word2Vec object from /home/baode/data1/huangzc/tencent/model_ckpt/gensim/model_time.txt\n",
      "2020-06-20 08:42:04,331 : INFO : loading wv recursively from /home/baode/data1/huangzc/tencent/model_ckpt/gensim/model_time.txt.wv.* with mmap=None\n",
      "2020-06-20 08:42:04,332 : INFO : setting ignored attribute vectors_norm to None\n",
      "2020-06-20 08:42:04,333 : INFO : loading vocabulary recursively from /home/baode/data1/huangzc/tencent/model_ckpt/gensim/model_time.txt.vocabulary.* with mmap=None\n",
      "2020-06-20 08:42:04,334 : INFO : loading trainables recursively from /home/baode/data1/huangzc/tencent/model_ckpt/gensim/model_time.txt.trainables.* with mmap=None\n",
      "2020-06-20 08:42:04,335 : INFO : setting ignored attribute cum_table to None\n",
      "2020-06-20 08:42:04,335 : INFO : loaded /home/baode/data1/huangzc/tencent/model_ckpt/gensim/model_time.txt\n"
     ]
    }
   ],
   "source": [
    "# ### Restore Model\n",
    "# # #####################################\n",
    "save_path = '/home/baode/data1/huangzc/tencent/model_ckpt/gensim/model_%s.txt'%TARGET\n",
    "model = Word2Vec.load(save_path)"
   ]
  },
  {
   "cell_type": "markdown",
   "metadata": {},
   "source": [
    "### 新方法"
   ]
  },
  {
   "cell_type": "code",
   "execution_count": 20,
   "metadata": {},
   "outputs": [],
   "source": [
    "vocab = model.wv.index2word"
   ]
  },
  {
   "cell_type": "code",
   "execution_count": 21,
   "metadata": {},
   "outputs": [],
   "source": [
    "vocab_dict = dict(zip(vocab, list(range(len(vocab)))))"
   ]
  },
  {
   "cell_type": "code",
   "execution_count": 22,
   "metadata": {},
   "outputs": [],
   "source": [
    "f = open(TRAIN_DIR+'gensim_%s_dict.js'%TARGET,'w')\n",
    "f.write(str(vocab_dict))\n",
    "f.close()"
   ]
  },
  {
   "cell_type": "code",
   "execution_count": 23,
   "metadata": {},
   "outputs": [],
   "source": [
    "wv_matrix = model.wv.vectors"
   ]
  },
  {
   "cell_type": "code",
   "execution_count": 24,
   "metadata": {},
   "outputs": [],
   "source": [
    "np.save(TRAIN_DIR+'gensim_%s.npy'%TARGET, wv_matrix)"
   ]
  },
  {
   "cell_type": "code",
   "execution_count": 25,
   "metadata": {},
   "outputs": [
    {
     "data": {
      "text/plain": [
       "(91, 128)"
      ]
     },
     "execution_count": 25,
     "metadata": {},
     "output_type": "execute_result"
    }
   ],
   "source": [
    "wv_matrix.shape"
   ]
  },
  {
   "cell_type": "code",
   "execution_count": null,
   "metadata": {},
   "outputs": [],
   "source": []
  },
  {
   "cell_type": "code",
   "execution_count": null,
   "metadata": {},
   "outputs": [],
   "source": []
  }
 ],
 "metadata": {
  "kernelspec": {
   "display_name": "Python 3",
   "language": "python",
   "name": "python3"
  },
  "language_info": {
   "codemirror_mode": {
    "name": "ipython",
    "version": 3
   },
   "file_extension": ".py",
   "mimetype": "text/x-python",
   "name": "python",
   "nbconvert_exporter": "python",
   "pygments_lexer": "ipython3",
   "version": "3.6.10"
  }
 },
 "nbformat": 4,
 "nbformat_minor": 4
}
