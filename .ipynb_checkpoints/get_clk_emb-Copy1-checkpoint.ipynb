{
 "cells": [
  {
   "cell_type": "code",
   "execution_count": 1,
   "metadata": {},
   "outputs": [],
   "source": [
    "import gensim\n",
    "import pandas as pd\n",
    "from config import *\n",
    "from tools import *\n",
    "from gensim.models import Word2Vec\n",
    "from gensim.models.callbacks import CallbackAny2Vec\n",
    "import matplotlib.pyplot as plt\n",
    "from IPython.display import clear_output"
   ]
  },
  {
   "cell_type": "code",
   "execution_count": 2,
   "metadata": {},
   "outputs": [],
   "source": [
    "import logging\n",
    "logging.basicConfig(format='%(asctime)s : %(levelname)s : %(message)s', level=logging.INFO)"
   ]
  },
  {
   "cell_type": "code",
   "execution_count": 3,
   "metadata": {},
   "outputs": [],
   "source": [
    "TARGET = 'product_category'"
   ]
  },
  {
   "cell_type": "code",
   "execution_count": 4,
   "metadata": {},
   "outputs": [],
   "source": [
    "tr_clk_list_df = pd.read_pickle(TRAIN_DIR+CLK_PATH_DICT[TARGET])\n",
    "ts_clk_list_df = pd.read_pickle(TEST_DIR+CLK_PATH_DICT[TARGET])"
   ]
  },
  {
   "cell_type": "code",
   "execution_count": 5,
   "metadata": {},
   "outputs": [],
   "source": [
    "grid_df = pd.concat([tr_clk_list_df, ts_clk_list_df], axis=0)\n",
    "del tr_clk_list_df, ts_clk_list_df"
   ]
  },
  {
   "cell_type": "code",
   "execution_count": 6,
   "metadata": {},
   "outputs": [],
   "source": [
    "grid_df[TARGET] = grid_df[TARGET].map(lambda x: list(map(str, x)))"
   ]
  },
  {
   "cell_type": "code",
   "execution_count": 7,
   "metadata": {},
   "outputs": [],
   "source": [
    "sentences = grid_df[TARGET].values.tolist()"
   ]
  },
  {
   "cell_type": "code",
   "execution_count": 8,
   "metadata": {},
   "outputs": [],
   "source": [
    "class loss(object):\n",
    "    def __init__(self):\n",
    "        self.loss_list = []"
   ]
  },
  {
   "cell_type": "code",
   "execution_count": 13,
   "metadata": {},
   "outputs": [],
   "source": [
    "### Gensim callback\n",
    "#####################################\n",
    "class callback(CallbackAny2Vec):\n",
    "    '''Callback to print loss after each epoch.'''\n",
    "\n",
    "    def __init__(self):\n",
    "        self.epoch = 0\n",
    "        self.loss = loss()\n",
    "\n",
    "    def on_epoch_end(self, model):\n",
    "        clear_output(wait=True)\n",
    "        loss = model.get_latest_training_loss()\n",
    "        \n",
    "        self.loss.loss_list.append(loss)\n",
    "        ### show loss\n",
    "        if len(self.loss.loss_list) > 1:\n",
    "            tmp = np.array(self.loss.loss_list)\n",
    "            plt.plot(tmp[1:]-tmp[:-1])\n",
    "            plt.show()\n",
    "            \n",
    "        print('loss list: ', self.loss.loss_list)\n",
    "        print('Loss after epoch {}: {}'.format(self.epoch, loss))\n",
    "        model.save('/home/baode/data1/huangzc/tencent/model_ckpt/gensim/model_%s.txt'%TARGET)\n",
    "        self.epoch += 1"
   ]
  },
  {
   "cell_type": "code",
   "execution_count": 14,
   "metadata": {},
   "outputs": [
    {
     "name": "stdout",
     "output_type": "stream",
     "text": [
      "72\n"
     ]
    }
   ],
   "source": [
    "N_CORES = os.cpu_count()\n",
    "print(N_CORES)"
   ]
  },
  {
   "cell_type": "code",
   "execution_count": 19,
   "metadata": {},
   "outputs": [],
   "source": [
    "### Gensim Parameter\n",
    "######################################\n",
    "params = {'sentences': sentences,\n",
    "          'size': 128,\n",
    "          'window': 8,\n",
    "          'min_count': 1,\n",
    "          'compute_loss': True,\n",
    "          'sample': 0.0001,\n",
    "          'iter': 200,\n",
    "          'workers': N_CORES,\n",
    "          'callbacks': [callback()]}"
   ]
  },
  {
   "cell_type": "code",
   "execution_count": 20,
   "metadata": {
    "scrolled": true
   },
   "outputs": [
    {
     "data": {
      "image/png": "[encoded data removed]",
      "text/plain": [
       "<Figure size 432x288 with 1 Axes>"
      ]
     },
     "metadata": {
      "needs_background": "light"
     },
     "output_type": "display_data"
    },
    {
     "name": "stderr",
     "output_type": "stream",
     "text": [
      "2020-06-20 01:01:04,408 : INFO : saving Word2Vec object under /home/baode/data1/huangzc/tencent/model_ckpt/gensim/model_product_category.txt, separately None\n",
      "2020-06-20 01:01:04,409 : INFO : not storing attribute vectors_norm\n",
      "2020-06-20 01:01:04,410 : INFO : not storing attribute cum_table\n",
      "2020-06-20 01:01:04,412 : INFO : saved /home/baode/data1/huangzc/tencent/model_ckpt/gensim/model_product_category.txt\n",
      "2020-06-20 01:01:04,412 : INFO : training on a 12733602800 raw words (358141946 effective words) took 3638.7s, 98425 effective words/s\n"
     ]
    },
    {
     "name": "stdout",
     "output_type": "stream",
     "text": [
      "loss list:  [69452.9296875, 134774.90625, 199719.375, 267410.71875, 331533.78125, 400946.28125, 470498.15625, 536574.1875, 603314.3125, 669592.375, 732422.875, 798643.5625, 867180.25, 932568.3125, 998647.875, 1066586.75, 1136715.0, 1201943.25, 1272232.625, 1340020.25, 1409378.0, 1478030.875, 1546181.0, 1616731.5, 1684284.875, 1751129.25, 1820528.5, 1888780.625, 1956670.625, 2026415.875, 2095290.75, 2174708.0, 2243585.25, 2309593.0, 2379537.75, 2447324.75, 2514975.5, 2583278.25, 2651594.75, 2720237.5, 2786872.25, 2853789.25, 2920859.25, 2989658.25, 3059270.25, 3125696.5, 3191702.25, 3258573.75, 3327265.0, 3396574.25, 3467949.5, 3532238.25, 3600183.5, 3669144.0, 3741890.75, 3815123.5, 3889739.5, 3957810.75, 4027429.0, 4097435.25, 4164665.0, 4224475.5, 4278422.0, 4333825.5, 4387010.0, 4442546.5, 4497989.5, 4552893.0, 4607843.5, 4661402.0, 4715873.5, 4769074.0, 4823579.0, 4879462.0, 4932090.5, 4986362.0, 5042548.5, 5096476.0, 5150471.5, 5203153.0, 5257059.0, 5310384.5, 5365569.5, 5419122.0, 5474459.0, 5527638.0, 5584892.0, 5638319.0, 5692848.0, 5746905.0, 5800985.0, 5855824.5, 5908709.5, 5972267.5, 6026417.5, 6081246.0, 6135275.5, 6189305.0, 6242756.5, 6295775.5, 6350425.0, 6403352.5, 6460533.5, 6514476.0, 6571384.0, 6625131.0, 6676093.0, 6729113.5, 6781550.5, 6833928.5, 6888818.0, 6943163.0, 7030325.5, 7086367.0, 7140844.0, 7195931.5, 7250910.0, 7305449.0, 7359216.5, 7412590.5, 7465425.0, 7519157.0, 7573077.5, 7625733.5, 7681455.0, 7732815.0, 7785641.0, 7859689.0, 7914985.5, 7968501.5, 8021700.0, 8074309.0, 8128365.5, 8181801.0, 8234226.0, 8290496.5, 8342373.0, 8399440.0, 8469795.0, 8536839.0, 8605257.0, 8673429.0, 8737917.0, 8807853.0, 8876497.0, 8943508.0, 9014186.0, 9089121.0, 9154566.0, 9223298.0, 9305407.0, 9371588.0, 9440308.0, 9508147.0, 9579674.0, 9646682.0, 9717344.0, 9782751.0, 9851779.0, 9922595.0, 9988562.0, 10056287.0, 10122647.0, 10189155.0, 10258402.0, 10329622.0, 10399850.0, 10469303.0, 10539564.0, 10610406.0, 10679049.0, 10746408.0, 10815154.0, 10884519.0, 10953378.0, 11020289.0, 11089727.0, 11157701.0, 11224404.0, 11291465.0, 11359518.0, 11435294.0, 11503163.0, 11573115.0, 11641230.0, 11706010.0, 11775824.0, 11845047.0, 11912587.0, 11979390.0, 12050801.0, 12118346.0, 12188716.0, 12258865.0, 12330720.0, 12399352.0, 12467486.0, 12540917.0, 12607284.0, 12676584.0]\n",
      "Loss after epoch 199: 12676584.0\n"
     ]
    }
   ],
   "source": [
    "model = Word2Vec(**params)"
   ]
  },
  {
   "cell_type": "code",
   "execution_count": 22,
   "metadata": {},
   "outputs": [
    {
     "name": "stderr",
     "output_type": "stream",
     "text": [
      "2020-06-20 08:41:00,217 : INFO : loading Word2Vec object from /home/baode/data1/huangzc/tencent/model_ckpt/gensim/model_product_category.txt\n",
      "2020-06-20 08:41:00,221 : INFO : loading wv recursively from /home/baode/data1/huangzc/tencent/model_ckpt/gensim/model_product_category.txt.wv.* with mmap=None\n",
      "2020-06-20 08:41:00,222 : INFO : setting ignored attribute vectors_norm to None\n",
      "2020-06-20 08:41:00,223 : INFO : loading vocabulary recursively from /home/baode/data1/huangzc/tencent/model_ckpt/gensim/model_product_category.txt.vocabulary.* with mmap=None\n",
      "2020-06-20 08:41:00,223 : INFO : loading trainables recursively from /home/baode/data1/huangzc/tencent/model_ckpt/gensim/model_product_category.txt.trainables.* with mmap=None\n",
      "2020-06-20 08:41:00,224 : INFO : setting ignored attribute cum_table to None\n",
      "2020-06-20 08:41:00,225 : INFO : loaded /home/baode/data1/huangzc/tencent/model_ckpt/gensim/model_product_category.txt\n"
     ]
    }
   ],
   "source": [
    "# ### Restore Model\n",
    "# # #####################################\n",
    "save_path = '/home/baode/data1/huangzc/tencent/model_ckpt/gensim/model_%s.txt'%TARGET\n",
    "model = Word2Vec.load(save_path)"
   ]
  },
  {
   "cell_type": "markdown",
   "metadata": {},
   "source": [
    "### 新方法"
   ]
  },
  {
   "cell_type": "code",
   "execution_count": 23,
   "metadata": {},
   "outputs": [],
   "source": [
    "vocab = model.wv.index2word"
   ]
  },
  {
   "cell_type": "code",
   "execution_count": 24,
   "metadata": {},
   "outputs": [],
   "source": [
    "vocab_dict = dict(zip(vocab, list(range(len(vocab)))))"
   ]
  },
  {
   "cell_type": "code",
   "execution_count": 25,
   "metadata": {},
   "outputs": [],
   "source": [
    "f = open(TRAIN_DIR+'gensim_%s_dict.js'%TARGET,'w')\n",
    "f.write(str(vocab_dict))\n",
    "f.close()"
   ]
  },
  {
   "cell_type": "code",
   "execution_count": 26,
   "metadata": {},
   "outputs": [],
   "source": [
    "wv_matrix = model.wv.vectors"
   ]
  },
  {
   "cell_type": "code",
   "execution_count": 27,
   "metadata": {},
   "outputs": [],
   "source": [
    "np.save(TRAIN_DIR+'gensim_%s.npy'%TARGET, wv_matrix)"
   ]
  },
  {
   "cell_type": "code",
   "execution_count": 28,
   "metadata": {},
   "outputs": [
    {
     "data": {
      "text/plain": [
       "(18, 128)"
      ]
     },
     "execution_count": 28,
     "metadata": {},
     "output_type": "execute_result"
    }
   ],
   "source": [
    "wv_matrix.shape"
   ]
  },
  {
   "cell_type": "code",
   "execution_count": null,
   "metadata": {},
   "outputs": [],
   "source": []
  }
 ],
 "metadata": {
  "kernelspec": {
   "display_name": "Python 3",
   "language": "python",
   "name": "python3"
  },
  "language_info": {
   "codemirror_mode": {
    "name": "ipython",
    "version": 3
   },
   "file_extension": ".py",
   "mimetype": "text/x-python",
   "name": "python",
   "nbconvert_exporter": "python",
   "pygments_lexer": "ipython3",
   "version": "3.6.10"
  }
 },
 "nbformat": 4,
 "nbformat_minor": 4
}
