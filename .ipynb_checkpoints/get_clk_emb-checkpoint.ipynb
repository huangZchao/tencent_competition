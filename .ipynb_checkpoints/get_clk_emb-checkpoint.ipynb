{
 "cells": [
  {
   "cell_type": "code",
   "execution_count": 3,
   "metadata": {},
   "outputs": [
    {
     "name": "stderr",
     "output_type": "stream",
     "text": [
      "2020-06-05 08:04:29,694 : INFO : 'pattern' package not found; tag filters are not available for English\n"
     ]
    }
   ],
   "source": [
    "import gensim\n",
    "import pandas as pd\n",
    "from config import *\n",
    "from tools import *\n",
    "from gensim.models import Word2Vec\n",
    "from gensim.models.callbacks import CallbackAny2Vec\n",
    "import matplotlib.pyplot as plt\n",
    "from IPython.display import clear_output"
   ]
  },
  {
   "cell_type": "code",
   "execution_count": 4,
   "metadata": {},
   "outputs": [],
   "source": [
    "import logging\n",
    "logging.basicConfig(format='%(asctime)s : %(levelname)s : %(message)s', level=logging.INFO)"
   ]
  },
  {
   "cell_type": "code",
   "execution_count": 5,
   "metadata": {},
   "outputs": [],
   "source": [
    "tr_clk_list_df = pd.read_pickle(TRAIN_DIR+CLK_PATH_DICT['ad_id'])\n",
    "ts_clk_list_df = pd.read_pickle(TEST_DIR+CLK_PATH_DICT['ad_id'])"
   ]
  },
  {
   "cell_type": "code",
   "execution_count": 6,
   "metadata": {},
   "outputs": [],
   "source": [
    "grid_df = pd.concat([tr_clk_list_df, ts_clk_list_df], axis=0)\n",
    "del tr_clk_list_df, ts_clk_list_df"
   ]
  },
  {
   "cell_type": "code",
   "execution_count": 7,
   "metadata": {},
   "outputs": [],
   "source": [
    "grid_df['ad_id'] = grid_df['ad_id'].map(lambda x: list(map(str, x)))"
   ]
  },
  {
   "cell_type": "code",
   "execution_count": 8,
   "metadata": {},
   "outputs": [],
   "source": [
    "sentences = grid_df['ad_id'].values.tolist()"
   ]
  },
  {
   "cell_type": "code",
   "execution_count": 9,
   "metadata": {},
   "outputs": [],
   "source": [
    "class loss(object):\n",
    "    def __init__(self):\n",
    "        self.loss_list = []"
   ]
  },
  {
   "cell_type": "code",
   "execution_count": 15,
   "metadata": {},
   "outputs": [],
   "source": [
    "### Gensim callback\n",
    "#####################################\n",
    "class callback(CallbackAny2Vec):\n",
    "    '''Callback to print loss after each epoch.'''\n",
    "\n",
    "    def __init__(self):\n",
    "        self.epoch = 0\n",
    "        self.loss = loss()\n",
    "\n",
    "    def on_epoch_end(self, model):\n",
    "        clear_output(wait=True)\n",
    "        loss = model.get_latest_training_loss()\n",
    "        \n",
    "        self.loss.loss_list.append(loss)\n",
    "        ### show loss\n",
    "        if len(self.loss.loss_list) > 1:\n",
    "            tmp = np.array(self.loss.loss_list)\n",
    "            plt.plot(tmp[1:]-tmp[:-1])\n",
    "            plt.show()\n",
    "            \n",
    "        print('loss list: ', self.loss.loss_list)\n",
    "        print('Loss after epoch {}: {}'.format(self.epoch, loss))\n",
    "        model.save('/home/huangzc/competition/tencent/model_ckpt/gensim/model.txt')\n",
    "        self.epoch += 1"
   ]
  },
  {
   "cell_type": "code",
   "execution_count": 79,
   "metadata": {},
   "outputs": [],
   "source": [
    "### Gensim Parameter\n",
    "######################################\n",
    "params = {'sentences': sentences,\n",
    "          'size': 50,\n",
    "          'window': 2,\n",
    "          'min_count': 2,\n",
    "          'compute_loss': True,\n",
    "          'sample': 0.0001,\n",
    "          'iter': 200,\n",
    "          'workers': 25,\n",
    "          'callbacks': [callback()]}"
   ]
  },
  {
   "cell_type": "code",
   "execution_count": 82,
   "metadata": {
    "scrolled": true
   },
   "outputs": [
    {
     "data": {
      "image/png": "[encoded data removed]",
      "text/plain": [
       "<Figure size 432x288 with 1 Axes>"
      ]
     },
     "metadata": {
      "needs_background": "light"
     },
     "output_type": "display_data"
    },
    {
     "name": "stderr",
     "output_type": "stream",
     "text": [
      "2020-06-06 07:25:04,814 : INFO : saving Word2Vec object under /home/huangzc/competition/tencent/model_ckpt/gensim/model.txt, separately None\n",
      "2020-06-06 07:25:04,814 : INFO : storing np array 'vectors' to /home/huangzc/competition/tencent/model_ckpt/gensim/model.txt.wv.vectors.npy\n"
     ]
    },
    {
     "name": "stdout",
     "output_type": "stream",
     "text": [
      "loss list:  [6722849.0, 10896688.0, 14467407.0, 17689930.0, 20447010.0, 23145172.0, 25778304.0, 28349744.0, 30864146.0, 33321244.0, 34793108.0, 36144124.0, 37484672.0, 38807204.0, 40117456.0, 41409732.0, 42697132.0, 43965328.0, 45217048.0, 46472748.0, 47714308.0, 48946580.0, 50168636.0, 51379024.0, 52587680.0, 53785604.0, 54975680.0, 56154536.0, 57333716.0, 58506484.0, 59672252.0]\n",
      "Loss after epoch 30: 59672252.0\n"
     ]
    },
    {
     "name": "stderr",
     "output_type": "stream",
     "text": [
      "2020-06-06 07:25:05,175 : INFO : not storing attribute vectors_norm\n",
      "2020-06-06 07:25:05,176 : INFO : storing np array 'syn1neg' to /home/huangzc/competition/tencent/model_ckpt/gensim/model.txt.trainables.syn1neg.npy\n",
      "2020-06-06 07:25:05,511 : INFO : not storing attribute cum_table\n",
      "2020-06-06 07:25:12,941 : INFO : saved /home/huangzc/competition/tencent/model_ckpt/gensim/model.txt\n",
      "2020-06-06 07:25:13,971 : INFO : EPOCH 32 - PROGRESS: at 1.43% examples, 842381 words/s, in_qsize 46, out_qsize 3\n",
      "2020-06-06 07:25:15,087 : INFO : EPOCH 32 - PROGRESS: at 2.77% examples, 773664 words/s, in_qsize 40, out_qsize 9\n",
      "2020-06-06 07:25:16,249 : INFO : EPOCH 32 - PROGRESS: at 4.33% examples, 780845 words/s, in_qsize 42, out_qsize 7\n",
      "2020-06-06 07:25:17,261 : INFO : EPOCH 32 - PROGRESS: at 5.79% examples, 796731 words/s, in_qsize 48, out_qsize 1\n",
      "2020-06-06 07:25:18,351 : INFO : EPOCH 32 - PROGRESS: at 7.09% examples, 776043 words/s, in_qsize 40, out_qsize 9\n",
      "2020-06-06 07:25:19,354 : INFO : EPOCH 32 - PROGRESS: at 8.55% examples, 788563 words/s, in_qsize 48, out_qsize 1\n",
      "2020-06-06 07:25:20,455 : INFO : EPOCH 32 - PROGRESS: at 9.84% examples, 773585 words/s, in_qsize 45, out_qsize 4\n",
      "2020-06-06 07:25:21,476 : INFO : EPOCH 32 - PROGRESS: at 11.30% examples, 781579 words/s, in_qsize 46, out_qsize 3\n",
      "2020-06-06 07:25:22,480 : INFO : EPOCH 32 - PROGRESS: at 12.55% examples, 776791 words/s, in_qsize 48, out_qsize 1\n",
      "2020-06-06 07:25:23,674 : INFO : EPOCH 32 - PROGRESS: at 13.77% examples, 756507 words/s, in_qsize 36, out_qsize 13\n",
      "2020-06-06 07:25:24,690 : INFO : EPOCH 32 - PROGRESS: at 14.95% examples, 750007 words/s, in_qsize 47, out_qsize 2\n",
      "2020-06-06 07:25:25,737 : INFO : EPOCH 32 - PROGRESS: at 16.40% examples, 754990 words/s, in_qsize 45, out_qsize 4\n",
      "2020-06-06 07:25:26,769 : INFO : EPOCH 32 - PROGRESS: at 17.68% examples, 753408 words/s, in_qsize 49, out_qsize 0\n",
      "2020-06-06 07:25:27,870 : INFO : EPOCH 32 - PROGRESS: at 18.87% examples, 744839 words/s, in_qsize 49, out_qsize 0\n",
      "2020-06-06 07:25:28,893 : INFO : EPOCH 32 - PROGRESS: at 20.05% examples, 740418 words/s, in_qsize 34, out_qsize 15\n",
      "2020-06-06 07:25:29,984 : INFO : EPOCH 32 - PROGRESS: at 21.22% examples, 733574 words/s, in_qsize 33, out_qsize 16\n",
      "2020-06-06 07:25:31,039 : INFO : EPOCH 32 - PROGRESS: at 22.41% examples, 729035 words/s, in_qsize 49, out_qsize 13\n",
      "2020-06-06 07:25:32,042 : INFO : EPOCH 32 - PROGRESS: at 23.66% examples, 729396 words/s, in_qsize 41, out_qsize 8\n",
      "2020-06-06 07:25:33,078 : INFO : EPOCH 32 - PROGRESS: at 24.93% examples, 728519 words/s, in_qsize 43, out_qsize 6\n",
      "2020-06-06 07:25:34,099 : INFO : EPOCH 32 - PROGRESS: at 26.18% examples, 728196 words/s, in_qsize 48, out_qsize 1\n",
      "2020-06-06 07:25:35,191 : INFO : EPOCH 32 - PROGRESS: at 27.40% examples, 724404 words/s, in_qsize 43, out_qsize 6\n",
      "2020-06-06 07:25:36,250 : INFO : EPOCH 32 - PROGRESS: at 28.57% examples, 721113 words/s, in_qsize 50, out_qsize 7\n",
      "2020-06-06 07:25:37,254 : INFO : EPOCH 32 - PROGRESS: at 29.76% examples, 719804 words/s, in_qsize 45, out_qsize 4\n",
      "2020-06-06 07:25:38,310 : INFO : EPOCH 32 - PROGRESS: at 30.94% examples, 717153 words/s, in_qsize 45, out_qsize 4\n",
      "2020-06-06 07:25:39,315 : INFO : EPOCH 32 - PROGRESS: at 32.12% examples, 716065 words/s, in_qsize 45, out_qsize 4\n",
      "2020-06-06 07:25:40,359 : INFO : EPOCH 32 - PROGRESS: at 33.30% examples, 714011 words/s, in_qsize 43, out_qsize 6\n",
      "2020-06-06 07:25:41,396 : INFO : EPOCH 32 - PROGRESS: at 34.48% examples, 712330 words/s, in_qsize 43, out_qsize 6\n",
      "2020-06-06 07:25:42,416 : INFO : EPOCH 32 - PROGRESS: at 35.65% examples, 711154 words/s, in_qsize 49, out_qsize 0\n",
      "2020-06-06 07:25:43,427 : INFO : EPOCH 32 - PROGRESS: at 36.64% examples, 706905 words/s, in_qsize 39, out_qsize 10\n",
      "2020-06-06 07:25:44,503 : INFO : EPOCH 32 - PROGRESS: at 37.70% examples, 702678 words/s, in_qsize 37, out_qsize 12\n",
      "2020-06-06 07:25:45,514 : INFO : EPOCH 32 - PROGRESS: at 38.88% examples, 702093 words/s, in_qsize 50, out_qsize 13\n",
      "2020-06-06 07:25:46,514 : INFO : EPOCH 32 - PROGRESS: at 40.06% examples, 701780 words/s, in_qsize 43, out_qsize 6\n",
      "2020-06-06 07:25:47,578 : INFO : EPOCH 32 - PROGRESS: at 41.24% examples, 700218 words/s, in_qsize 45, out_qsize 4\n",
      "2020-06-06 07:25:48,668 : INFO : EPOCH 32 - PROGRESS: at 42.42% examples, 698223 words/s, in_qsize 39, out_qsize 10\n",
      "2020-06-06 07:25:49,731 : INFO : EPOCH 32 - PROGRESS: at 43.61% examples, 696856 words/s, in_qsize 43, out_qsize 6\n",
      "2020-06-06 07:25:50,783 : INFO : EPOCH 32 - PROGRESS: at 44.77% examples, 695761 words/s, in_qsize 39, out_qsize 10\n",
      "2020-06-06 07:25:51,854 : INFO : EPOCH 32 - PROGRESS: at 45.95% examples, 694391 words/s, in_qsize 39, out_qsize 10\n",
      "2020-06-06 07:25:52,889 : INFO : EPOCH 32 - PROGRESS: at 47.13% examples, 693729 words/s, in_qsize 40, out_qsize 9\n",
      "2020-06-06 07:25:53,986 : INFO : EPOCH 32 - PROGRESS: at 48.32% examples, 692036 words/s, in_qsize 34, out_qsize 15\n",
      "2020-06-06 07:25:55,046 : INFO : EPOCH 32 - PROGRESS: at 49.50% examples, 691078 words/s, in_qsize 41, out_qsize 8\n",
      "2020-06-06 07:25:56,101 : INFO : EPOCH 32 - PROGRESS: at 50.68% examples, 690219 words/s, in_qsize 45, out_qsize 4\n",
      "2020-06-06 07:25:57,133 : INFO : EPOCH 32 - PROGRESS: at 51.84% examples, 689753 words/s, in_qsize 41, out_qsize 8\n",
      "2020-06-06 07:25:58,189 : INFO : EPOCH 32 - PROGRESS: at 52.98% examples, 688786 words/s, in_qsize 38, out_qsize 11\n",
      "2020-06-06 07:25:59,282 : INFO : EPOCH 32 - PROGRESS: at 54.15% examples, 687473 words/s, in_qsize 36, out_qsize 13\n",
      "2020-06-06 07:26:00,366 : INFO : EPOCH 32 - PROGRESS: at 55.33% examples, 686340 words/s, in_qsize 41, out_qsize 8\n",
      "2020-06-06 07:26:01,427 : INFO : EPOCH 32 - PROGRESS: at 56.49% examples, 685600 words/s, in_qsize 37, out_qsize 12\n",
      "2020-06-06 07:26:02,486 : INFO : EPOCH 32 - PROGRESS: at 57.70% examples, 685094 words/s, in_qsize 40, out_qsize 9\n",
      "2020-06-06 07:26:03,509 : INFO : EPOCH 32 - PROGRESS: at 58.86% examples, 684905 words/s, in_qsize 50, out_qsize 0\n",
      "2020-06-06 07:26:04,699 : INFO : EPOCH 32 - PROGRESS: at 60.05% examples, 682692 words/s, in_qsize 37, out_qsize 12\n",
      "2020-06-06 07:26:05,749 : INFO : EPOCH 32 - PROGRESS: at 61.22% examples, 682222 words/s, in_qsize 36, out_qsize 13\n",
      "2020-06-06 07:26:06,775 : INFO : EPOCH 32 - PROGRESS: at 62.39% examples, 681908 words/s, in_qsize 49, out_qsize 0\n",
      "2020-06-06 07:26:07,826 : INFO : EPOCH 32 - PROGRESS: at 63.57% examples, 681479 words/s, in_qsize 37, out_qsize 12\n",
      "2020-06-06 07:26:08,831 : INFO : EPOCH 32 - PROGRESS: at 64.98% examples, 684078 words/s, in_qsize 49, out_qsize 1\n",
      "2020-06-06 07:26:09,852 : INFO : EPOCH 32 - PROGRESS: at 65.93% examples, 681536 words/s, in_qsize 44, out_qsize 5\n",
      "2020-06-06 07:26:10,941 : INFO : EPOCH 32 - PROGRESS: at 67.10% examples, 680646 words/s, in_qsize 45, out_qsize 4\n",
      "2020-06-06 07:26:12,069 : INFO : EPOCH 32 - PROGRESS: at 68.28% examples, 679373 words/s, in_qsize 44, out_qsize 5\n",
      "2020-06-06 07:26:13,171 : INFO : EPOCH 32 - PROGRESS: at 69.46% examples, 678442 words/s, in_qsize 35, out_qsize 14\n",
      "2020-06-06 07:26:14,209 : INFO : EPOCH 32 - PROGRESS: at 70.64% examples, 678233 words/s, in_qsize 41, out_qsize 8\n",
      "2020-06-06 07:26:15,270 : INFO : EPOCH 32 - PROGRESS: at 71.82% examples, 677795 words/s, in_qsize 48, out_qsize 9\n",
      "2020-06-06 07:26:16,321 : INFO : EPOCH 32 - PROGRESS: at 73.00% examples, 677477 words/s, in_qsize 37, out_qsize 12\n",
      "2020-06-06 07:26:17,407 : INFO : EPOCH 32 - PROGRESS: at 74.17% examples, 676796 words/s, in_qsize 33, out_qsize 16\n",
      "2020-06-06 07:26:18,500 : INFO : EPOCH 32 - PROGRESS: at 75.33% examples, 676032 words/s, in_qsize 44, out_qsize 5\n",
      "2020-06-06 07:26:19,629 : INFO : EPOCH 32 - PROGRESS: at 76.49% examples, 674910 words/s, in_qsize 47, out_qsize 13\n",
      "2020-06-06 07:26:20,738 : INFO : EPOCH 32 - PROGRESS: at 77.66% examples, 674073 words/s, in_qsize 36, out_qsize 13\n",
      "2020-06-06 07:26:21,769 : INFO : EPOCH 32 - PROGRESS: at 78.84% examples, 674027 words/s, in_qsize 35, out_qsize 14\n",
      "2020-06-06 07:26:22,770 : INFO : EPOCH 32 - PROGRESS: at 80.11% examples, 675062 words/s, in_qsize 45, out_qsize 4\n",
      "2020-06-06 07:26:23,787 : INFO : EPOCH 32 - PROGRESS: at 80.92% examples, 672011 words/s, in_qsize 49, out_qsize 4\n",
      "2020-06-06 07:26:24,831 : INFO : EPOCH 32 - PROGRESS: at 81.75% examples, 669135 words/s, in_qsize 50, out_qsize 3\n"
     ]
    },
    {
     "name": "stderr",
     "output_type": "stream",
     "text": [
      "2020-06-06 07:26:25,846 : INFO : EPOCH 32 - PROGRESS: at 82.81% examples, 668302 words/s, in_qsize 44, out_qsize 5\n",
      "2020-06-06 07:26:26,887 : INFO : EPOCH 32 - PROGRESS: at 83.99% examples, 668241 words/s, in_qsize 48, out_qsize 1\n",
      "2020-06-06 07:26:27,997 : INFO : EPOCH 32 - PROGRESS: at 85.17% examples, 667572 words/s, in_qsize 40, out_qsize 9\n",
      "2020-06-06 07:26:29,028 : INFO : EPOCH 32 - PROGRESS: at 86.33% examples, 667621 words/s, in_qsize 40, out_qsize 9\n",
      "2020-06-06 07:26:30,030 : INFO : EPOCH 32 - PROGRESS: at 87.50% examples, 667922 words/s, in_qsize 49, out_qsize 0\n",
      "2020-06-06 07:26:31,051 : INFO : EPOCH 32 - PROGRESS: at 88.68% examples, 668054 words/s, in_qsize 39, out_qsize 10\n",
      "2020-06-06 07:26:32,076 : INFO : EPOCH 32 - PROGRESS: at 90.04% examples, 669435 words/s, in_qsize 49, out_qsize 0\n",
      "2020-06-06 07:26:33,076 : INFO : EPOCH 32 - PROGRESS: at 91.05% examples, 668453 words/s, in_qsize 42, out_qsize 7\n",
      "2020-06-06 07:26:34,161 : INFO : EPOCH 32 - PROGRESS: at 92.21% examples, 667984 words/s, in_qsize 43, out_qsize 6\n",
      "2020-06-06 07:26:35,275 : INFO : EPOCH 32 - PROGRESS: at 93.41% examples, 667352 words/s, in_qsize 38, out_qsize 11\n",
      "2020-06-06 07:26:36,279 : INFO : EPOCH 32 - PROGRESS: at 94.57% examples, 667514 words/s, in_qsize 49, out_qsize 0\n",
      "2020-06-06 07:26:37,346 : INFO : EPOCH 32 - PROGRESS: at 95.56% examples, 665958 words/s, in_qsize 39, out_qsize 10\n",
      "2020-06-06 07:26:38,392 : INFO : EPOCH 32 - PROGRESS: at 96.76% examples, 665906 words/s, in_qsize 41, out_qsize 8\n",
      "2020-06-06 07:26:39,489 : INFO : EPOCH 32 - PROGRESS: at 97.97% examples, 665564 words/s, in_qsize 43, out_qsize 6\n"
     ]
    },
    {
     "ename": "KeyboardInterrupt",
     "evalue": "",
     "output_type": "error",
     "traceback": [
      "\u001b[0;31m---------------------------------------------------------------------------\u001b[0m",
      "\u001b[0;31mKeyboardInterrupt\u001b[0m                         Traceback (most recent call last)",
      "\u001b[0;32m<ipython-input-82-de9f602fdf46>\u001b[0m in \u001b[0;36m<module>\u001b[0;34m\u001b[0m\n\u001b[0;32m----> 1\u001b[0;31m \u001b[0mmodel\u001b[0m \u001b[0;34m=\u001b[0m \u001b[0mWord2Vec\u001b[0m\u001b[0;34m(\u001b[0m\u001b[0;34m**\u001b[0m\u001b[0mparams\u001b[0m\u001b[0;34m)\u001b[0m\u001b[0;34m\u001b[0m\u001b[0;34m\u001b[0m\u001b[0m\n\u001b[0m",
      "\u001b[0;32m~/anaconda3/envs/competition-py36/lib/python3.6/site-packages/gensim/models/word2vec.py\u001b[0m in \u001b[0;36m__init__\u001b[0;34m(self, sentences, corpus_file, size, alpha, window, min_count, max_vocab_size, sample, seed, workers, min_alpha, sg, hs, negative, ns_exponent, cbow_mean, hashfxn, iter, null_word, trim_rule, sorted_vocab, batch_words, compute_loss, callbacks, max_final_vocab)\u001b[0m\n\u001b[1;32m    781\u001b[0m             \u001b[0mcallbacks\u001b[0m\u001b[0;34m=\u001b[0m\u001b[0mcallbacks\u001b[0m\u001b[0;34m,\u001b[0m \u001b[0mbatch_words\u001b[0m\u001b[0;34m=\u001b[0m\u001b[0mbatch_words\u001b[0m\u001b[0;34m,\u001b[0m \u001b[0mtrim_rule\u001b[0m\u001b[0;34m=\u001b[0m\u001b[0mtrim_rule\u001b[0m\u001b[0;34m,\u001b[0m \u001b[0msg\u001b[0m\u001b[0;34m=\u001b[0m\u001b[0msg\u001b[0m\u001b[0;34m,\u001b[0m \u001b[0malpha\u001b[0m\u001b[0;34m=\u001b[0m\u001b[0malpha\u001b[0m\u001b[0;34m,\u001b[0m \u001b[0mwindow\u001b[0m\u001b[0;34m=\u001b[0m\u001b[0mwindow\u001b[0m\u001b[0;34m,\u001b[0m\u001b[0;34m\u001b[0m\u001b[0;34m\u001b[0m\u001b[0m\n\u001b[1;32m    782\u001b[0m             \u001b[0mseed\u001b[0m\u001b[0;34m=\u001b[0m\u001b[0mseed\u001b[0m\u001b[0;34m,\u001b[0m \u001b[0mhs\u001b[0m\u001b[0;34m=\u001b[0m\u001b[0mhs\u001b[0m\u001b[0;34m,\u001b[0m \u001b[0mnegative\u001b[0m\u001b[0;34m=\u001b[0m\u001b[0mnegative\u001b[0m\u001b[0;34m,\u001b[0m \u001b[0mcbow_mean\u001b[0m\u001b[0;34m=\u001b[0m\u001b[0mcbow_mean\u001b[0m\u001b[0;34m,\u001b[0m \u001b[0mmin_alpha\u001b[0m\u001b[0;34m=\u001b[0m\u001b[0mmin_alpha\u001b[0m\u001b[0;34m,\u001b[0m \u001b[0mcompute_loss\u001b[0m\u001b[0;34m=\u001b[0m\u001b[0mcompute_loss\u001b[0m\u001b[0;34m,\u001b[0m\u001b[0;34m\u001b[0m\u001b[0;34m\u001b[0m\u001b[0m\n\u001b[0;32m--> 783\u001b[0;31m             fast_version=FAST_VERSION)\n\u001b[0m\u001b[1;32m    784\u001b[0m \u001b[0;34m\u001b[0m\u001b[0m\n\u001b[1;32m    785\u001b[0m     def _do_train_epoch(self, corpus_file, thread_id, offset, cython_vocab, thread_private_mem, cur_epoch,\n",
      "\u001b[0;32m~/anaconda3/envs/competition-py36/lib/python3.6/site-packages/gensim/models/base_any2vec.py\u001b[0m in \u001b[0;36m__init__\u001b[0;34m(self, sentences, corpus_file, workers, vector_size, epochs, callbacks, batch_words, trim_rule, sg, alpha, window, seed, hs, negative, ns_exponent, cbow_mean, min_alpha, compute_loss, fast_version, **kwargs)\u001b[0m\n\u001b[1;32m    761\u001b[0m                 \u001b[0msentences\u001b[0m\u001b[0;34m=\u001b[0m\u001b[0msentences\u001b[0m\u001b[0;34m,\u001b[0m \u001b[0mcorpus_file\u001b[0m\u001b[0;34m=\u001b[0m\u001b[0mcorpus_file\u001b[0m\u001b[0;34m,\u001b[0m \u001b[0mtotal_examples\u001b[0m\u001b[0;34m=\u001b[0m\u001b[0mself\u001b[0m\u001b[0;34m.\u001b[0m\u001b[0mcorpus_count\u001b[0m\u001b[0;34m,\u001b[0m\u001b[0;34m\u001b[0m\u001b[0;34m\u001b[0m\u001b[0m\n\u001b[1;32m    762\u001b[0m                 \u001b[0mtotal_words\u001b[0m\u001b[0;34m=\u001b[0m\u001b[0mself\u001b[0m\u001b[0;34m.\u001b[0m\u001b[0mcorpus_total_words\u001b[0m\u001b[0;34m,\u001b[0m \u001b[0mepochs\u001b[0m\u001b[0;34m=\u001b[0m\u001b[0mself\u001b[0m\u001b[0;34m.\u001b[0m\u001b[0mepochs\u001b[0m\u001b[0;34m,\u001b[0m \u001b[0mstart_alpha\u001b[0m\u001b[0;34m=\u001b[0m\u001b[0mself\u001b[0m\u001b[0;34m.\u001b[0m\u001b[0malpha\u001b[0m\u001b[0;34m,\u001b[0m\u001b[0;34m\u001b[0m\u001b[0;34m\u001b[0m\u001b[0m\n\u001b[0;32m--> 763\u001b[0;31m                 end_alpha=self.min_alpha, compute_loss=compute_loss)\n\u001b[0m\u001b[1;32m    764\u001b[0m         \u001b[0;32melse\u001b[0m\u001b[0;34m:\u001b[0m\u001b[0;34m\u001b[0m\u001b[0;34m\u001b[0m\u001b[0m\n\u001b[1;32m    765\u001b[0m             \u001b[0;32mif\u001b[0m \u001b[0mtrim_rule\u001b[0m \u001b[0;32mis\u001b[0m \u001b[0;32mnot\u001b[0m \u001b[0;32mNone\u001b[0m\u001b[0;34m:\u001b[0m\u001b[0;34m\u001b[0m\u001b[0;34m\u001b[0m\u001b[0m\n",
      "\u001b[0;32m~/anaconda3/envs/competition-py36/lib/python3.6/site-packages/gensim/models/word2vec.py\u001b[0m in \u001b[0;36mtrain\u001b[0;34m(self, sentences, corpus_file, total_examples, total_words, epochs, start_alpha, end_alpha, word_count, queue_factor, report_delay, compute_loss, callbacks)\u001b[0m\n\u001b[1;32m    908\u001b[0m             \u001b[0msentences\u001b[0m\u001b[0;34m=\u001b[0m\u001b[0msentences\u001b[0m\u001b[0;34m,\u001b[0m \u001b[0mcorpus_file\u001b[0m\u001b[0;34m=\u001b[0m\u001b[0mcorpus_file\u001b[0m\u001b[0;34m,\u001b[0m \u001b[0mtotal_examples\u001b[0m\u001b[0;34m=\u001b[0m\u001b[0mtotal_examples\u001b[0m\u001b[0;34m,\u001b[0m \u001b[0mtotal_words\u001b[0m\u001b[0;34m=\u001b[0m\u001b[0mtotal_words\u001b[0m\u001b[0;34m,\u001b[0m\u001b[0;34m\u001b[0m\u001b[0;34m\u001b[0m\u001b[0m\n\u001b[1;32m    909\u001b[0m             \u001b[0mepochs\u001b[0m\u001b[0;34m=\u001b[0m\u001b[0mepochs\u001b[0m\u001b[0;34m,\u001b[0m \u001b[0mstart_alpha\u001b[0m\u001b[0;34m=\u001b[0m\u001b[0mstart_alpha\u001b[0m\u001b[0;34m,\u001b[0m \u001b[0mend_alpha\u001b[0m\u001b[0;34m=\u001b[0m\u001b[0mend_alpha\u001b[0m\u001b[0;34m,\u001b[0m \u001b[0mword_count\u001b[0m\u001b[0;34m=\u001b[0m\u001b[0mword_count\u001b[0m\u001b[0;34m,\u001b[0m\u001b[0;34m\u001b[0m\u001b[0;34m\u001b[0m\u001b[0m\n\u001b[0;32m--> 910\u001b[0;31m             queue_factor=queue_factor, report_delay=report_delay, compute_loss=compute_loss, callbacks=callbacks)\n\u001b[0m\u001b[1;32m    911\u001b[0m \u001b[0;34m\u001b[0m\u001b[0m\n\u001b[1;32m    912\u001b[0m     \u001b[0;32mdef\u001b[0m \u001b[0mscore\u001b[0m\u001b[0;34m(\u001b[0m\u001b[0mself\u001b[0m\u001b[0;34m,\u001b[0m \u001b[0msentences\u001b[0m\u001b[0;34m,\u001b[0m \u001b[0mtotal_sentences\u001b[0m\u001b[0;34m=\u001b[0m\u001b[0mint\u001b[0m\u001b[0;34m(\u001b[0m\u001b[0;36m1e6\u001b[0m\u001b[0;34m)\u001b[0m\u001b[0;34m,\u001b[0m \u001b[0mchunksize\u001b[0m\u001b[0;34m=\u001b[0m\u001b[0;36m100\u001b[0m\u001b[0;34m,\u001b[0m \u001b[0mqueue_factor\u001b[0m\u001b[0;34m=\u001b[0m\u001b[0;36m2\u001b[0m\u001b[0;34m,\u001b[0m \u001b[0mreport_delay\u001b[0m\u001b[0;34m=\u001b[0m\u001b[0;36m1\u001b[0m\u001b[0;34m)\u001b[0m\u001b[0;34m:\u001b[0m\u001b[0;34m\u001b[0m\u001b[0;34m\u001b[0m\u001b[0m\n",
      "\u001b[0;32m~/anaconda3/envs/competition-py36/lib/python3.6/site-packages/gensim/models/base_any2vec.py\u001b[0m in \u001b[0;36mtrain\u001b[0;34m(self, sentences, corpus_file, total_examples, total_words, epochs, start_alpha, end_alpha, word_count, queue_factor, report_delay, compute_loss, callbacks, **kwargs)\u001b[0m\n\u001b[1;32m   1079\u001b[0m             \u001b[0mtotal_words\u001b[0m\u001b[0;34m=\u001b[0m\u001b[0mtotal_words\u001b[0m\u001b[0;34m,\u001b[0m \u001b[0mepochs\u001b[0m\u001b[0;34m=\u001b[0m\u001b[0mepochs\u001b[0m\u001b[0;34m,\u001b[0m \u001b[0mstart_alpha\u001b[0m\u001b[0;34m=\u001b[0m\u001b[0mstart_alpha\u001b[0m\u001b[0;34m,\u001b[0m \u001b[0mend_alpha\u001b[0m\u001b[0;34m=\u001b[0m\u001b[0mend_alpha\u001b[0m\u001b[0;34m,\u001b[0m \u001b[0mword_count\u001b[0m\u001b[0;34m=\u001b[0m\u001b[0mword_count\u001b[0m\u001b[0;34m,\u001b[0m\u001b[0;34m\u001b[0m\u001b[0;34m\u001b[0m\u001b[0m\n\u001b[1;32m   1080\u001b[0m             \u001b[0mqueue_factor\u001b[0m\u001b[0;34m=\u001b[0m\u001b[0mqueue_factor\u001b[0m\u001b[0;34m,\u001b[0m \u001b[0mreport_delay\u001b[0m\u001b[0;34m=\u001b[0m\u001b[0mreport_delay\u001b[0m\u001b[0;34m,\u001b[0m \u001b[0mcompute_loss\u001b[0m\u001b[0;34m=\u001b[0m\u001b[0mcompute_loss\u001b[0m\u001b[0;34m,\u001b[0m \u001b[0mcallbacks\u001b[0m\u001b[0;34m=\u001b[0m\u001b[0mcallbacks\u001b[0m\u001b[0;34m,\u001b[0m\u001b[0;34m\u001b[0m\u001b[0;34m\u001b[0m\u001b[0m\n\u001b[0;32m-> 1081\u001b[0;31m             **kwargs)\n\u001b[0m\u001b[1;32m   1082\u001b[0m \u001b[0;34m\u001b[0m\u001b[0m\n\u001b[1;32m   1083\u001b[0m     \u001b[0;32mdef\u001b[0m \u001b[0m_get_job_params\u001b[0m\u001b[0;34m(\u001b[0m\u001b[0mself\u001b[0m\u001b[0;34m,\u001b[0m \u001b[0mcur_epoch\u001b[0m\u001b[0;34m)\u001b[0m\u001b[0;34m:\u001b[0m\u001b[0;34m\u001b[0m\u001b[0;34m\u001b[0m\u001b[0m\n",
      "\u001b[0;32m~/anaconda3/envs/competition-py36/lib/python3.6/site-packages/gensim/models/base_any2vec.py\u001b[0m in \u001b[0;36mtrain\u001b[0;34m(self, data_iterable, corpus_file, epochs, total_examples, total_words, queue_factor, report_delay, callbacks, **kwargs)\u001b[0m\n\u001b[1;32m    551\u001b[0m                 trained_word_count_epoch, raw_word_count_epoch, job_tally_epoch = self._train_epoch(\n\u001b[1;32m    552\u001b[0m                     \u001b[0mdata_iterable\u001b[0m\u001b[0;34m,\u001b[0m \u001b[0mcur_epoch\u001b[0m\u001b[0;34m=\u001b[0m\u001b[0mcur_epoch\u001b[0m\u001b[0;34m,\u001b[0m \u001b[0mtotal_examples\u001b[0m\u001b[0;34m=\u001b[0m\u001b[0mtotal_examples\u001b[0m\u001b[0;34m,\u001b[0m\u001b[0;34m\u001b[0m\u001b[0;34m\u001b[0m\u001b[0m\n\u001b[0;32m--> 553\u001b[0;31m                     total_words=total_words, queue_factor=queue_factor, report_delay=report_delay)\n\u001b[0m\u001b[1;32m    554\u001b[0m             \u001b[0;32melse\u001b[0m\u001b[0;34m:\u001b[0m\u001b[0;34m\u001b[0m\u001b[0;34m\u001b[0m\u001b[0m\n\u001b[1;32m    555\u001b[0m                 trained_word_count_epoch, raw_word_count_epoch, job_tally_epoch = self._train_epoch_corpusfile(\n",
      "\u001b[0;32m~/anaconda3/envs/competition-py36/lib/python3.6/site-packages/gensim/models/base_any2vec.py\u001b[0m in \u001b[0;36m_train_epoch\u001b[0;34m(self, data_iterable, cur_epoch, total_examples, total_words, queue_factor, report_delay)\u001b[0m\n\u001b[1;32m    487\u001b[0m         trained_word_count, raw_word_count, job_tally = self._log_epoch_progress(\n\u001b[1;32m    488\u001b[0m             \u001b[0mprogress_queue\u001b[0m\u001b[0;34m,\u001b[0m \u001b[0mjob_queue\u001b[0m\u001b[0;34m,\u001b[0m \u001b[0mcur_epoch\u001b[0m\u001b[0;34m=\u001b[0m\u001b[0mcur_epoch\u001b[0m\u001b[0;34m,\u001b[0m \u001b[0mtotal_examples\u001b[0m\u001b[0;34m=\u001b[0m\u001b[0mtotal_examples\u001b[0m\u001b[0;34m,\u001b[0m \u001b[0mtotal_words\u001b[0m\u001b[0;34m=\u001b[0m\u001b[0mtotal_words\u001b[0m\u001b[0;34m,\u001b[0m\u001b[0;34m\u001b[0m\u001b[0;34m\u001b[0m\u001b[0m\n\u001b[0;32m--> 489\u001b[0;31m             report_delay=report_delay, is_corpus_file_mode=False)\n\u001b[0m\u001b[1;32m    490\u001b[0m \u001b[0;34m\u001b[0m\u001b[0m\n\u001b[1;32m    491\u001b[0m         \u001b[0;32mreturn\u001b[0m \u001b[0mtrained_word_count\u001b[0m\u001b[0;34m,\u001b[0m \u001b[0mraw_word_count\u001b[0m\u001b[0;34m,\u001b[0m \u001b[0mjob_tally\u001b[0m\u001b[0;34m\u001b[0m\u001b[0;34m\u001b[0m\u001b[0m\n",
      "\u001b[0;32m~/anaconda3/envs/competition-py36/lib/python3.6/site-packages/gensim/models/base_any2vec.py\u001b[0m in \u001b[0;36m_log_epoch_progress\u001b[0;34m(self, progress_queue, job_queue, cur_epoch, total_examples, total_words, report_delay, is_corpus_file_mode)\u001b[0m\n\u001b[1;32m    344\u001b[0m \u001b[0;34m\u001b[0m\u001b[0m\n\u001b[1;32m    345\u001b[0m         \u001b[0;32mwhile\u001b[0m \u001b[0munfinished_worker_count\u001b[0m \u001b[0;34m>\u001b[0m \u001b[0;36m0\u001b[0m\u001b[0;34m:\u001b[0m\u001b[0;34m\u001b[0m\u001b[0;34m\u001b[0m\u001b[0m\n\u001b[0;32m--> 346\u001b[0;31m             \u001b[0mreport\u001b[0m \u001b[0;34m=\u001b[0m \u001b[0mprogress_queue\u001b[0m\u001b[0;34m.\u001b[0m\u001b[0mget\u001b[0m\u001b[0;34m(\u001b[0m\u001b[0;34m)\u001b[0m  \u001b[0;31m# blocks if workers too slow\u001b[0m\u001b[0;34m\u001b[0m\u001b[0;34m\u001b[0m\u001b[0m\n\u001b[0m\u001b[1;32m    347\u001b[0m             \u001b[0;32mif\u001b[0m \u001b[0mreport\u001b[0m \u001b[0;32mis\u001b[0m \u001b[0;32mNone\u001b[0m\u001b[0;34m:\u001b[0m  \u001b[0;31m# a thread reporting that it finished\u001b[0m\u001b[0;34m\u001b[0m\u001b[0;34m\u001b[0m\u001b[0m\n\u001b[1;32m    348\u001b[0m                 \u001b[0munfinished_worker_count\u001b[0m \u001b[0;34m-=\u001b[0m \u001b[0;36m1\u001b[0m\u001b[0;34m\u001b[0m\u001b[0;34m\u001b[0m\u001b[0m\n",
      "\u001b[0;32m~/anaconda3/envs/competition-py36/lib/python3.6/queue.py\u001b[0m in \u001b[0;36mget\u001b[0;34m(self, block, timeout)\u001b[0m\n\u001b[1;32m    162\u001b[0m             \u001b[0;32melif\u001b[0m \u001b[0mtimeout\u001b[0m \u001b[0;32mis\u001b[0m \u001b[0;32mNone\u001b[0m\u001b[0;34m:\u001b[0m\u001b[0;34m\u001b[0m\u001b[0;34m\u001b[0m\u001b[0m\n\u001b[1;32m    163\u001b[0m                 \u001b[0;32mwhile\u001b[0m \u001b[0;32mnot\u001b[0m \u001b[0mself\u001b[0m\u001b[0;34m.\u001b[0m\u001b[0m_qsize\u001b[0m\u001b[0;34m(\u001b[0m\u001b[0;34m)\u001b[0m\u001b[0;34m:\u001b[0m\u001b[0;34m\u001b[0m\u001b[0;34m\u001b[0m\u001b[0m\n\u001b[0;32m--> 164\u001b[0;31m                     \u001b[0mself\u001b[0m\u001b[0;34m.\u001b[0m\u001b[0mnot_empty\u001b[0m\u001b[0;34m.\u001b[0m\u001b[0mwait\u001b[0m\u001b[0;34m(\u001b[0m\u001b[0;34m)\u001b[0m\u001b[0;34m\u001b[0m\u001b[0;34m\u001b[0m\u001b[0m\n\u001b[0m\u001b[1;32m    165\u001b[0m             \u001b[0;32melif\u001b[0m \u001b[0mtimeout\u001b[0m \u001b[0;34m<\u001b[0m \u001b[0;36m0\u001b[0m\u001b[0;34m:\u001b[0m\u001b[0;34m\u001b[0m\u001b[0;34m\u001b[0m\u001b[0m\n\u001b[1;32m    166\u001b[0m                 \u001b[0;32mraise\u001b[0m \u001b[0mValueError\u001b[0m\u001b[0;34m(\u001b[0m\u001b[0;34m\"'timeout' must be a non-negative number\"\u001b[0m\u001b[0;34m)\u001b[0m\u001b[0;34m\u001b[0m\u001b[0;34m\u001b[0m\u001b[0m\n",
      "\u001b[0;32m~/anaconda3/envs/competition-py36/lib/python3.6/threading.py\u001b[0m in \u001b[0;36mwait\u001b[0;34m(self, timeout)\u001b[0m\n\u001b[1;32m    293\u001b[0m         \u001b[0;32mtry\u001b[0m\u001b[0;34m:\u001b[0m    \u001b[0;31m# restore state no matter what (e.g., KeyboardInterrupt)\u001b[0m\u001b[0;34m\u001b[0m\u001b[0;34m\u001b[0m\u001b[0m\n\u001b[1;32m    294\u001b[0m             \u001b[0;32mif\u001b[0m \u001b[0mtimeout\u001b[0m \u001b[0;32mis\u001b[0m \u001b[0;32mNone\u001b[0m\u001b[0;34m:\u001b[0m\u001b[0;34m\u001b[0m\u001b[0;34m\u001b[0m\u001b[0m\n\u001b[0;32m--> 295\u001b[0;31m                 \u001b[0mwaiter\u001b[0m\u001b[0;34m.\u001b[0m\u001b[0macquire\u001b[0m\u001b[0;34m(\u001b[0m\u001b[0;34m)\u001b[0m\u001b[0;34m\u001b[0m\u001b[0;34m\u001b[0m\u001b[0m\n\u001b[0m\u001b[1;32m    296\u001b[0m                 \u001b[0mgotit\u001b[0m \u001b[0;34m=\u001b[0m \u001b[0;32mTrue\u001b[0m\u001b[0;34m\u001b[0m\u001b[0;34m\u001b[0m\u001b[0m\n\u001b[1;32m    297\u001b[0m             \u001b[0;32melse\u001b[0m\u001b[0;34m:\u001b[0m\u001b[0;34m\u001b[0m\u001b[0;34m\u001b[0m\u001b[0m\n",
      "\u001b[0;31mKeyboardInterrupt\u001b[0m: "
     ]
    }
   ],
   "source": [
    "model = Word2Vec(**params)"
   ]
  },
  {
   "cell_type": "code",
   "execution_count": 83,
   "metadata": {},
   "outputs": [
    {
     "name": "stderr",
     "output_type": "stream",
     "text": [
      "2020-06-06 07:26:51,643 : INFO : loading Word2Vec object from /home/huangzc/competition/tencent/model_ckpt/gensim/model.txt\n",
      "2020-06-06 07:27:00,069 : INFO : loading wv recursively from /home/huangzc/competition/tencent/model_ckpt/gensim/model.txt.wv.* with mmap=None\n",
      "2020-06-06 07:27:00,070 : INFO : loading vectors from /home/huangzc/competition/tencent/model_ckpt/gensim/model.txt.wv.vectors.npy with mmap=None\n",
      "2020-06-06 07:27:00,401 : INFO : setting ignored attribute vectors_norm to None\n",
      "2020-06-06 07:27:00,402 : INFO : loading vocabulary recursively from /home/huangzc/competition/tencent/model_ckpt/gensim/model.txt.vocabulary.* with mmap=None\n",
      "2020-06-06 07:27:00,402 : INFO : loading trainables recursively from /home/huangzc/competition/tencent/model_ckpt/gensim/model.txt.trainables.* with mmap=None\n",
      "2020-06-06 07:27:00,403 : INFO : loading syn1neg from /home/huangzc/competition/tencent/model_ckpt/gensim/model.txt.trainables.syn1neg.npy with mmap=None\n",
      "2020-06-06 07:27:00,707 : INFO : setting ignored attribute cum_table to None\n",
      "2020-06-06 07:27:00,708 : INFO : loaded /home/huangzc/competition/tencent/model_ckpt/gensim/model.txt\n"
     ]
    }
   ],
   "source": [
    "# ### Restore Model\n",
    "# # #####################################\n",
    "save_path = '/home/huangzc/competition/tencent/model_ckpt/gensim/model.txt'\n",
    "model = Word2Vec.load(save_path)"
   ]
  },
  {
   "cell_type": "markdown",
   "metadata": {},
   "source": [
    "### 新方法"
   ]
  },
  {
   "cell_type": "code",
   "execution_count": 84,
   "metadata": {},
   "outputs": [],
   "source": [
    "vocab = model.wv.index2word"
   ]
  },
  {
   "cell_type": "code",
   "execution_count": 85,
   "metadata": {},
   "outputs": [],
   "source": [
    "vocab_dict = dict(zip(vocab, list(range(len(vocab)))))"
   ]
  },
  {
   "cell_type": "code",
   "execution_count": 86,
   "metadata": {},
   "outputs": [],
   "source": [
    "f = open(TRAIN_DIR+'gensim_ad_id_dict.js','w')\n",
    "f.write(str(vocab_dict))\n",
    "f.close()"
   ]
  },
  {
   "cell_type": "code",
   "execution_count": 87,
   "metadata": {},
   "outputs": [],
   "source": [
    "wv_matrix = model.wv.vectors"
   ]
  },
  {
   "cell_type": "code",
   "execution_count": 88,
   "metadata": {},
   "outputs": [],
   "source": [
    "np.save(TRAIN_DIR+'gensim_ad_id.npy', wv_matrix)"
   ]
  },
  {
   "cell_type": "code",
   "execution_count": null,
   "metadata": {},
   "outputs": [],
   "source": []
  }
 ],
 "metadata": {
  "kernelspec": {
   "display_name": "Python 3",
   "language": "python",
   "name": "python3"
  },
  "language_info": {
   "codemirror_mode": {
    "name": "ipython",
    "version": 3
   },
   "file_extension": ".py",
   "mimetype": "text/x-python",
   "name": "python",
   "nbconvert_exporter": "python",
   "pygments_lexer": "ipython3",
   "version": "3.6.10"
  }
 },
 "nbformat": 4,
 "nbformat_minor": 4
}
