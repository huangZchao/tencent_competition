{
 "cells": [
  {
   "cell_type": "code",
   "execution_count": 1,
   "metadata": {},
   "outputs": [],
   "source": [
    "import gensim\n",
    "import pandas as pd\n",
    "from config import *\n",
    "from tools import *\n",
    "from gensim.models import Word2Vec\n",
    "from gensim.models.callbacks import CallbackAny2Vec\n",
    "import matplotlib.pyplot as plt\n",
    "from IPython.display import clear_output"
   ]
  },
  {
   "cell_type": "code",
   "execution_count": 2,
   "metadata": {},
   "outputs": [],
   "source": [
    "import logging\n",
    "logging.basicConfig(format='%(asctime)s : %(levelname)s : %(message)s', level=logging.INFO)"
   ]
  },
  {
   "cell_type": "code",
   "execution_count": 3,
   "metadata": {},
   "outputs": [],
   "source": [
    "TARGET = 'ad_id'"
   ]
  },
  {
   "cell_type": "code",
   "execution_count": 4,
   "metadata": {},
   "outputs": [],
   "source": [
    "tr_clk_list_df = pd.read_pickle(TRAIN_DIR+CLK_PATH_DICT[TARGET])\n",
    "ts_clk_list_df = pd.read_pickle(TEST_DIR+CLK_PATH_DICT[TARGET])"
   ]
  },
  {
   "cell_type": "code",
   "execution_count": 5,
   "metadata": {},
   "outputs": [],
   "source": [
    "grid_df = pd.concat([tr_clk_list_df, ts_clk_list_df], axis=0)\n",
    "del tr_clk_list_df, ts_clk_list_df"
   ]
  },
  {
   "cell_type": "code",
   "execution_count": 6,
   "metadata": {},
   "outputs": [],
   "source": [
    "grid_df[TARGET] = grid_df[TARGET].map(lambda x: list(map(str, x)))"
   ]
  },
  {
   "cell_type": "code",
   "execution_count": 7,
   "metadata": {},
   "outputs": [],
   "source": [
    "sentences = grid_df[TARGET].values.tolist()"
   ]
  },
  {
   "cell_type": "code",
   "execution_count": 8,
   "metadata": {},
   "outputs": [],
   "source": [
    "class loss(object):\n",
    "    def __init__(self):\n",
    "        self.loss_list = []"
   ]
  },
  {
   "cell_type": "code",
   "execution_count": 9,
   "metadata": {},
   "outputs": [],
   "source": [
    "### Gensim callback\n",
    "#####################################\n",
    "class callback(CallbackAny2Vec):\n",
    "    '''Callback to print loss after each epoch.'''\n",
    "\n",
    "    def __init__(self):\n",
    "        self.epoch = 0\n",
    "        self.loss = loss()\n",
    "\n",
    "    def on_epoch_end(self, model):\n",
    "        clear_output(wait=True)\n",
    "        loss = model.get_latest_training_loss()\n",
    "        \n",
    "        self.loss.loss_list.append(loss)\n",
    "        ### show loss\n",
    "        if len(self.loss.loss_list) > 1:\n",
    "            tmp = np.array(self.loss.loss_list)\n",
    "            plt.plot(tmp[1:]-tmp[:-1])\n",
    "            plt.show()\n",
    "            \n",
    "        print('loss list: ', self.loss.loss_list)\n",
    "        print('Loss after epoch {}: {}'.format(self.epoch, loss))\n",
    "        model.save('/home/baode/huangzc/tencent/model_ckpt/gensim/model_%s.txt'%TARGET)\n",
    "        self.epoch += 1"
   ]
  },
  {
   "cell_type": "code",
   "execution_count": 10,
   "metadata": {},
   "outputs": [
    {
     "name": "stdout",
     "output_type": "stream",
     "text": [
      "72\n"
     ]
    }
   ],
   "source": [
    "N_CORES = os.cpu_count()\n",
    "print(N_CORES)"
   ]
  },
  {
   "cell_type": "code",
   "execution_count": 11,
   "metadata": {},
   "outputs": [],
   "source": [
    "### Gensim Parameter\n",
    "######################################\n",
    "params = {'sentences': sentences,\n",
    "          'size': 128,\n",
    "          'window': 20,\n",
    "          'min_count': 2,\n",
    "          'compute_loss': True,\n",
    "          'sample': 0.0001,\n",
    "          'iter': 200,\n",
    "          'workers': N_CORES,\n",
    "          'callbacks': [callback()]}"
   ]
  },
  {
   "cell_type": "code",
   "execution_count": 12,
   "metadata": {
    "scrolled": true
   },
   "outputs": [
    {
     "data": {
      "image/png": "[encoded data removed]",
      "text/plain": [
       "<Figure size 432x288 with 1 Axes>"
      ]
     },
     "metadata": {
      "needs_background": "light"
     },
     "output_type": "display_data"
    },
    {
     "name": "stderr",
     "output_type": "stream",
     "text": [
      "2020-06-17 14:06:38,295 : INFO : saving Word2Vec object under /home/baode/huangzc/tencent/model_ckpt/gensim/model_ad_id.txt, separately None\n",
      "2020-06-17 14:06:38,296 : INFO : storing np array 'vectors' to /home/baode/huangzc/tencent/model_ckpt/gensim/model_ad_id.txt.wv.vectors.npy\n"
     ]
    },
    {
     "name": "stdout",
     "output_type": "stream",
     "text": [
      "loss list:  [1970819.5, 3363671.0, 4550511.0, 5638087.5, 6657047.5, 7616222.5, 8566133.0, 9489953.0, 10280507.0, 11043968.0, 11839584.0, 12618652.0, 13404612.0, 14139422.0, 14856308.0, 15602046.0, 16348510.0, 17061806.0, 17678660.0, 18286066.0, 18861570.0, 19451784.0, 20009754.0, 20582524.0, 21167142.0, 21758884.0, 22321834.0, 22865972.0, 23388370.0, 23904218.0, 24443040.0, 24997762.0, 25529854.0, 26072636.0, 26594114.0, 27121816.0, 27655612.0, 28208182.0, 28750906.0, 29312160.0]\n",
      "Loss after epoch 39: 29312160.0\n"
     ]
    },
    {
     "name": "stderr",
     "output_type": "stream",
     "text": [
      "2020-06-17 14:06:39,069 : INFO : not storing attribute vectors_norm\n",
      "2020-06-17 14:06:39,071 : INFO : storing np array 'syn1neg' to /home/baode/huangzc/tencent/model_ckpt/gensim/model_ad_id.txt.trainables.syn1neg.npy\n",
      "2020-06-17 14:06:40,401 : INFO : not storing attribute cum_table\n",
      "2020-06-17 14:06:44,761 : INFO : saved /home/baode/huangzc/tencent/model_ckpt/gensim/model_ad_id.txt\n",
      "2020-06-17 14:06:45,796 : INFO : EPOCH 41 - PROGRESS: at 1.26% examples, 739578 words/s, in_qsize 143, out_qsize 1\n",
      "2020-06-17 14:06:46,796 : INFO : EPOCH 41 - PROGRESS: at 2.84% examples, 835817 words/s, in_qsize 142, out_qsize 1\n",
      "2020-06-17 14:06:47,806 : INFO : EPOCH 41 - PROGRESS: at 4.34% examples, 852752 words/s, in_qsize 144, out_qsize 0\n",
      "2020-06-17 14:06:48,808 : INFO : EPOCH 41 - PROGRESS: at 5.85% examples, 860348 words/s, in_qsize 143, out_qsize 0\n",
      "2020-06-17 14:06:49,809 : INFO : EPOCH 41 - PROGRESS: at 7.10% examples, 834258 words/s, in_qsize 143, out_qsize 0\n",
      "2020-06-17 14:06:50,813 : INFO : EPOCH 41 - PROGRESS: at 8.53% examples, 834522 words/s, in_qsize 143, out_qsize 0\n",
      "2020-06-17 14:06:51,824 : INFO : EPOCH 41 - PROGRESS: at 9.97% examples, 833959 words/s, in_qsize 144, out_qsize 2\n",
      "2020-06-17 14:06:52,836 : INFO : EPOCH 41 - PROGRESS: at 11.31% examples, 826600 words/s, in_qsize 144, out_qsize 0\n",
      "2020-06-17 14:06:53,880 : INFO : EPOCH 41 - PROGRESS: at 12.61% examples, 817019 words/s, in_qsize 141, out_qsize 2\n",
      "2020-06-17 14:06:54,883 : INFO : EPOCH 41 - PROGRESS: at 13.94% examples, 812648 words/s, in_qsize 144, out_qsize 0\n",
      "2020-06-17 14:06:55,890 : INFO : EPOCH 41 - PROGRESS: at 15.28% examples, 809563 words/s, in_qsize 143, out_qsize 0\n",
      "2020-06-17 14:06:56,898 : INFO : EPOCH 41 - PROGRESS: at 16.67% examples, 809213 words/s, in_qsize 141, out_qsize 2\n",
      "2020-06-17 14:06:57,926 : INFO : EPOCH 41 - PROGRESS: at 17.91% examples, 802197 words/s, in_qsize 143, out_qsize 0\n",
      "2020-06-17 14:06:58,932 : INFO : EPOCH 41 - PROGRESS: at 19.17% examples, 797372 words/s, in_qsize 144, out_qsize 0\n",
      "2020-06-17 14:06:59,938 : INFO : EPOCH 41 - PROGRESS: at 20.49% examples, 795548 words/s, in_qsize 144, out_qsize 0\n",
      "2020-06-17 14:07:00,980 : INFO : EPOCH 41 - PROGRESS: at 21.88% examples, 794984 words/s, in_qsize 143, out_qsize 0\n",
      "2020-06-17 14:07:01,999 : INFO : EPOCH 41 - PROGRESS: at 23.22% examples, 793437 words/s, in_qsize 140, out_qsize 3\n",
      "2020-06-17 14:07:03,007 : INFO : EPOCH 41 - PROGRESS: at 24.48% examples, 790088 words/s, in_qsize 142, out_qsize 1\n",
      "2020-06-17 14:07:04,025 : INFO : EPOCH 41 - PROGRESS: at 25.73% examples, 786134 words/s, in_qsize 142, out_qsize 1\n",
      "2020-06-17 14:07:05,049 : INFO : EPOCH 41 - PROGRESS: at 26.94% examples, 781470 words/s, in_qsize 143, out_qsize 0\n",
      "2020-06-17 14:07:06,055 : INFO : EPOCH 41 - PROGRESS: at 28.05% examples, 775252 words/s, in_qsize 143, out_qsize 0\n",
      "2020-06-17 14:07:07,057 : INFO : EPOCH 41 - PROGRESS: at 29.31% examples, 773530 words/s, in_qsize 143, out_qsize 0\n",
      "2020-06-17 14:07:08,066 : INFO : EPOCH 41 - PROGRESS: at 30.66% examples, 773717 words/s, in_qsize 143, out_qsize 0\n",
      "2020-06-17 14:07:09,111 : INFO : EPOCH 41 - PROGRESS: at 31.95% examples, 771567 words/s, in_qsize 143, out_qsize 0\n",
      "2020-06-17 14:07:10,121 : INFO : EPOCH 41 - PROGRESS: at 33.13% examples, 768122 words/s, in_qsize 143, out_qsize 0\n",
      "2020-06-17 14:07:11,121 : INFO : EPOCH 41 - PROGRESS: at 34.41% examples, 767690 words/s, in_qsize 144, out_qsize 0\n",
      "2020-06-17 14:07:12,125 : INFO : EPOCH 41 - PROGRESS: at 35.49% examples, 762778 words/s, in_qsize 144, out_qsize 1\n",
      "2020-06-17 14:07:13,151 : INFO : EPOCH 41 - PROGRESS: at 36.80% examples, 762485 words/s, in_qsize 143, out_qsize 0\n",
      "2020-06-17 14:07:14,176 : INFO : EPOCH 41 - PROGRESS: at 38.06% examples, 761324 words/s, in_qsize 143, out_qsize 0\n",
      "2020-06-17 14:07:15,186 : INFO : EPOCH 41 - PROGRESS: at 39.33% examples, 760592 words/s, in_qsize 136, out_qsize 7\n",
      "2020-06-17 14:07:16,187 : INFO : EPOCH 41 - PROGRESS: at 40.78% examples, 763357 words/s, in_qsize 144, out_qsize 0\n",
      "2020-06-17 14:07:17,193 : INFO : EPOCH 41 - PROGRESS: at 42.05% examples, 762751 words/s, in_qsize 144, out_qsize 0\n",
      "2020-06-17 14:07:18,208 : INFO : EPOCH 41 - PROGRESS: at 43.51% examples, 764970 words/s, in_qsize 143, out_qsize 0\n",
      "2020-06-17 14:07:19,214 : INFO : EPOCH 41 - PROGRESS: at 44.93% examples, 767003 words/s, in_qsize 142, out_qsize 1\n",
      "2020-06-17 14:07:20,233 : INFO : EPOCH 41 - PROGRESS: at 46.20% examples, 766030 words/s, in_qsize 144, out_qsize 0\n",
      "2020-06-17 14:07:21,237 : INFO : EPOCH 41 - PROGRESS: at 47.51% examples, 765954 words/s, in_qsize 144, out_qsize 0\n",
      "2020-06-17 14:07:22,243 : INFO : EPOCH 41 - PROGRESS: at 48.83% examples, 765857 words/s, in_qsize 142, out_qsize 1\n",
      "2020-06-17 14:07:23,281 : INFO : EPOCH 41 - PROGRESS: at 50.14% examples, 765331 words/s, in_qsize 143, out_qsize 1\n",
      "2020-06-17 14:07:24,298 : INFO : EPOCH 41 - PROGRESS: at 51.31% examples, 763173 words/s, in_qsize 139, out_qsize 4\n",
      "2020-06-17 14:07:25,333 : INFO : EPOCH 41 - PROGRESS: at 52.68% examples, 763993 words/s, in_qsize 143, out_qsize 0\n",
      "2020-06-17 14:07:26,357 : INFO : EPOCH 41 - PROGRESS: at 53.87% examples, 762028 words/s, in_qsize 143, out_qsize 0\n",
      "2020-06-17 14:07:27,366 : INFO : EPOCH 41 - PROGRESS: at 54.99% examples, 759353 words/s, in_qsize 143, out_qsize 1\n",
      "2020-06-17 14:07:28,418 : INFO : EPOCH 41 - PROGRESS: at 56.22% examples, 757954 words/s, in_qsize 140, out_qsize 3\n",
      "2020-06-17 14:07:29,438 : INFO : EPOCH 41 - PROGRESS: at 57.46% examples, 756765 words/s, in_qsize 143, out_qsize 0\n",
      "2020-06-17 14:07:30,453 : INFO : EPOCH 41 - PROGRESS: at 58.91% examples, 758734 words/s, in_qsize 144, out_qsize 0\n",
      "2020-06-17 14:07:31,457 : INFO : EPOCH 41 - PROGRESS: at 60.06% examples, 757020 words/s, in_qsize 143, out_qsize 0\n",
      "2020-06-17 14:07:32,478 : INFO : EPOCH 41 - PROGRESS: at 61.33% examples, 756487 words/s, in_qsize 144, out_qsize 1\n",
      "2020-06-17 14:07:33,487 : INFO : EPOCH 41 - PROGRESS: at 62.55% examples, 755389 words/s, in_qsize 144, out_qsize 0\n",
      "2020-06-17 14:07:34,530 : INFO : EPOCH 41 - PROGRESS: at 63.82% examples, 754615 words/s, in_qsize 142, out_qsize 1\n",
      "2020-06-17 14:07:35,531 : INFO : EPOCH 41 - PROGRESS: at 65.02% examples, 753528 words/s, in_qsize 143, out_qsize 1\n",
      "2020-06-17 14:07:36,565 : INFO : EPOCH 41 - PROGRESS: at 66.30% examples, 753091 words/s, in_qsize 144, out_qsize 2\n",
      "2020-06-17 14:07:37,586 : INFO : EPOCH 41 - PROGRESS: at 67.50% examples, 751988 words/s, in_qsize 142, out_qsize 1\n",
      "2020-06-17 14:07:38,630 : INFO : EPOCH 41 - PROGRESS: at 68.76% examples, 750951 words/s, in_qsize 140, out_qsize 3\n",
      "2020-06-17 14:07:39,635 : INFO : EPOCH 41 - PROGRESS: at 70.15% examples, 752168 words/s, in_qsize 144, out_qsize 0\n",
      "2020-06-17 14:07:40,655 : INFO : EPOCH 41 - PROGRESS: at 71.32% examples, 750643 words/s, in_qsize 144, out_qsize 0\n",
      "2020-06-17 14:07:41,658 : INFO : EPOCH 41 - PROGRESS: at 72.59% examples, 750533 words/s, in_qsize 138, out_qsize 5\n",
      "2020-06-17 14:07:42,661 : INFO : EPOCH 41 - PROGRESS: at 73.94% examples, 751252 words/s, in_qsize 143, out_qsize 0\n",
      "2020-06-17 14:07:43,673 : INFO : EPOCH 41 - PROGRESS: at 75.17% examples, 750662 words/s, in_qsize 143, out_qsize 0\n",
      "2020-06-17 14:07:44,684 : INFO : EPOCH 41 - PROGRESS: at 76.42% examples, 750583 words/s, in_qsize 143, out_qsize 0\n",
      "2020-06-17 14:07:45,684 : INFO : EPOCH 41 - PROGRESS: at 77.55% examples, 749168 words/s, in_qsize 141, out_qsize 3\n",
      "2020-06-17 14:07:46,701 : INFO : EPOCH 41 - PROGRESS: at 78.80% examples, 748789 words/s, in_qsize 143, out_qsize 0\n",
      "2020-06-17 14:07:47,703 : INFO : EPOCH 41 - PROGRESS: at 80.16% examples, 749461 words/s, in_qsize 143, out_qsize 0\n",
      "2020-06-17 14:07:48,731 : INFO : EPOCH 41 - PROGRESS: at 81.35% examples, 748394 words/s, in_qsize 142, out_qsize 4\n",
      "2020-06-17 14:07:49,738 : INFO : EPOCH 41 - PROGRESS: at 82.61% examples, 748096 words/s, in_qsize 143, out_qsize 0\n",
      "2020-06-17 14:07:50,759 : INFO : EPOCH 41 - PROGRESS: at 83.90% examples, 747969 words/s, in_qsize 144, out_qsize 0\n",
      "2020-06-17 14:07:51,762 : INFO : EPOCH 41 - PROGRESS: at 85.00% examples, 746419 words/s, in_qsize 143, out_qsize 0\n",
      "2020-06-17 14:07:52,796 : INFO : EPOCH 41 - PROGRESS: at 86.26% examples, 746057 words/s, in_qsize 144, out_qsize 0\n",
      "2020-06-17 14:07:53,803 : INFO : EPOCH 41 - PROGRESS: at 87.66% examples, 747198 words/s, in_qsize 144, out_qsize 1\n"
     ]
    },
    {
     "name": "stderr",
     "output_type": "stream",
     "text": [
      "2020-06-17 14:07:54,858 : INFO : EPOCH 41 - PROGRESS: at 89.04% examples, 747542 words/s, in_qsize 141, out_qsize 2\n",
      "2020-06-17 14:07:55,880 : INFO : EPOCH 41 - PROGRESS: at 90.33% examples, 747305 words/s, in_qsize 142, out_qsize 2\n",
      "2020-06-17 14:07:56,904 : INFO : EPOCH 41 - PROGRESS: at 91.58% examples, 747012 words/s, in_qsize 143, out_qsize 0\n",
      "2020-06-17 14:07:57,923 : INFO : EPOCH 41 - PROGRESS: at 92.75% examples, 745930 words/s, in_qsize 143, out_qsize 0\n",
      "2020-06-17 14:07:58,937 : INFO : EPOCH 41 - PROGRESS: at 94.03% examples, 745692 words/s, in_qsize 143, out_qsize 0\n"
     ]
    },
    {
     "ename": "KeyboardInterrupt",
     "evalue": "",
     "output_type": "error",
     "traceback": [
      "\u001b[0;31m---------------------------------------------------------------------------\u001b[0m",
      "\u001b[0;31mKeyboardInterrupt\u001b[0m                         Traceback (most recent call last)",
      "\u001b[0;32m<ipython-input-12-de9f602fdf46>\u001b[0m in \u001b[0;36m<module>\u001b[0;34m\u001b[0m\n\u001b[0;32m----> 1\u001b[0;31m \u001b[0mmodel\u001b[0m \u001b[0;34m=\u001b[0m \u001b[0mWord2Vec\u001b[0m\u001b[0;34m(\u001b[0m\u001b[0;34m**\u001b[0m\u001b[0mparams\u001b[0m\u001b[0;34m)\u001b[0m\u001b[0;34m\u001b[0m\u001b[0;34m\u001b[0m\u001b[0m\n\u001b[0m",
      "\u001b[0;32m~/anaconda3/envs/competition-py36/lib/python3.6/site-packages/gensim/models/word2vec.py\u001b[0m in \u001b[0;36m__init__\u001b[0;34m(self, sentences, corpus_file, size, alpha, window, min_count, max_vocab_size, sample, seed, workers, min_alpha, sg, hs, negative, ns_exponent, cbow_mean, hashfxn, iter, null_word, trim_rule, sorted_vocab, batch_words, compute_loss, callbacks, max_final_vocab)\u001b[0m\n\u001b[1;32m    781\u001b[0m             \u001b[0mcallbacks\u001b[0m\u001b[0;34m=\u001b[0m\u001b[0mcallbacks\u001b[0m\u001b[0;34m,\u001b[0m \u001b[0mbatch_words\u001b[0m\u001b[0;34m=\u001b[0m\u001b[0mbatch_words\u001b[0m\u001b[0;34m,\u001b[0m \u001b[0mtrim_rule\u001b[0m\u001b[0;34m=\u001b[0m\u001b[0mtrim_rule\u001b[0m\u001b[0;34m,\u001b[0m \u001b[0msg\u001b[0m\u001b[0;34m=\u001b[0m\u001b[0msg\u001b[0m\u001b[0;34m,\u001b[0m \u001b[0malpha\u001b[0m\u001b[0;34m=\u001b[0m\u001b[0malpha\u001b[0m\u001b[0;34m,\u001b[0m \u001b[0mwindow\u001b[0m\u001b[0;34m=\u001b[0m\u001b[0mwindow\u001b[0m\u001b[0;34m,\u001b[0m\u001b[0;34m\u001b[0m\u001b[0;34m\u001b[0m\u001b[0m\n\u001b[1;32m    782\u001b[0m             \u001b[0mseed\u001b[0m\u001b[0;34m=\u001b[0m\u001b[0mseed\u001b[0m\u001b[0;34m,\u001b[0m \u001b[0mhs\u001b[0m\u001b[0;34m=\u001b[0m\u001b[0mhs\u001b[0m\u001b[0;34m,\u001b[0m \u001b[0mnegative\u001b[0m\u001b[0;34m=\u001b[0m\u001b[0mnegative\u001b[0m\u001b[0;34m,\u001b[0m \u001b[0mcbow_mean\u001b[0m\u001b[0;34m=\u001b[0m\u001b[0mcbow_mean\u001b[0m\u001b[0;34m,\u001b[0m \u001b[0mmin_alpha\u001b[0m\u001b[0;34m=\u001b[0m\u001b[0mmin_alpha\u001b[0m\u001b[0;34m,\u001b[0m \u001b[0mcompute_loss\u001b[0m\u001b[0;34m=\u001b[0m\u001b[0mcompute_loss\u001b[0m\u001b[0;34m,\u001b[0m\u001b[0;34m\u001b[0m\u001b[0;34m\u001b[0m\u001b[0m\n\u001b[0;32m--> 783\u001b[0;31m             fast_version=FAST_VERSION)\n\u001b[0m\u001b[1;32m    784\u001b[0m \u001b[0;34m\u001b[0m\u001b[0m\n\u001b[1;32m    785\u001b[0m     def _do_train_epoch(self, corpus_file, thread_id, offset, cython_vocab, thread_private_mem, cur_epoch,\n",
      "\u001b[0;32m~/anaconda3/envs/competition-py36/lib/python3.6/site-packages/gensim/models/base_any2vec.py\u001b[0m in \u001b[0;36m__init__\u001b[0;34m(self, sentences, corpus_file, workers, vector_size, epochs, callbacks, batch_words, trim_rule, sg, alpha, window, seed, hs, negative, ns_exponent, cbow_mean, min_alpha, compute_loss, fast_version, **kwargs)\u001b[0m\n\u001b[1;32m    761\u001b[0m                 \u001b[0msentences\u001b[0m\u001b[0;34m=\u001b[0m\u001b[0msentences\u001b[0m\u001b[0;34m,\u001b[0m \u001b[0mcorpus_file\u001b[0m\u001b[0;34m=\u001b[0m\u001b[0mcorpus_file\u001b[0m\u001b[0;34m,\u001b[0m \u001b[0mtotal_examples\u001b[0m\u001b[0;34m=\u001b[0m\u001b[0mself\u001b[0m\u001b[0;34m.\u001b[0m\u001b[0mcorpus_count\u001b[0m\u001b[0;34m,\u001b[0m\u001b[0;34m\u001b[0m\u001b[0;34m\u001b[0m\u001b[0m\n\u001b[1;32m    762\u001b[0m                 \u001b[0mtotal_words\u001b[0m\u001b[0;34m=\u001b[0m\u001b[0mself\u001b[0m\u001b[0;34m.\u001b[0m\u001b[0mcorpus_total_words\u001b[0m\u001b[0;34m,\u001b[0m \u001b[0mepochs\u001b[0m\u001b[0;34m=\u001b[0m\u001b[0mself\u001b[0m\u001b[0;34m.\u001b[0m\u001b[0mepochs\u001b[0m\u001b[0;34m,\u001b[0m \u001b[0mstart_alpha\u001b[0m\u001b[0;34m=\u001b[0m\u001b[0mself\u001b[0m\u001b[0;34m.\u001b[0m\u001b[0malpha\u001b[0m\u001b[0;34m,\u001b[0m\u001b[0;34m\u001b[0m\u001b[0;34m\u001b[0m\u001b[0m\n\u001b[0;32m--> 763\u001b[0;31m                 end_alpha=self.min_alpha, compute_loss=compute_loss)\n\u001b[0m\u001b[1;32m    764\u001b[0m         \u001b[0;32melse\u001b[0m\u001b[0;34m:\u001b[0m\u001b[0;34m\u001b[0m\u001b[0;34m\u001b[0m\u001b[0m\n\u001b[1;32m    765\u001b[0m             \u001b[0;32mif\u001b[0m \u001b[0mtrim_rule\u001b[0m \u001b[0;32mis\u001b[0m \u001b[0;32mnot\u001b[0m \u001b[0;32mNone\u001b[0m\u001b[0;34m:\u001b[0m\u001b[0;34m\u001b[0m\u001b[0;34m\u001b[0m\u001b[0m\n",
      "\u001b[0;32m~/anaconda3/envs/competition-py36/lib/python3.6/site-packages/gensim/models/word2vec.py\u001b[0m in \u001b[0;36mtrain\u001b[0;34m(self, sentences, corpus_file, total_examples, total_words, epochs, start_alpha, end_alpha, word_count, queue_factor, report_delay, compute_loss, callbacks)\u001b[0m\n\u001b[1;32m    908\u001b[0m             \u001b[0msentences\u001b[0m\u001b[0;34m=\u001b[0m\u001b[0msentences\u001b[0m\u001b[0;34m,\u001b[0m \u001b[0mcorpus_file\u001b[0m\u001b[0;34m=\u001b[0m\u001b[0mcorpus_file\u001b[0m\u001b[0;34m,\u001b[0m \u001b[0mtotal_examples\u001b[0m\u001b[0;34m=\u001b[0m\u001b[0mtotal_examples\u001b[0m\u001b[0;34m,\u001b[0m \u001b[0mtotal_words\u001b[0m\u001b[0;34m=\u001b[0m\u001b[0mtotal_words\u001b[0m\u001b[0;34m,\u001b[0m\u001b[0;34m\u001b[0m\u001b[0;34m\u001b[0m\u001b[0m\n\u001b[1;32m    909\u001b[0m             \u001b[0mepochs\u001b[0m\u001b[0;34m=\u001b[0m\u001b[0mepochs\u001b[0m\u001b[0;34m,\u001b[0m \u001b[0mstart_alpha\u001b[0m\u001b[0;34m=\u001b[0m\u001b[0mstart_alpha\u001b[0m\u001b[0;34m,\u001b[0m \u001b[0mend_alpha\u001b[0m\u001b[0;34m=\u001b[0m\u001b[0mend_alpha\u001b[0m\u001b[0;34m,\u001b[0m \u001b[0mword_count\u001b[0m\u001b[0;34m=\u001b[0m\u001b[0mword_count\u001b[0m\u001b[0;34m,\u001b[0m\u001b[0;34m\u001b[0m\u001b[0;34m\u001b[0m\u001b[0m\n\u001b[0;32m--> 910\u001b[0;31m             queue_factor=queue_factor, report_delay=report_delay, compute_loss=compute_loss, callbacks=callbacks)\n\u001b[0m\u001b[1;32m    911\u001b[0m \u001b[0;34m\u001b[0m\u001b[0m\n\u001b[1;32m    912\u001b[0m     \u001b[0;32mdef\u001b[0m \u001b[0mscore\u001b[0m\u001b[0;34m(\u001b[0m\u001b[0mself\u001b[0m\u001b[0;34m,\u001b[0m \u001b[0msentences\u001b[0m\u001b[0;34m,\u001b[0m \u001b[0mtotal_sentences\u001b[0m\u001b[0;34m=\u001b[0m\u001b[0mint\u001b[0m\u001b[0;34m(\u001b[0m\u001b[0;36m1e6\u001b[0m\u001b[0;34m)\u001b[0m\u001b[0;34m,\u001b[0m \u001b[0mchunksize\u001b[0m\u001b[0;34m=\u001b[0m\u001b[0;36m100\u001b[0m\u001b[0;34m,\u001b[0m \u001b[0mqueue_factor\u001b[0m\u001b[0;34m=\u001b[0m\u001b[0;36m2\u001b[0m\u001b[0;34m,\u001b[0m \u001b[0mreport_delay\u001b[0m\u001b[0;34m=\u001b[0m\u001b[0;36m1\u001b[0m\u001b[0;34m)\u001b[0m\u001b[0;34m:\u001b[0m\u001b[0;34m\u001b[0m\u001b[0;34m\u001b[0m\u001b[0m\n",
      "\u001b[0;32m~/anaconda3/envs/competition-py36/lib/python3.6/site-packages/gensim/models/base_any2vec.py\u001b[0m in \u001b[0;36mtrain\u001b[0;34m(self, sentences, corpus_file, total_examples, total_words, epochs, start_alpha, end_alpha, word_count, queue_factor, report_delay, compute_loss, callbacks, **kwargs)\u001b[0m\n\u001b[1;32m   1079\u001b[0m             \u001b[0mtotal_words\u001b[0m\u001b[0;34m=\u001b[0m\u001b[0mtotal_words\u001b[0m\u001b[0;34m,\u001b[0m \u001b[0mepochs\u001b[0m\u001b[0;34m=\u001b[0m\u001b[0mepochs\u001b[0m\u001b[0;34m,\u001b[0m \u001b[0mstart_alpha\u001b[0m\u001b[0;34m=\u001b[0m\u001b[0mstart_alpha\u001b[0m\u001b[0;34m,\u001b[0m \u001b[0mend_alpha\u001b[0m\u001b[0;34m=\u001b[0m\u001b[0mend_alpha\u001b[0m\u001b[0;34m,\u001b[0m \u001b[0mword_count\u001b[0m\u001b[0;34m=\u001b[0m\u001b[0mword_count\u001b[0m\u001b[0;34m,\u001b[0m\u001b[0;34m\u001b[0m\u001b[0;34m\u001b[0m\u001b[0m\n\u001b[1;32m   1080\u001b[0m             \u001b[0mqueue_factor\u001b[0m\u001b[0;34m=\u001b[0m\u001b[0mqueue_factor\u001b[0m\u001b[0;34m,\u001b[0m \u001b[0mreport_delay\u001b[0m\u001b[0;34m=\u001b[0m\u001b[0mreport_delay\u001b[0m\u001b[0;34m,\u001b[0m \u001b[0mcompute_loss\u001b[0m\u001b[0;34m=\u001b[0m\u001b[0mcompute_loss\u001b[0m\u001b[0;34m,\u001b[0m \u001b[0mcallbacks\u001b[0m\u001b[0;34m=\u001b[0m\u001b[0mcallbacks\u001b[0m\u001b[0;34m,\u001b[0m\u001b[0;34m\u001b[0m\u001b[0;34m\u001b[0m\u001b[0m\n\u001b[0;32m-> 1081\u001b[0;31m             **kwargs)\n\u001b[0m\u001b[1;32m   1082\u001b[0m \u001b[0;34m\u001b[0m\u001b[0m\n\u001b[1;32m   1083\u001b[0m     \u001b[0;32mdef\u001b[0m \u001b[0m_get_job_params\u001b[0m\u001b[0;34m(\u001b[0m\u001b[0mself\u001b[0m\u001b[0;34m,\u001b[0m \u001b[0mcur_epoch\u001b[0m\u001b[0;34m)\u001b[0m\u001b[0;34m:\u001b[0m\u001b[0;34m\u001b[0m\u001b[0;34m\u001b[0m\u001b[0m\n",
      "\u001b[0;32m~/anaconda3/envs/competition-py36/lib/python3.6/site-packages/gensim/models/base_any2vec.py\u001b[0m in \u001b[0;36mtrain\u001b[0;34m(self, data_iterable, corpus_file, epochs, total_examples, total_words, queue_factor, report_delay, callbacks, **kwargs)\u001b[0m\n\u001b[1;32m    551\u001b[0m                 trained_word_count_epoch, raw_word_count_epoch, job_tally_epoch = self._train_epoch(\n\u001b[1;32m    552\u001b[0m                     \u001b[0mdata_iterable\u001b[0m\u001b[0;34m,\u001b[0m \u001b[0mcur_epoch\u001b[0m\u001b[0;34m=\u001b[0m\u001b[0mcur_epoch\u001b[0m\u001b[0;34m,\u001b[0m \u001b[0mtotal_examples\u001b[0m\u001b[0;34m=\u001b[0m\u001b[0mtotal_examples\u001b[0m\u001b[0;34m,\u001b[0m\u001b[0;34m\u001b[0m\u001b[0;34m\u001b[0m\u001b[0m\n\u001b[0;32m--> 553\u001b[0;31m                     total_words=total_words, queue_factor=queue_factor, report_delay=report_delay)\n\u001b[0m\u001b[1;32m    554\u001b[0m             \u001b[0;32melse\u001b[0m\u001b[0;34m:\u001b[0m\u001b[0;34m\u001b[0m\u001b[0;34m\u001b[0m\u001b[0m\n\u001b[1;32m    555\u001b[0m                 trained_word_count_epoch, raw_word_count_epoch, job_tally_epoch = self._train_epoch_corpusfile(\n",
      "\u001b[0;32m~/anaconda3/envs/competition-py36/lib/python3.6/site-packages/gensim/models/base_any2vec.py\u001b[0m in \u001b[0;36m_train_epoch\u001b[0;34m(self, data_iterable, cur_epoch, total_examples, total_words, queue_factor, report_delay)\u001b[0m\n\u001b[1;32m    487\u001b[0m         trained_word_count, raw_word_count, job_tally = self._log_epoch_progress(\n\u001b[1;32m    488\u001b[0m             \u001b[0mprogress_queue\u001b[0m\u001b[0;34m,\u001b[0m \u001b[0mjob_queue\u001b[0m\u001b[0;34m,\u001b[0m \u001b[0mcur_epoch\u001b[0m\u001b[0;34m=\u001b[0m\u001b[0mcur_epoch\u001b[0m\u001b[0;34m,\u001b[0m \u001b[0mtotal_examples\u001b[0m\u001b[0;34m=\u001b[0m\u001b[0mtotal_examples\u001b[0m\u001b[0;34m,\u001b[0m \u001b[0mtotal_words\u001b[0m\u001b[0;34m=\u001b[0m\u001b[0mtotal_words\u001b[0m\u001b[0;34m,\u001b[0m\u001b[0;34m\u001b[0m\u001b[0;34m\u001b[0m\u001b[0m\n\u001b[0;32m--> 489\u001b[0;31m             report_delay=report_delay, is_corpus_file_mode=False)\n\u001b[0m\u001b[1;32m    490\u001b[0m \u001b[0;34m\u001b[0m\u001b[0m\n\u001b[1;32m    491\u001b[0m         \u001b[0;32mreturn\u001b[0m \u001b[0mtrained_word_count\u001b[0m\u001b[0;34m,\u001b[0m \u001b[0mraw_word_count\u001b[0m\u001b[0;34m,\u001b[0m \u001b[0mjob_tally\u001b[0m\u001b[0;34m\u001b[0m\u001b[0;34m\u001b[0m\u001b[0m\n",
      "\u001b[0;32m~/anaconda3/envs/competition-py36/lib/python3.6/site-packages/gensim/models/base_any2vec.py\u001b[0m in \u001b[0;36m_log_epoch_progress\u001b[0;34m(self, progress_queue, job_queue, cur_epoch, total_examples, total_words, report_delay, is_corpus_file_mode)\u001b[0m\n\u001b[1;32m    344\u001b[0m \u001b[0;34m\u001b[0m\u001b[0m\n\u001b[1;32m    345\u001b[0m         \u001b[0;32mwhile\u001b[0m \u001b[0munfinished_worker_count\u001b[0m \u001b[0;34m>\u001b[0m \u001b[0;36m0\u001b[0m\u001b[0;34m:\u001b[0m\u001b[0;34m\u001b[0m\u001b[0;34m\u001b[0m\u001b[0m\n\u001b[0;32m--> 346\u001b[0;31m             \u001b[0mreport\u001b[0m \u001b[0;34m=\u001b[0m \u001b[0mprogress_queue\u001b[0m\u001b[0;34m.\u001b[0m\u001b[0mget\u001b[0m\u001b[0;34m(\u001b[0m\u001b[0;34m)\u001b[0m  \u001b[0;31m# blocks if workers too slow\u001b[0m\u001b[0;34m\u001b[0m\u001b[0;34m\u001b[0m\u001b[0m\n\u001b[0m\u001b[1;32m    347\u001b[0m             \u001b[0;32mif\u001b[0m \u001b[0mreport\u001b[0m \u001b[0;32mis\u001b[0m \u001b[0;32mNone\u001b[0m\u001b[0;34m:\u001b[0m  \u001b[0;31m# a thread reporting that it finished\u001b[0m\u001b[0;34m\u001b[0m\u001b[0;34m\u001b[0m\u001b[0m\n\u001b[1;32m    348\u001b[0m                 \u001b[0munfinished_worker_count\u001b[0m \u001b[0;34m-=\u001b[0m \u001b[0;36m1\u001b[0m\u001b[0;34m\u001b[0m\u001b[0;34m\u001b[0m\u001b[0m\n",
      "\u001b[0;32m~/anaconda3/envs/competition-py36/lib/python3.6/queue.py\u001b[0m in \u001b[0;36mget\u001b[0;34m(self, block, timeout)\u001b[0m\n\u001b[1;32m    162\u001b[0m             \u001b[0;32melif\u001b[0m \u001b[0mtimeout\u001b[0m \u001b[0;32mis\u001b[0m \u001b[0;32mNone\u001b[0m\u001b[0;34m:\u001b[0m\u001b[0;34m\u001b[0m\u001b[0;34m\u001b[0m\u001b[0m\n\u001b[1;32m    163\u001b[0m                 \u001b[0;32mwhile\u001b[0m \u001b[0;32mnot\u001b[0m \u001b[0mself\u001b[0m\u001b[0;34m.\u001b[0m\u001b[0m_qsize\u001b[0m\u001b[0;34m(\u001b[0m\u001b[0;34m)\u001b[0m\u001b[0;34m:\u001b[0m\u001b[0;34m\u001b[0m\u001b[0;34m\u001b[0m\u001b[0m\n\u001b[0;32m--> 164\u001b[0;31m                     \u001b[0mself\u001b[0m\u001b[0;34m.\u001b[0m\u001b[0mnot_empty\u001b[0m\u001b[0;34m.\u001b[0m\u001b[0mwait\u001b[0m\u001b[0;34m(\u001b[0m\u001b[0;34m)\u001b[0m\u001b[0;34m\u001b[0m\u001b[0;34m\u001b[0m\u001b[0m\n\u001b[0m\u001b[1;32m    165\u001b[0m             \u001b[0;32melif\u001b[0m \u001b[0mtimeout\u001b[0m \u001b[0;34m<\u001b[0m \u001b[0;36m0\u001b[0m\u001b[0;34m:\u001b[0m\u001b[0;34m\u001b[0m\u001b[0;34m\u001b[0m\u001b[0m\n\u001b[1;32m    166\u001b[0m                 \u001b[0;32mraise\u001b[0m \u001b[0mValueError\u001b[0m\u001b[0;34m(\u001b[0m\u001b[0;34m\"'timeout' must be a non-negative number\"\u001b[0m\u001b[0;34m)\u001b[0m\u001b[0;34m\u001b[0m\u001b[0;34m\u001b[0m\u001b[0m\n",
      "\u001b[0;32m~/anaconda3/envs/competition-py36/lib/python3.6/threading.py\u001b[0m in \u001b[0;36mwait\u001b[0;34m(self, timeout)\u001b[0m\n\u001b[1;32m    293\u001b[0m         \u001b[0;32mtry\u001b[0m\u001b[0;34m:\u001b[0m    \u001b[0;31m# restore state no matter what (e.g., KeyboardInterrupt)\u001b[0m\u001b[0;34m\u001b[0m\u001b[0;34m\u001b[0m\u001b[0m\n\u001b[1;32m    294\u001b[0m             \u001b[0;32mif\u001b[0m \u001b[0mtimeout\u001b[0m \u001b[0;32mis\u001b[0m \u001b[0;32mNone\u001b[0m\u001b[0;34m:\u001b[0m\u001b[0;34m\u001b[0m\u001b[0;34m\u001b[0m\u001b[0m\n\u001b[0;32m--> 295\u001b[0;31m                 \u001b[0mwaiter\u001b[0m\u001b[0;34m.\u001b[0m\u001b[0macquire\u001b[0m\u001b[0;34m(\u001b[0m\u001b[0;34m)\u001b[0m\u001b[0;34m\u001b[0m\u001b[0;34m\u001b[0m\u001b[0m\n\u001b[0m\u001b[1;32m    296\u001b[0m                 \u001b[0mgotit\u001b[0m \u001b[0;34m=\u001b[0m \u001b[0;32mTrue\u001b[0m\u001b[0;34m\u001b[0m\u001b[0;34m\u001b[0m\u001b[0m\n\u001b[1;32m    297\u001b[0m             \u001b[0;32melse\u001b[0m\u001b[0;34m:\u001b[0m\u001b[0;34m\u001b[0m\u001b[0;34m\u001b[0m\u001b[0m\n",
      "\u001b[0;31mKeyboardInterrupt\u001b[0m: "
     ]
    }
   ],
   "source": [
    "model = Word2Vec(**params)"
   ]
  },
  {
   "cell_type": "code",
   "execution_count": 13,
   "metadata": {},
   "outputs": [
    {
     "name": "stderr",
     "output_type": "stream",
     "text": [
      "2020-06-17 14:08:18,700 : INFO : loading Word2Vec object from /home/baode/huangzc/tencent/model_ckpt/gensim/model_ad_id.txt\n",
      "2020-06-17 14:08:25,354 : INFO : loading wv recursively from /home/baode/huangzc/tencent/model_ckpt/gensim/model_ad_id.txt.wv.* with mmap=None\n",
      "2020-06-17 14:08:25,356 : INFO : loading vectors from /home/baode/huangzc/tencent/model_ckpt/gensim/model_ad_id.txt.wv.vectors.npy with mmap=None\n",
      "2020-06-17 14:08:25,807 : INFO : setting ignored attribute vectors_norm to None\n",
      "2020-06-17 14:08:25,809 : INFO : loading vocabulary recursively from /home/baode/huangzc/tencent/model_ckpt/gensim/model_ad_id.txt.vocabulary.* with mmap=None\n",
      "2020-06-17 14:08:25,810 : INFO : loading trainables recursively from /home/baode/huangzc/tencent/model_ckpt/gensim/model_ad_id.txt.trainables.* with mmap=None\n",
      "2020-06-17 14:08:25,810 : INFO : loading syn1neg from /home/baode/huangzc/tencent/model_ckpt/gensim/model_ad_id.txt.trainables.syn1neg.npy with mmap=None\n",
      "2020-06-17 14:08:26,204 : INFO : setting ignored attribute cum_table to None\n",
      "2020-06-17 14:08:26,205 : INFO : loaded /home/baode/huangzc/tencent/model_ckpt/gensim/model_ad_id.txt\n"
     ]
    }
   ],
   "source": [
    "# ### Restore Model\n",
    "# # #####################################\n",
    "save_path = '/home/baode/huangzc/tencent/model_ckpt/gensim/model_%s.txt'%TARGET\n",
    "model = Word2Vec.load(save_path)"
   ]
  },
  {
   "cell_type": "markdown",
   "metadata": {},
   "source": [
    "### 新方法"
   ]
  },
  {
   "cell_type": "code",
   "execution_count": 14,
   "metadata": {},
   "outputs": [],
   "source": [
    "vocab = model.wv.index2word"
   ]
  },
  {
   "cell_type": "code",
   "execution_count": 15,
   "metadata": {},
   "outputs": [],
   "source": [
    "vocab_dict = dict(zip(vocab, list(range(len(vocab)))))"
   ]
  },
  {
   "cell_type": "code",
   "execution_count": 16,
   "metadata": {},
   "outputs": [],
   "source": [
    "f = open(TRAIN_DIR+'gensim_%s_dict.js'%TARGET,'w')\n",
    "f.write(str(vocab_dict))\n",
    "f.close()"
   ]
  },
  {
   "cell_type": "code",
   "execution_count": 17,
   "metadata": {},
   "outputs": [],
   "source": [
    "wv_matrix = model.wv.vectors"
   ]
  },
  {
   "cell_type": "code",
   "execution_count": 18,
   "metadata": {},
   "outputs": [],
   "source": [
    "np.save(TRAIN_DIR+'gensim_%s.npy'%TARGET, wv_matrix)"
   ]
  },
  {
   "cell_type": "code",
   "execution_count": 19,
   "metadata": {},
   "outputs": [
    {
     "data": {
      "text/plain": [
       "(1977176, 128)"
      ]
     },
     "execution_count": 19,
     "metadata": {},
     "output_type": "execute_result"
    }
   ],
   "source": [
    "wv_matrix.shape"
   ]
  },
  {
   "cell_type": "code",
   "execution_count": null,
   "metadata": {},
   "outputs": [],
   "source": []
  }
 ],
 "metadata": {
  "kernelspec": {
   "display_name": "Python 3",
   "language": "python",
   "name": "python3"
  },
  "language_info": {
   "codemirror_mode": {
    "name": "ipython",
    "version": 3
   },
   "file_extension": ".py",
   "mimetype": "text/x-python",
   "name": "python",
   "nbconvert_exporter": "python",
   "pygments_lexer": "ipython3",
   "version": "3.6.10"
  }
 },
 "nbformat": 4,
 "nbformat_minor": 4
}
