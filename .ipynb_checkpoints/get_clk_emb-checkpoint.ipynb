{
 "cells": [
  {
   "cell_type": "code",
   "execution_count": 1,
   "metadata": {},
   "outputs": [],
   "source": [
    "import gensim\n",
    "import pandas as pd\n",
    "from config import *\n",
    "from tools import *\n",
    "from gensim.models import Word2Vec\n",
    "from gensim.models.callbacks import CallbackAny2Vec\n",
    "import matplotlib.pyplot as plt\n",
    "from IPython.display import clear_output"
   ]
  },
  {
   "cell_type": "code",
   "execution_count": 2,
   "metadata": {},
   "outputs": [],
   "source": [
    "import logging\n",
    "logging.basicConfig(format='%(asctime)s : %(levelname)s : %(message)s', level=logging.INFO)"
   ]
  },
  {
   "cell_type": "code",
   "execution_count": 3,
   "metadata": {},
   "outputs": [],
   "source": [
    "TARGET = 'creative_id'"
   ]
  },
  {
   "cell_type": "code",
   "execution_count": 4,
   "metadata": {},
   "outputs": [],
   "source": [
    "tr_clk_list_df = pd.read_pickle(TRAIN_DIR+CLK_PATH_DICT[TARGET])\n",
    "ts_clk_list_df = pd.read_pickle(TEST_DIR+CLK_PATH_DICT[TARGET])"
   ]
  },
  {
   "cell_type": "code",
   "execution_count": 5,
   "metadata": {},
   "outputs": [],
   "source": [
    "grid_df = pd.concat([tr_clk_list_df, ts_clk_list_df], axis=0)\n",
    "del tr_clk_list_df, ts_clk_list_df"
   ]
  },
  {
   "cell_type": "code",
   "execution_count": 6,
   "metadata": {},
   "outputs": [],
   "source": [
    "grid_df[TARGET] = grid_df[TARGET].map(lambda x: list(map(str, x)))"
   ]
  },
  {
   "cell_type": "code",
   "execution_count": 7,
   "metadata": {},
   "outputs": [],
   "source": [
    "sentences = grid_df[TARGET].values.tolist()"
   ]
  },
  {
   "cell_type": "code",
   "execution_count": 8,
   "metadata": {},
   "outputs": [],
   "source": [
    "class loss(object):\n",
    "    def __init__(self):\n",
    "        self.loss_list = []"
   ]
  },
  {
   "cell_type": "code",
   "execution_count": 13,
   "metadata": {},
   "outputs": [],
   "source": [
    "### Gensim callback\n",
    "#####################################\n",
    "class callback(CallbackAny2Vec):\n",
    "    '''Callback to print loss after each epoch.'''\n",
    "\n",
    "    def __init__(self):\n",
    "        self.epoch = 0\n",
    "        self.loss = loss()\n",
    "\n",
    "    def on_epoch_end(self, model):\n",
    "        clear_output(wait=True)\n",
    "        loss = model.get_latest_training_loss()\n",
    "        \n",
    "        self.loss.loss_list.append(loss)\n",
    "        ### show loss\n",
    "        if len(self.loss.loss_list) > 1:\n",
    "            tmp = np.array(self.loss.loss_list)\n",
    "            plt.plot(tmp[1:]-tmp[:-1])\n",
    "            plt.show()\n",
    "            \n",
    "        print('loss list: ', self.loss.loss_list)\n",
    "        print('Loss after epoch {}: {}'.format(self.epoch, loss))\n",
    "        model.save('/home/baode/data1/huangzc/tencent/model_ckpt/gensim/model_%s.txt'%TARGET)\n",
    "        self.epoch += 1"
   ]
  },
  {
   "cell_type": "code",
   "execution_count": 14,
   "metadata": {},
   "outputs": [
    {
     "name": "stdout",
     "output_type": "stream",
     "text": [
      "72\n"
     ]
    }
   ],
   "source": [
    "N_CORES = os.cpu_count()\n",
    "print(N_CORES)"
   ]
  },
  {
   "cell_type": "code",
   "execution_count": 15,
   "metadata": {},
   "outputs": [],
   "source": [
    "### Gensim Parameter\n",
    "######################################\n",
    "params = {'sentences': sentences,\n",
    "          'size': 128,\n",
    "          'window': 8,\n",
    "          'min_count': 2,\n",
    "          'compute_loss': True,\n",
    "          'sample': 0.0001,\n",
    "          'iter': 200,\n",
    "          'workers': N_CORES,\n",
    "          'callbacks': [callback()]}"
   ]
  },
  {
   "cell_type": "code",
   "execution_count": 16,
   "metadata": {
    "scrolled": true
   },
   "outputs": [
    {
     "data": {
      "image/png": "[encoded data removed]",
      "text/plain": [
       "<Figure size 432x288 with 1 Axes>"
      ]
     },
     "metadata": {
      "needs_background": "light"
     },
     "output_type": "display_data"
    },
    {
     "name": "stderr",
     "output_type": "stream",
     "text": [
      "2020-06-20 04:33:18,550 : INFO : saving Word2Vec object under /home/baode/data1/huangzc/tencent/model_ckpt/gensim/model_creative_id.txt, separately None\n",
      "2020-06-20 04:33:18,550 : INFO : storing np array 'vectors' to /home/baode/data1/huangzc/tencent/model_ckpt/gensim/model_creative_id.txt.wv.vectors.npy\n"
     ]
    },
    {
     "name": "stdout",
     "output_type": "stream",
     "text": [
      "loss list:  [2160111.5, 3604709.0, 4876562.0, 6027363.0, 7102294.5, 8134846.0, 9022428.0, 9901481.0, 10765807.0, 11629389.0, 12436707.0, 13251435.0, 14045672.0, 14822061.0, 15553498.0, 16315361.0, 17034422.0, 17603636.0, 18163104.0, 18741388.0, 19327852.0, 19918204.0, 20487164.0, 21040106.0, 21580172.0, 22141894.0, 22681578.0, 23237852.0, 23788896.0, 24310562.0, 24855094.0, 25407520.0, 25929218.0, 26450346.0, 26974230.0, 27505234.0, 28013104.0, 28553350.0, 29052648.0, 29553146.0, 30060388.0, 30559558.0, 31055994.0, 31539496.0, 32028860.0, 32537470.0, 33046054.0, 33537496.0, 33863264.0, 34181612.0, 34509704.0, 34836320.0, 35175632.0, 35487388.0, 35795212.0, 36108204.0, 36422748.0, 36733068.0, 37070308.0, 37382940.0, 37715716.0, 38054956.0, 38372164.0, 38695464.0, 39005420.0, 39320128.0, 39634164.0, 39941420.0, 40253024.0, 40570464.0, 40884756.0, 41195216.0, 41504172.0, 41805320.0, 42131184.0, 42434004.0, 42745680.0, 43063448.0, 43361408.0, 43659672.0, 43952900.0, 44252052.0, 44558984.0, 44851948.0, 45158032.0, 45468076.0, 45775132.0, 46083664.0, 46381544.0, 46683476.0, 46973856.0, 47265480.0, 47556036.0, 47847384.0, 48151580.0, 48438316.0, 48729356.0, 49016464.0, 49309732.0, 49591716.0, 49873936.0, 50149544.0, 50434200.0, 50707960.0, 51006644.0, 51283628.0, 51570692.0, 51855488.0, 52128556.0, 52409560.0, 52684396.0, 52964096.0, 53256348.0, 53553368.0, 53845760.0, 54121772.0, 54397508.0, 54661392.0, 54926760.0, 55190324.0, 55462592.0, 55750776.0, 56023364.0, 56303740.0, 56574380.0, 56837376.0, 57114828.0, 57400316.0, 57666956.0, 57946976.0, 58209844.0, 58484700.0, 58756540.0, 59039924.0, 59300464.0, 59571580.0, 59828912.0, 60099224.0, 60372008.0, 60649184.0, 60909908.0, 61174812.0, 61441196.0, 61712112.0, 61969976.0, 62227380.0, 62488852.0, 62746876.0, 63003120.0, 63262308.0, 63515248.0, 63767008.0, 64019516.0, 64280860.0, 64539664.0, 64787424.0, 65044872.0, 65297060.0, 65550488.0, 65797912.0, 66050408.0, 66307192.0, 66551756.0, 66795144.0, 67040684.0, 67175288.0, 67266712.0, 67365712.0, 67460992.0, 67551480.0, 67646296.0, 67740168.0, 67834440.0, 67927776.0, 68017976.0, 68103600.0, 68192800.0, 68285888.0, 68371136.0, 68457728.0, 68547312.0, 68634232.0, 68718648.0, 68802904.0, 68886144.0, 68969664.0, 69053992.0, 69135832.0, 69221656.0, 69298088.0, 69379568.0, 69458136.0, 69540176.0, 69618704.0, 69700344.0, 69777800.0, 69857048.0, 69934544.0, 70012808.0, 70087312.0]\n",
      "Loss after epoch 199: 70087312.0\n"
     ]
    },
    {
     "name": "stderr",
     "output_type": "stream",
     "text": [
      "2020-06-20 04:33:19,385 : INFO : not storing attribute vectors_norm\n",
      "2020-06-20 04:33:19,386 : INFO : storing np array 'syn1neg' to /home/baode/data1/huangzc/tencent/model_ckpt/gensim/model_creative_id.txt.trainables.syn1neg.npy\n",
      "2020-06-20 04:33:21,583 : INFO : not storing attribute cum_table\n",
      "2020-06-20 04:33:26,323 : INFO : saved /home/baode/data1/huangzc/tencent/model_ckpt/gensim/model_creative_id.txt\n",
      "2020-06-20 04:33:26,325 : INFO : training on a 12733602800 raw words (11726914555 effective words) took 16185.1s, 724551 effective words/s\n"
     ]
    }
   ],
   "source": [
    "model = Word2Vec(**params)"
   ]
  },
  {
   "cell_type": "code",
   "execution_count": 17,
   "metadata": {},
   "outputs": [
    {
     "name": "stderr",
     "output_type": "stream",
     "text": [
      "2020-06-20 08:41:40,645 : INFO : loading Word2Vec object from /home/baode/data1/huangzc/tencent/model_ckpt/gensim/model_creative_id.txt\n",
      "2020-06-20 08:41:49,521 : INFO : loading wv recursively from /home/baode/data1/huangzc/tencent/model_ckpt/gensim/model_creative_id.txt.wv.* with mmap=None\n",
      "2020-06-20 08:41:49,522 : INFO : loading vectors from /home/baode/data1/huangzc/tencent/model_ckpt/gensim/model_creative_id.txt.wv.vectors.npy with mmap=None\n",
      "2020-06-20 08:41:49,945 : INFO : setting ignored attribute vectors_norm to None\n",
      "2020-06-20 08:41:49,946 : INFO : loading vocabulary recursively from /home/baode/data1/huangzc/tencent/model_ckpt/gensim/model_creative_id.txt.vocabulary.* with mmap=None\n",
      "2020-06-20 08:41:49,946 : INFO : loading trainables recursively from /home/baode/data1/huangzc/tencent/model_ckpt/gensim/model_creative_id.txt.trainables.* with mmap=None\n",
      "2020-06-20 08:41:49,947 : INFO : loading syn1neg from /home/baode/data1/huangzc/tencent/model_ckpt/gensim/model_creative_id.txt.trainables.syn1neg.npy with mmap=None\n",
      "2020-06-20 08:41:50,371 : INFO : setting ignored attribute cum_table to None\n",
      "2020-06-20 08:41:50,372 : INFO : loaded /home/baode/data1/huangzc/tencent/model_ckpt/gensim/model_creative_id.txt\n"
     ]
    }
   ],
   "source": [
    "# ### Restore Model\n",
    "# # #####################################\n",
    "save_path = '/home/baode/data1/huangzc/tencent/model_ckpt/gensim/model_%s.txt'%TARGET\n",
    "model = Word2Vec.load(save_path)"
   ]
  },
  {
   "cell_type": "markdown",
   "metadata": {},
   "source": [
    "### 新方法"
   ]
  },
  {
   "cell_type": "code",
   "execution_count": 18,
   "metadata": {},
   "outputs": [],
   "source": [
    "vocab = model.wv.index2word"
   ]
  },
  {
   "cell_type": "code",
   "execution_count": 19,
   "metadata": {},
   "outputs": [],
   "source": [
    "vocab_dict = dict(zip(vocab, list(range(len(vocab)))))"
   ]
  },
  {
   "cell_type": "code",
   "execution_count": 20,
   "metadata": {},
   "outputs": [],
   "source": [
    "f = open(TRAIN_DIR+'gensim_%s_dict.js'%TARGET,'w')\n",
    "f.write(str(vocab_dict))\n",
    "f.close()"
   ]
  },
  {
   "cell_type": "code",
   "execution_count": 21,
   "metadata": {},
   "outputs": [],
   "source": [
    "wv_matrix = model.wv.vectors"
   ]
  },
  {
   "cell_type": "code",
   "execution_count": 22,
   "metadata": {},
   "outputs": [],
   "source": [
    "np.save(TRAIN_DIR+'gensim_%s.npy'%TARGET, wv_matrix)"
   ]
  },
  {
   "cell_type": "code",
   "execution_count": 23,
   "metadata": {},
   "outputs": [
    {
     "data": {
      "text/plain": [
       "(2086585, 128)"
      ]
     },
     "execution_count": 23,
     "metadata": {},
     "output_type": "execute_result"
    }
   ],
   "source": [
    "wv_matrix.shape"
   ]
  },
  {
   "cell_type": "code",
   "execution_count": null,
   "metadata": {},
   "outputs": [],
   "source": []
  }
 ],
 "metadata": {
  "kernelspec": {
   "display_name": "Python 3",
   "language": "python",
   "name": "python3"
  },
  "language_info": {
   "codemirror_mode": {
    "name": "ipython",
    "version": 3
   },
   "file_extension": ".py",
   "mimetype": "text/x-python",
   "name": "python",
   "nbconvert_exporter": "python",
   "pygments_lexer": "ipython3",
   "version": "3.6.10"
  }
 },
 "nbformat": 4,
 "nbformat_minor": 4
}
